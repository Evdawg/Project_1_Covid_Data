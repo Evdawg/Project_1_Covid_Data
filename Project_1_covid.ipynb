{
 "cells": [
  {
   "cell_type": "markdown",
   "id": "e5917f93",
   "metadata": {},
   "source": [
    "# A Comparison of State Use of SFLRF Funds for Vaccination Programs and Vaccination Rates in Each State\n",
    "\n"
   ]
  },
  {
   "cell_type": "markdown",
   "id": "6e532e8b",
   "metadata": {},
   "source": [
    "### Data Sources:\n",
    "CDC - \"COVID-19 Vaccinations in the United States, Jurisdiction\"\n",
    "csv downloaded 5/11/23\n",
    "https://data.cdc.gov/Vaccinations/COVID-19-Vaccinations-in-the-United-States-Jurisdi/unsk-b7fc\n",
    "\n",
    "EARN/EPI - \"EARN SLFRF Workbook for Q4 2022\" compiled by Dave Kamper of the Economic Policy Institute (dkamper@epi.org) from Treasury reports by states and local jurisidictions who received funding, and other data sources as detailed in the workbook."
   ]
  },
  {
   "cell_type": "code",
   "execution_count": null,
   "id": "5b75c647",
   "metadata": {},
   "outputs": [],
   "source": [
    "# import dependencies and setup\n",
    "import matplotlib.pyplot as plt\n",
    "import numpy as np\n",
    "import pandas as pd\n",
    "from pprint import pprint\n",
    "from pathlib import Path\n"
   ]
  },
  {
   "cell_type": "markdown",
   "id": "b23002fa",
   "metadata": {},
   "source": [
    "## Production Code (Team: Put your code here after it is complete and ready to go)"
   ]
  },
  {
   "cell_type": "code",
   "execution_count": null,
   "id": "7cadda1f",
   "metadata": {},
   "outputs": [],
   "source": []
  },
  {
   "cell_type": "markdown",
   "id": "4c8d5e33",
   "metadata": {},
   "source": [
    "## Evan Work Area"
   ]
  },
  {
   "cell_type": "code",
   "execution_count": null,
   "id": "04f96624",
   "metadata": {},
   "outputs": [],
   "source": [
    "# Load csv file(s)\n",
    "all_states_sheet = Path(\"Resources/EARN_all_states.csv\")\n",
    "\n",
    "\n",
    "# Read csv file(s) as a DataFrame\n",
    "all_states_df = pd.read_csv(all_states_sheet)\n",
    "\n",
    "\n",
    "# merge csv files (if applicable)\n",
    "\n",
    "\n",
    "# preview the raw DataFrame\n",
    "all_states_df.head()"
   ]
  },
  {
   "cell_type": "code",
   "execution_count": null,
   "id": "60e9d849",
   "metadata": {},
   "outputs": [],
   "source": [
    "# Brainstorm a list of words to filter the 'Project Description' column by.\n",
    "    ## this list will be used to filter that column so that we are only working with projects that\n",
    "    ## are actually covid related.\n",
    "    \n",
    "search_term_list = #[covid, vaccine, ...]\n"
   ]
  },
  {
   "cell_type": "code",
   "execution_count": null,
   "id": "ff52e75b",
   "metadata": {},
   "outputs": [],
   "source": [
    "# Filter the dataframe column 'Project Description'\n",
    "\n",
    "vaccine_projects_df = #all_states_df.<filter function syntax here> ...if ['Project Description'] == search_term_list\n",
    "\n",
    "# preview the 'filtered' dataframe:\n",
    "vaccine_projects_df.head()\n"
   ]
  },
  {
   "cell_type": "code",
   "execution_count": null,
   "id": "40afc953",
   "metadata": {},
   "outputs": [],
   "source": [
    "# Try to group the filtered dataframe by state, summing applicable $ value columns\n",
    "    ## if we get errors, then we need to clean columns causing errors. \n",
    "    ## eg) 'Adopted Budget' column has values containing \"-\". This might prevent the .sum() function from working\n",
    "\n",
    "state_spending_df = # vaccine_projects_df.groupby(['State/Territory']).sum(['Adopted Budget', 'Total Cumulative Obligations', 'Total Cumulative Expenditures'])\n",
    "\n"
   ]
  },
  {
   "cell_type": "markdown",
   "id": "6a495b70",
   "metadata": {},
   "source": [
    "## Data Exploration and Cleanup:\n",
    "- Describe here the group's data sets and how they were cleaned for analysis"
   ]
  },
  {
   "cell_type": "markdown",
   "id": "7a67af96",
   "metadata": {},
   "source": [
    "# Greg Work Area"
   ]
  },
  {
   "cell_type": "markdown",
   "id": "0fc434f9",
   "metadata": {},
   "source": [
    "### CDC Data"
   ]
  },
  {
   "cell_type": "code",
   "execution_count": null,
   "id": "07a92a2e",
   "metadata": {},
   "outputs": [],
   "source": [
    "#Import libraries\n",
    "import pandas as pd\n",
    "import numpy as np\n",
    "import matplotlib.pyplot as plt\n",
    "from scipy.stats import linregress\n",
    "import scipy.stats as st\n",
    "import seaborn as sns"
   ]
  },
  {
   "cell_type": "code",
   "execution_count": null,
   "id": "149a9e6a",
   "metadata": {},
   "outputs": [],
   "source": [
    "#Import vaccination data from csv\n",
    "vac_df = pd.read_csv('COVID-19_Vaccinations_in_the_United_States_Jurisdiction.csv')"
   ]
  },
  {
   "cell_type": "code",
   "execution_count": null,
   "id": "000058b0",
   "metadata": {},
   "outputs": [],
   "source": [
    "#function formats the CDC dataframe for US jursdictions - see below for input formats\n",
    "def CDC_format(df,key,date,add_str,drop_values): #key, filt -> str; length -> int; columns, drop_values -> list\n",
    "    df = df.dropna(subset=[key])\n",
    "    df = df[vac_df['Date'] == date]\n",
    "    df = df[~df[key].isin(drop_values)]\n",
    "    df[key] = add_str + vac_df[key].astype(str)\n",
    "    df.reset_index(drop = True, inplace = True)\n",
    "    return df"
   ]
  },
  {
   "cell_type": "code",
   "execution_count": null,
   "id": "0cddbb39",
   "metadata": {},
   "outputs": [],
   "source": [
    "drop = ['DD2','FM','AS','VI','BP2','IH2','GU','PN','PR','VA2','PW','US','MP','MH']\n",
    "vac_df = CDC_format(vac_df,'Location','12/28/2022','US_',drop)"
   ]
  },
  {
   "cell_type": "code",
   "execution_count": null,
   "id": "d285a3d8",
   "metadata": {},
   "outputs": [],
   "source": [
    "vac_df"
   ]
  },
  {
   "cell_type": "markdown",
   "id": "afe4fd3d",
   "metadata": {},
   "source": [
    "# Joanna Work Area"
   ]
  },
  {
   "cell_type": "code",
   "execution_count": null,
   "id": "e0923418",
   "metadata": {},
   "outputs": [],
   "source": []
  },
  {
   "cell_type": "markdown",
   "id": "759f294c",
   "metadata": {},
   "source": [
    "# Kendal Work Area"
   ]
  },
  {
   "cell_type": "code",
   "execution_count": null,
   "id": "2f23aedb",
   "metadata": {},
   "outputs": [],
   "source": [
    "#putting Greg's code down here so I can run my area independently of the rest of the sheet without error\n",
    "#Import libraries\n",
    "import pandas as pd\n",
    "import numpy as np\n",
    "import matplotlib.pyplot as plt \n",
    "from scipy.stats import linregress\n",
    "import scipy.stats as st\n",
    "import seaborn as sns\n",
    "import plotly.express as px\n",
    "import plotly.graph_objects as go"
   ]
  },
  {
   "cell_type": "code",
   "execution_count": null,
   "id": "3956541e",
   "metadata": {},
   "outputs": [],
   "source": [
    "#Import vaccination data from csv\n",
    "vac_df = pd.read_csv('COVID-19_Vaccinations_in_the_United_States_Jurisdiction.csv')"
   ]
  },
  {
   "cell_type": "code",
   "execution_count": null,
   "id": "1227f1b0",
   "metadata": {},
   "outputs": [],
   "source": [
    "#function formats the CDC dataframe for US jursdictions - see below for input formats\n",
    "def CDC_format(df,key,date,add_str,drop_values): #key, filt -> str; length -> int; columns, drop_values -> list\n",
    "    df = df.dropna(subset=[key])\n",
    "    df = df[vac_df['Date'] == date]\n",
    "    df = df[~df[key].isin(drop_values)]\n",
    "    df[key] = add_str + vac_df[key].astype(str)\n",
    "    df.reset_index(drop = True, inplace = True)\n",
    "    return df"
   ]
  },
  {
   "cell_type": "code",
   "execution_count": null,
   "id": "56566f3b",
   "metadata": {},
   "outputs": [],
   "source": [
    "#drop non-state territories from dataframe\n",
    "drop = ['DD2','FM','AS','VI','BP2','IH2','GU','PN','PR','VA2','PW','US','MP','MH']\n",
    "vac_df = CDC_format(vac_df,'Location','12/28/2022','US_',drop)"
   ]
  },
  {
   "cell_type": "code",
   "execution_count": null,
   "id": "aafe1756",
   "metadata": {},
   "outputs": [],
   "source": [
    "#change location to match state code for choropleth maps\n",
    "vac_df['Location'] = vac_df['Location'].str.replace('US_', '')\n",
    "vac_df = vac_df.rename(columns={'Series_Complete_Pop_Pct':'Percentage of Population Fully Vaccinated',\n",
    "                            'Administered_Dose1_Pop_Pct':'% of Population with at least 1 dose',\n",
    "                            'Series_Complete_65PlusPop_Pct': '% of Population Fully Vaccinated (65+)',\n",
    "                            'Bivalent_Booster_65Plus_Pop_Pct': '% of Population with bivalent booster (65+)'}) "
   ]
  },
  {
   "cell_type": "code",
   "execution_count": null,
   "id": "70bc1504",
   "metadata": {},
   "outputs": [],
   "source": [
    "#Go.choropleth method (https://plotly.com/python/choropleth-maps/)\n",
    "fig = go.Figure(data=go.Choropleth(\n",
    "    locations=vac_df['Location'], # Spatial coordinates\n",
    "    z = vac_df['Percentage of Population Fully Vaccinated'].astype(float), # Data to be color-coded\n",
    "    locationmode = 'USA-states', # set of locations match entries in `locations`\n",
    "    colorscale = 'Viridis',\n",
    "    colorbar_title = \"Percentage of Population Fully Vaccinated\",\n",
    "))\n",
    "\n",
    "fig.update_layout(\n",
    "    title_text = 'Vaccination Rates by State',\n",
    "    geo_scope='usa', # limite map scope to USA\n",
    ")\n",
    "\n",
    "fig.show()"
   ]
  },
  {
   "cell_type": "code",
   "execution_count": null,
   "id": "09f1b76a",
   "metadata": {},
   "outputs": [],
   "source": [
    "fig_complete_total_pop = px.choropleth(vac_df,\n",
    "                    locations='Location',\n",
    "                    locationmode=\"USA-states\",\n",
    "                    scope=\"usa\",\n",
    "                    color='Percentage of Population Fully Vaccinated',\n",
    "                    color_continuous_scale=\"aggrnyl\",\n",
    "                    )"
   ]
  },
  {
   "cell_type": "code",
   "execution_count": null,
   "id": "3cb98905",
   "metadata": {},
   "outputs": [],
   "source": [
    "fig_at_least_1 = px.choropleth(vac_df,\n",
    "                    locations='Location',\n",
    "                    locationmode=\"USA-states\",\n",
    "                    scope=\"usa\",\n",
    "                    color='% of Population with at least 1 dose',\n",
    "                    color_continuous_scale=\"twilight\",\n",
    "                    )"
   ]
  },
  {
   "cell_type": "code",
   "execution_count": null,
   "id": "b3cfce30",
   "metadata": {},
   "outputs": [],
   "source": [
    "fig_complete_65_plus = px.choropleth(vac_df,\n",
    "                    locations='Location',\n",
    "                    locationmode=\"USA-states\",\n",
    "                    scope=\"usa\",\n",
    "                    color='% of Population Fully Vaccinated (65+)',\n",
    "                    color_continuous_scale=\"algae\",                 \n",
    "                    )"
   ]
  },
  {
   "cell_type": "code",
   "execution_count": null,
   "id": "9c562482",
   "metadata": {},
   "outputs": [],
   "source": [
    "fig_bivalent_booster_65 = px.choropleth(vac_df,\n",
    "                    locations='Location',\n",
    "                    locationmode=\"USA-states\",\n",
    "                    scope=\"usa\",\n",
    "                    color='% of Population with bivalent booster (65+)',\n",
    "                    color_continuous_scale=\"icefire\",                  \n",
    "                    )"
   ]
  },
  {
   "cell_type": "code",
   "execution_count": null,
   "id": "3fce73a6",
   "metadata": {},
   "outputs": [],
   "source": [
    "fig_complete_total_pop"
   ]
  },
  {
   "cell_type": "code",
   "execution_count": null,
   "id": "4f585998",
   "metadata": {},
   "outputs": [],
   "source": [
    "fig_at_least_1"
   ]
  },
  {
   "cell_type": "code",
   "execution_count": null,
   "id": "f0651c97",
   "metadata": {},
   "outputs": [],
   "source": [
    "fig_complete_65_plus"
   ]
  },
  {
   "cell_type": "code",
   "execution_count": null,
   "id": "b7fe8d8b",
   "metadata": {},
   "outputs": [],
   "source": [
    "fig_bivalent_booster_65"
   ]
  },
  {
   "cell_type": "code",
   "execution_count": null,
   "id": "fb008356",
   "metadata": {},
   "outputs": [],
   "source": [
    "#Making percent fully vaccinated into a list\n",
    "percent_fully_vaccinated = vac_df['Percentage of Population Fully Vaccinated'].to_numpy()\n",
    "print(percent_fully_vaccinated)"
   ]
  },
  {
   "cell_type": "code",
   "execution_count": null,
   "id": "95701f12",
   "metadata": {},
   "outputs": [],
   "source": [
    "#boxplots showing spread of data across all 50 states and DC for selected columns\n",
    "boxplot = vac_df.boxplot(column=['Percentage of Population Fully Vaccinated', \n",
    "                                 '% of Population with at least 1 dose', \n",
    "                                 '% of Population Fully Vaccinated (65+)', \n",
    "                                 '% of Population with bivalent booster (65+)'], \n",
    "                         rot=45,\n",
    "                         grid=True,\n",
    "                         figsize = (15,10),\n",
    "                        )\n",
    "plt.title(\"Distribution of Vaccination Rates Across U.S. States\")"
   ]
  },
  {
   "cell_type": "code",
   "execution_count": null,
   "id": "ef66390b",
   "metadata": {},
   "outputs": [],
   "source": [
    "#summary statistics for selected columns (across all 50 states and DC) \n",
    "vac_df_short = vac_df[['Series_Complete_Pop_Pct', 'Administered_Dose1_Pop_Pct', 'Series_Complete_65PlusPop_Pct', 'Bivalent_Booster_65Plus_Pop_Pct']]\n",
    "\n",
    "vac_df_short.describe()"
   ]
  },
  {
   "cell_type": "markdown",
   "id": "054b7c6b",
   "metadata": {},
   "source": [
    "# Sarah Work Area"
   ]
  },
  {
   "cell_type": "code",
   "execution_count": null,
   "id": "98bb9fa9",
   "metadata": {},
   "outputs": [],
   "source": []
  },
  {
   "cell_type": "code",
   "execution_count": null,
   "id": "8f270fae",
   "metadata": {},
   "outputs": [],
   "source": []
  },
  {
   "cell_type": "markdown",
   "id": "bf081595",
   "metadata": {},
   "source": [
    "# Aaliyah Work Area"
   ]
  },
  {
   "cell_type": "code",
   "execution_count": null,
   "id": "c5a0dcf8",
   "metadata": {},
   "outputs": [],
   "source": []
  }
 ],
 "metadata": {
  "kernelspec": {
   "display_name": "Python 3 (ipykernel)",
   "language": "python",
   "name": "python3"
  },
  "language_info": {
   "codemirror_mode": {
    "name": "ipython",
    "version": 3
   },
   "file_extension": ".py",
   "mimetype": "text/x-python",
   "name": "python",
   "nbconvert_exporter": "python",
   "pygments_lexer": "ipython3",
   "version": "3.9.13"
  }
 },
 "nbformat": 4,
 "nbformat_minor": 5
}

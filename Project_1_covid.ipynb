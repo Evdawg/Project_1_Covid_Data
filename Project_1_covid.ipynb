{
 "cells": [
  {
   "cell_type": "markdown",
   "id": "e5917f93",
   "metadata": {},
   "source": [
    "# A Comparison of State Use of SFLRF Funds for Vaccination Programs and Vaccination Rates in Each State\n",
    "\n"
   ]
  },
  {
   "cell_type": "markdown",
   "id": "6e532e8b",
   "metadata": {},
   "source": [
    "### Data Sources:\n",
    "CDC - \"COVID-19 Vaccinations in the United States, Jurisdiction\"\n",
    "csv downloaded 5/11/23\n",
    "https://data.cdc.gov/Vaccinations/COVID-19-Vaccinations-in-the-United-States-Jurisdi/unsk-b7fc\n",
    "\n",
    "EARN/EPI - \"EARN SLFRF Workbook for Q4 2022\" compiled by Dave Kamper of the Economic Policy Institute (dkamper@epi.org) from Treasury reports by states and local jurisidictions who received funding, and other data sources as detailed in the workbook."
   ]
  },
  {
   "cell_type": "markdown",
   "id": "b23002fa",
   "metadata": {},
   "source": [
    "## Production Code (Team: Put your code here after it is complete and ready to go)"
   ]
  },
  {
   "cell_type": "code",
   "execution_count": null,
   "id": "7cadda1f",
   "metadata": {},
   "outputs": [],
   "source": []
  },
  {
   "cell_type": "markdown",
   "id": "4c8d5e33",
   "metadata": {},
   "source": [
    "## Evan Work Area"
   ]
  },
  {
   "cell_type": "code",
   "execution_count": null,
   "id": "e874bc86",
   "metadata": {},
   "outputs": [],
   "source": [
    "# import dependencies and setup\n",
    "import matplotlib.pyplot as plt\n",
    "import numpy as np\n",
    "import pandas as pd\n",
    "from pprint import pprint\n",
    "from pathlib import Path"
   ]
  },
  {
   "cell_type": "code",
   "execution_count": null,
   "id": "04f96624",
   "metadata": {},
   "outputs": [],
   "source": [
    "# Load csv file(s)\n",
    "all_states_sheet = Path(\"Resources/EARN_all_states.csv\")\n",
    "\n",
    "\n",
    "# Read csv file(s) as a DataFrame\n",
    "all_states_df = pd.read_csv(all_states_sheet, skipinitialspace= True)\n",
    "\n",
    "\n",
    "# preview the raw DataFrame\n",
    "print(len(all_states_df['Project ID']))\n",
    "all_states_df.head()\n",
    "\n",
    "\n",
    "all_states_df.columns = all_states_df.columns.str.strip()\n",
    "\n",
    "print(all_states_df.columns)"
   ]
  },
  {
   "cell_type": "code",
   "execution_count": null,
   "id": "3133ae9d",
   "metadata": {},
   "outputs": [],
   "source": [
    "# Review list of NA values in the 'Project Description' column\n",
    "nan_values = all_states_df[all_states_df['Project Description'].isna()]\n",
    "\n",
    "# print(len(nan_values))\n",
    "print(f'There are {len(nan_values)} columns with NA values in \"Project Description\" column:')\n",
    "\n",
    "#nan_values"
   ]
  },
  {
   "cell_type": "code",
   "execution_count": null,
   "id": "b0250fd7",
   "metadata": {},
   "outputs": [],
   "source": [
    "# Drop these rows where the column has NaN value\n",
    "    # source: https://towardsdatascience.com/how-to-drop-rows-in-pandas-dataframes-with-nan-values-in-certain-columns-7613ad1a7f25\n",
    "    \n",
    "all_states_df = all_states_df.dropna(subset=['Project Description'], how='all')\n",
    "\n",
    "# confirm 4 rows were dropped by reviewing column length count:\n",
    "\n",
    "print(f'The DataFrame now has {len(all_states_df[\"Project ID\"])} rows of data.')\n",
    "all_states_df.head(1)\n"
   ]
  },
  {
   "cell_type": "code",
   "execution_count": null,
   "id": "9eeaec0b",
   "metadata": {},
   "outputs": [],
   "source": [
    "# Make the Project Description values all lowercase for value search:\n",
    "all_states_df['Project Description'] = all_states_df['Project Description'].str.lower()\n",
    "\n",
    "print(f'The Project Description column has been set to lowercase for all string values:')\n",
    "all_states_df.head(2)"
   ]
  },
  {
   "cell_type": "code",
   "execution_count": null,
   "id": "87ee5dd7",
   "metadata": {},
   "outputs": [],
   "source": [
    "# Brainstorm a list of words to filter the 'Project Description' column by.\n",
    "    ## this list will be used to filter that column so that we are only working with projects that\n",
    "    ## are actually covid related.\n",
    "    \n",
    "# TODO: confirm string case does not affect search results. eg) lowercase moderna vs Moderna.\n",
    "search_term_list = ['covid', 'covid-19', 'vaccine', 'vaccination', 'vaccinated', 'moderna', 'pfizer', 'johnson & johnson', 'janssen']\n",
    "\n"
   ]
  },
  {
   "cell_type": "code",
   "execution_count": null,
   "id": "8e27275c",
   "metadata": {},
   "outputs": [],
   "source": [
    "# Filter the dataframe column 'Project Description'\n",
    "    ## source: https://stackoverflow.com/questions/28679930/how-to-drop-rows-from-pandas-data-frame-that-contains-a-particular-string-in-a-p\n",
    "\n",
    "    \n",
    "covid_projects_df = all_states_df[all_states_df['Project Description'].str.contains('|'.join(search_term_list))]\n",
    "\n",
    "\n",
    "# print(len(all_states_df['Project Description']))\n",
    "print(f'The number of rows containing covid/vaccine search criteria terms is {len(covid_projects_df[\"Project ID\"])}')\n",
    "covid_projects_df.head(4)\n"
   ]
  },
  {
   "cell_type": "code",
   "execution_count": null,
   "id": "73b61d7f",
   "metadata": {},
   "outputs": [],
   "source": [
    "# Now format all budget related columns as integers for summing in the .groupby step:\n",
    "# note that pandas imported the csv columns as an object type and not strings/ints, etc:\n",
    "\n",
    "# print(all_states_df.dtypes)\n",
    "print(f'\\n----------------------------\\n')\n",
    "print(covid_projects_df.dtypes)"
   ]
  },
  {
   "cell_type": "code",
   "execution_count": null,
   "id": "6c4b2445",
   "metadata": {},
   "outputs": [],
   "source": [
    "# clean up values preventing change of data type to int\n",
    "covid_projects_df[['Adopted Budget','Total Cumulative Obligations',\n",
    "                   'Total Cumulative Expenditures']] = covid_projects_df[['Adopted Budget',\n",
    "       'Total Cumulative Obligations', 'Total Cumulative Expenditures']].replace(['-', ' '] ,'', regex=True)\n",
    "\n",
    "\n",
    "numeric_cols = ['Adopted Budget',\n",
    "       'Total Cumulative Obligations', 'Total Cumulative Expenditures']\n",
    "\n",
    "\n",
    "# convert budget columns to int for summarizing in groupby:\n",
    "covid_projects_df = covid_projects_df.replace(',','', regex=True)\n",
    "covid_projects_df[numeric_cols] = covid_projects_df[numeric_cols].apply(pd.to_numeric)\n",
    "\n",
    "\n",
    "print(covid_projects_df['Adopted Budget'].unique())\n",
    "\n",
    "# print(covid_projects_df.dtypes)\n",
    "\n",
    "covid_projects_df.head(3)\n"
   ]
  },
  {
   "cell_type": "code",
   "execution_count": null,
   "id": "35b3ad97",
   "metadata": {},
   "outputs": [],
   "source": [
    "# Try to group the filtered dataframe by state, summing applicable $ value columns\n",
    "    ## if we get errors, then we need to clean columns causing errors. \n",
    "    ## eg) 'Adopted Budget' column has values containing \"-\". This might prevent the .sum() function from working\n",
    "\n",
    "# example) covid_projects_df.groupby(['State/Territory']).sum(['Adopted Budget', 'Total Cumulative Obligations', 'Total Cumulative Expenditures'])\n",
    "\n",
    "\n",
    "state_spending_df = covid_projects_df.groupby(['State/Territory'], as_index=False).sum(['Adopted Budget', 'Total Cumulative Obligations', \n",
    "                                                                        'Total Cumulative Expenditures'])\n",
    "\n",
    "print(f'The column headers for the state_spending_df are:\\n\\n {state_spending_df.columns}')\n",
    "state_spending_df.head()"
   ]
  },
  {
   "cell_type": "code",
   "execution_count": null,
   "id": "0ad888a8",
   "metadata": {},
   "outputs": [],
   "source": [
    "# Add column of state name abbreviations:\n",
    "# source: https://gist.github.com/rogerallen/1583593\n",
    "\n",
    "us_state_to_abbrev = {\n",
    "    \"Alabama\": \"AL\",\n",
    "    \"Alaska\": \"AK\",\n",
    "    \"Arizona\": \"AZ\",\n",
    "    \"Arkansas\": \"AR\",\n",
    "    \"California\": \"CA\",\n",
    "    \"Colorado\": \"CO\",\n",
    "    \"Connecticut\": \"CT\",\n",
    "    \"Delaware\": \"DE\",\n",
    "    \"Florida\": \"FL\",\n",
    "    \"Georgia\": \"GA\",\n",
    "    \"Hawaii\": \"HI\",\n",
    "    \"Idaho\": \"ID\",\n",
    "    \"Illinois\": \"IL\",\n",
    "    \"Indiana\": \"IN\",\n",
    "    \"Iowa\": \"IA\",\n",
    "    \"Kansas\": \"KS\",\n",
    "    \"Kentucky\": \"KY\",\n",
    "    \"Louisiana\": \"LA\",\n",
    "    \"Maine\": \"ME\",\n",
    "    \"Maryland\": \"MD\",\n",
    "    \"Massachusetts\": \"MA\",\n",
    "    \"Michigan\": \"MI\",\n",
    "    \"Minnesota\": \"MN\",\n",
    "    \"Mississippi\": \"MS\",\n",
    "    \"Missouri\": \"MO\",\n",
    "    \"Montana\": \"MT\",\n",
    "    \"Nebraska\": \"NE\",\n",
    "    \"Nevada\": \"NV\",\n",
    "    \"New Hampshire\": \"NH\",\n",
    "    \"New Jersey\": \"NJ\",\n",
    "    \"New Mexico\": \"NM\",\n",
    "    \"New York\": \"NY\",\n",
    "    \"North Carolina\": \"NC\",\n",
    "    \"North Dakota\": \"ND\",\n",
    "    \"Ohio\": \"OH\",\n",
    "    \"Oklahoma\": \"OK\",\n",
    "    \"Oregon\": \"OR\",\n",
    "    \"Pennsylvania\": \"PA\",\n",
    "    \"Rhode Island\": \"RI\",\n",
    "    \"South Carolina\": \"SC\",\n",
    "    \"South Dakota\": \"SD\",\n",
    "    \"Tennessee\": \"TN\",\n",
    "    \"Texas\": \"TX\",\n",
    "    \"Utah\": \"UT\",\n",
    "    \"Vermont\": \"VT\",\n",
    "    \"Virginia\": \"VA\",\n",
    "    \"Washington\": \"WA\",\n",
    "    \"West Virginia\": \"WV\",\n",
    "    \"Wisconsin\": \"WI\",\n",
    "    \"Wyoming\": \"WY\",\n",
    "    \"District of Columbia\": \"DC\",\n",
    "    \"American Samoa\": \"AS\",\n",
    "    \"Guam\": \"GU\",\n",
    "    \"Northern Mariana Islands\": \"MP\",\n",
    "    \"Puerto Rico\": \"PR\",\n",
    "    \"United States Minor Outlying Islands\": \"UM\",\n",
    "    \"U.S. Virgin Islands\": \"VI\",\n",
    "}\n",
    "    \n",
    "# add abbreviated state name column and reorder so the abbrev is after full state name column:\n",
    "state_spending_df['Location'] = state_spending_df['State/Territory'].map(us_state_to_abbrev)\n",
    "state_spending_df = state_spending_df[['State/Territory', 'Location', 'Adopted Budget', \n",
    "                                       'Total Cumulative Obligations', 'Total Cumulative Expenditures']]\n",
    "\n",
    "state_spending_df.head()\n"
   ]
  },
  {
   "cell_type": "code",
   "execution_count": null,
   "id": "7fd420e9",
   "metadata": {},
   "outputs": [],
   "source": [
    "# \"all_us_projects_df\" is for (2) from Joanna's slack message request:\n",
    "all_us_projects_df = all_states_df[['Recipient Name', 'State/Territory', 'Recipient Type', \n",
    "                                    'Completion Status', 'Project Name', 'Expenditure Category Group', 'Expenditure Category', \n",
    "                                    'Project Description', 'Adopted Budget', 'Total Cumulative Obligations', \n",
    "                                    'Total Cumulative Expenditures']].copy()\n",
    "\n",
    "\n",
    "all_us_projects_df['State/Territory'] = all_us_projects_df['State/Territory'].map(us_state_to_abbrev)\n",
    "all_us_projects_df.rename(columns = {'State/Territory':'State'}, inplace = True)\n",
    "\n",
    "all_us_projects_df[['Adopted Budget','Total Cumulative Obligations',\n",
    "                   'Total Cumulative Expenditures']] = all_us_projects_df[['Adopted Budget',\n",
    "       'Total Cumulative Obligations', 'Total Cumulative Expenditures']].replace(['-', ' '] ,'', regex=True)\n",
    "\n",
    "\n",
    "numeric_cols = ['Adopted Budget',\n",
    "       'Total Cumulative Obligations', 'Total Cumulative Expenditures']\n",
    "\n",
    "\n",
    "# convert budget columns to int for summarizing in groupby:\n",
    "all_us_projects_df = all_us_projects_df.replace(',','', regex=True)\n",
    "all_us_projects_df[numeric_cols] = all_us_projects_df[numeric_cols].apply(pd.to_numeric)\n",
    "\n",
    "# all_us_projects_df.dtypes\n",
    "all_us_projects_df.head(3)"
   ]
  },
  {
   "cell_type": "code",
   "execution_count": null,
   "id": "b830cbd1",
   "metadata": {},
   "outputs": [],
   "source": [
    "# \"us_covid_projects_df\" is for (3) from Joanna's slack message:\n",
    "us_covid_projects_df = all_us_projects_df[all_us_projects_df['Project Description'].str.contains('|'.join(search_term_list))]\n",
    "\n",
    "\n",
    "# print(len(all_states_df['Project Description']))\n",
    "print(f'The number of rows containing covid/vaccine search criteria terms is {len(us_covid_projects_df[\"Project Name\"])}')\n",
    "us_covid_projects_df.head()"
   ]
  },
  {
   "cell_type": "code",
   "execution_count": null,
   "id": "0d42f57f",
   "metadata": {},
   "outputs": [],
   "source": [
    "#TODO: Collect and clean data for (1) from Joanna's slack message request\n",
    "\n"
   ]
  },
  {
   "cell_type": "markdown",
   "id": "3f64a942",
   "metadata": {},
   "source": [
    "## Sarah Work Area"
   ]
  },
  {
   "cell_type": "code",
   "execution_count": null,
   "id": "592bd74e",
   "metadata": {},
   "outputs": [],
   "source": [
    "# import and read the state_summary.csv\n",
    "# Load csv file(s)\n",
    "state_summary_sheet = Path(\"Resources/state_summary.csv\")\n",
    "\n",
    "\n",
    "# Read csv file(s) as a DataFrame\n",
    "state_summary_df = pd.read_csv(state_summary_sheet, skipinitialspace= True)\n",
    "\n",
    "print(f'The data types for this dataframe are already formatted as float integers (nice!)\\n\\n{state_spending_df.dtypes}')\n",
    "state_summary_df.head()"
   ]
  },
  {
   "cell_type": "code",
   "execution_count": null,
   "id": "ecbbc389",
   "metadata": {},
   "outputs": [],
   "source": [
    "# create a reduced dataframe from the state_summary_df columns: \n",
    "    #'State', 'Total state allocation (from the fed)', 'total state plus total local federal grant', \n",
    "    #'Share of state allocation spent', 'Share of state allocation obligated', 'Share of state allocation budgeted', \n",
    "    #'Total local allocation (from the fed)', 'Share of local spent', 'Share of local obligated', 'Share of local budgeted', \n",
    "    #'Share of state + local spent'\n",
    "\n",
    "\n",
    "\n"
   ]
  },
  {
   "cell_type": "code",
   "execution_count": null,
   "id": "b863458e",
   "metadata": {},
   "outputs": [],
   "source": [
    "# merge this data frame with Evan's \"state_spending_df\". Merge on the state columns.\n",
    "    # https://pandas.pydata.org/docs/reference/api/pandas.DataFrame.merge.html\n",
    "    # https://www.geeksforgeeks.org/how-to-join-pandas-dataframes-using-merge/#\n",
    "\n"
   ]
  },
  {
   "cell_type": "code",
   "execution_count": null,
   "id": "7bf95088",
   "metadata": {},
   "outputs": [],
   "source": []
  },
  {
   "cell_type": "code",
   "execution_count": null,
   "id": "65003e12",
   "metadata": {},
   "outputs": [],
   "source": []
  },
  {
   "cell_type": "code",
   "execution_count": null,
   "id": "b9a5fa18",
   "metadata": {},
   "outputs": [],
   "source": []
  },
  {
   "cell_type": "markdown",
   "id": "2ce36924",
   "metadata": {},
   "source": [
    "## Aaliyah Work Area"
   ]
  },
  {
   "cell_type": "code",
   "execution_count": null,
   "id": "a4e65aff",
   "metadata": {},
   "outputs": [],
   "source": [
    "# Using Sarah's combined dataframe, generate a combined bar/line chart\n",
    "# x-axis will contain state names\n",
    "# left-side y-axis and bar chart data will show % state funding used.\n",
    "# right-side y-axis and line chart data will show 'total state plus total local federal grant' dollar amounts\n",
    "\n",
    "    #source methods: https://towardsdatascience.com/creating-a-dual-axis-combo-chart-in-python-\n",
    "\n",
    "\n"
   ]
  },
  {
   "cell_type": "code",
   "execution_count": null,
   "id": "e0d72924",
   "metadata": {},
   "outputs": [],
   "source": []
  },
  {
   "cell_type": "code",
   "execution_count": null,
   "id": "7a5e2082",
   "metadata": {},
   "outputs": [],
   "source": []
  },
  {
   "cell_type": "code",
   "execution_count": null,
   "id": "386a30f1",
   "metadata": {},
   "outputs": [],
   "source": []
  },
  {
   "cell_type": "code",
   "execution_count": null,
   "id": "5dc78bd3",
   "metadata": {},
   "outputs": [],
   "source": []
  },
  {
   "cell_type": "markdown",
   "id": "6a495b70",
   "metadata": {},
   "source": [
    "## Data Exploration and Cleanup:\n",
    "- Describe here the group's data sets and how they were cleaned for analysis"
   ]
  },
  {
   "cell_type": "markdown",
   "id": "7a67af96",
   "metadata": {},
   "source": [
    "# Greg Work Area"
   ]
  },
  {
   "cell_type": "markdown",
   "id": "0fc434f9",
   "metadata": {},
   "source": [
    "### CDC Data"
   ]
  },
  {
   "cell_type": "code",
   "execution_count": null,
   "id": "07a92a2e",
   "metadata": {},
   "outputs": [],
   "source": [
    "#Import libraries\n",
    "import pandas as pd\n",
    "import numpy as np\n",
    "import matplotlib.pyplot as plt\n",
    "from scipy.stats import linregress\n",
    "import scipy.stats as st\n",
    "import seaborn as sns"
   ]
  },
  {
   "cell_type": "code",
   "execution_count": null,
   "id": "149a9e6a",
   "metadata": {},
   "outputs": [],
   "source": [
    "#Import vaccination data from csv\n",
    "vac_df = pd.read_csv('COVID-19_Vaccinations_in_the_United_States_Jurisdiction.csv')"
   ]
  },
  {
   "cell_type": "code",
   "execution_count": null,
   "id": "000058b0",
   "metadata": {},
   "outputs": [],
   "source": [
    "#function formats the CDC dataframe for US jursdictions - see below for input formats\n",
    "def CDC_format(df,key,date,add_str,drop_values): #key, filt -> str; length -> int; columns, drop_values -> list\n",
    "    df = df.dropna(subset=[key])\n",
    "    df = df[vac_df['Date'] == date]\n",
    "    df = df[~df[key].isin(drop_values)]\n",
    "    df[key] = add_str + vac_df[key].astype(str)\n",
    "    df.reset_index(drop = True, inplace = True)\n",
    "    return df"
   ]
  },
  {
   "cell_type": "code",
   "execution_count": null,
   "id": "0cddbb39",
   "metadata": {},
   "outputs": [],
   "source": [
    "drop = ['DD2','FM','AS','VI','BP2','IH2','GU','PN','PR','VA2','PW','US','MP','MH']\n",
    "vac_df = CDC_format(vac_df,'Location','12/28/2022','US_',drop)"
   ]
  },
  {
   "cell_type": "code",
   "execution_count": null,
   "id": "d285a3d8",
   "metadata": {},
   "outputs": [],
   "source": [
    "vac_df"
   ]
  },
  {
   "cell_type": "code",
   "execution_count": null,
   "id": "2ba886cd",
   "metadata": {},
   "outputs": [],
   "source": [
    "### Google vac data"
   ]
  },
  {
   "cell_type": "code",
   "execution_count": null,
   "id": "bebb7231",
   "metadata": {},
   "outputs": [],
   "source": [
    "#Import libraries\n",
    "\n",
    "import pandas as pd\n",
    "import numpy as np\n",
    "import matplotlib.pyplot as plt\n",
    "from scipy.stats import linregress\n",
    "import scipy.stats as st\n",
    "import seaborn as sns\n",
    "import cartopy.crs as ccrs\n",
    "import geoviews as gv # noqa\n",
    "import pyproj\n",
    "import geopandas as gpd\n",
    "import hvplot.pandas\n",
    "import plotly.express as px"
   ]
  },
  {
   "cell_type": "code",
   "execution_count": null,
   "id": "1d064807",
   "metadata": {},
   "outputs": [],
   "source": [
    "#Import vaccination data from google api\n",
    "vac_df = pd.read_csv('https://storage.googleapis.com/covid19-open-data/v3/latest/vaccinations.csv')"
   ]
  },
  {
   "cell_type": "code",
   "execution_count": null,
   "id": "e1c83cc9",
   "metadata": {},
   "outputs": [],
   "source": [
    "#function formats the google dataframes - see below for input formats\n",
    "def google_format(df,key,filt,length,columns,drop_values): #key, filt -> str; length -> int; columns, drop_values -> list\n",
    "    df = df.dropna(subset=[key])\n",
    "    df = df[df[key].str.contains(filt)]\n",
    "    mask = (df[key].str.len() == length)\n",
    "    df = df.loc[mask]\n",
    "    df = df[columns]\n",
    "    df = df[~df[key].isin(drop_values)]\n",
    "    df.reset_index(drop = True, inplace = True)\n",
    "    return df"
   ]
  },
  {
   "cell_type": "code",
   "execution_count": null,
   "id": "c6f6b9eb",
   "metadata": {},
   "outputs": [],
   "source": [
    "#Input values for vaccination data\n",
    "drop = ['US_AS','US_GU','US_MP','US_PR','US_VI']\n",
    "cols = ['date','location_key','cumulative_persons_fully_vaccinated','new_persons_vaccinated','new_persons_fully_vaccinated']\n",
    "loc_key = 'location_key'\n",
    "contains = 'US_'"
   ]
  },
  {
   "cell_type": "code",
   "execution_count": null,
   "id": "ac51a031",
   "metadata": {},
   "outputs": [],
   "source": [
    "#formatting vaccination data\n",
    "vac_df = google_format(vac_df, loc_key, contains, 5, cols, drop)"
   ]
  },
  {
   "cell_type": "code",
   "execution_count": null,
   "id": "a27e16b8",
   "metadata": {},
   "outputs": [],
   "source": [
    "mylist = ['Orange','Apple'] #Keywords search\n",
    "pattern = '|'.join(mylist)\n",
    "vac_df.location_key.str.contains(pattern)"
   ]
  },
  {
   "cell_type": "code",
   "execution_count": null,
   "id": "b46bdcb3",
   "metadata": {},
   "outputs": [],
   "source": [
    "#reading demographic data\n",
    "dem_df = pd.read_csv('demographics.csv')"
   ]
  },
  {
   "cell_type": "code",
   "execution_count": null,
   "id": "5864747b",
   "metadata": {},
   "outputs": [],
   "source": [
    "dem_df"
   ]
  },
  {
   "cell_type": "code",
   "execution_count": null,
   "id": "f3f85d9c",
   "metadata": {},
   "outputs": [],
   "source": [
    "dcols = ['location_key','population']"
   ]
  },
  {
   "cell_type": "code",
   "execution_count": null,
   "id": "85442a92",
   "metadata": {},
   "outputs": [],
   "source": [
    "#formatting demographic data\n",
    "dem_df = google_format(dem_df, loc_key, contains, 5, dcols, drop)"
   ]
  },
  {
   "cell_type": "code",
   "execution_count": null,
   "id": "ad603a24",
   "metadata": {},
   "outputs": [],
   "source": [
    "#reading epidemeology data\n",
    "epi_df = pd.read_csv('https://storage.googleapis.com/covid19-open-data/v3/latest/epidemiology.csv')"
   ]
  },
  {
   "cell_type": "code",
   "execution_count": null,
   "id": "314fec5a",
   "metadata": {},
   "outputs": [],
   "source": [
    "ecols = ['location_key','cumulative_confirmed','cumulative_deceased','cumulative_recovered']"
   ]
  },
  {
   "cell_type": "code",
   "execution_count": null,
   "id": "0e969428",
   "metadata": {},
   "outputs": [],
   "source": [
    "#formatting epidemeology data\n",
    "epi_df = google_format(epi_df, loc_key, contains, 5, ecols, drop)"
   ]
  },
  {
   "cell_type": "code",
   "execution_count": null,
   "id": "2c9c5017",
   "metadata": {},
   "outputs": [],
   "source": [
    "loc_key = pd.read_csv('https://storage.googleapis.com/covid19-open-data/v3/location/US.csv')"
   ]
  },
  {
   "cell_type": "code",
   "execution_count": null,
   "id": "fe993cbc",
   "metadata": {},
   "outputs": [],
   "source": [
    "AK_vac_df = US_vac_df[US_vac_df['location_key'].str.contains('US_AK')]"
   ]
  },
  {
   "cell_type": "code",
   "execution_count": null,
   "id": "9c05bf38",
   "metadata": {},
   "outputs": [],
   "source": [
    "#Looking at only one state - this can be skipped\n",
    "AK_total = AK_vac_df['cumulative_persons_fully_vaccinated'].iloc[1:len(AK_vac_df)].sum()\n",
    "AK_total"
   ]
  },
  {
   "cell_type": "code",
   "execution_count": null,
   "id": "848a2106",
   "metadata": {},
   "outputs": [],
   "source": [
    "#we don't need this at the moment, can be skipped\n",
    "def swap_rows(df, i1, i2): #Keep this!!!\n",
    "    a, b = df.iloc[i1, :].copy(), df.iloc[i2, :].copy()\n",
    "    df.iloc[i1, :], df.iloc[i2, :] = b, a\n",
    "    return df"
   ]
  },
  {
   "cell_type": "code",
   "execution_count": null,
   "id": "b62d1e66",
   "metadata": {},
   "outputs": [],
   "source": [
    "#merging dataframes\n",
    "total_df = vac_df.merge(dem_df, how = 'inner',on = 'location_key')"
   ]
  },
  {
   "cell_type": "code",
   "execution_count": null,
   "id": "7757f93e",
   "metadata": {},
   "outputs": [],
   "source": [
    "\n",
    "total_df['percent_fully_vaccinated'] = (total_df['cumulative_persons_fully_vaccinated']/total_df['population'])*100\n",
    "total_df.sort_values('percent_fully_vaccinated', ascending = False)"
   ]
  },
  {
   "cell_type": "code",
   "execution_count": null,
   "id": "d9d2c0ad",
   "metadata": {},
   "outputs": [],
   "source": [
    "#merging dataframes\n",
    "total_df = total_df.merge(epi_df, how = 'inner',on = 'location_key')"
   ]
  },
  {
   "cell_type": "code",
   "execution_count": null,
   "id": "5e16e8ac",
   "metadata": {},
   "outputs": [],
   "source": [
    "total_df['percent_death_rate_by_case'] = (total_df['cumulative_deceased']/total_df['cumulative_confirmed'])*100"
   ]
  },
  {
   "cell_type": "code",
   "execution_count": null,
   "id": "d88ad70e",
   "metadata": {},
   "outputs": [],
   "source": [
    "total_df['percent_death_rate_per_capita'] = (total_df['cumulative_deceased']/total_df['population'])*100"
   ]
  },
  {
   "cell_type": "code",
   "execution_count": null,
   "id": "6051644d",
   "metadata": {},
   "outputs": [],
   "source": [
    "total_df['percent_confirmed'] = (total_df['cumulative_confirmed']/total_df['population'])*100"
   ]
  },
  {
   "cell_type": "code",
   "execution_count": null,
   "id": "962f6937",
   "metadata": {},
   "outputs": [],
   "source": [
    "total_df['state_code'] = total_df.location_key.str.replace('US_','') #adding the state code for the plotly function"
   ]
  },
  {
   "cell_type": "code",
   "execution_count": null,
   "id": "4fae4876",
   "metadata": {},
   "outputs": [],
   "source": [
    "total_df.sort_values('percent_fully_vaccinated', ascending = False)"
   ]
  },
  {
   "cell_type": "code",
   "execution_count": null,
   "id": "91a8d2b3",
   "metadata": {},
   "outputs": [],
   "source": [
    "#function for regression plots\n",
    "def reg(df,x,y,x_text,y_text):    \n",
    "    lm = st.linregress(x = df[x], y = df[y])\n",
    "    data_fit = lm[0]*df[x] + lm[1]\n",
    "    fit_df = pd.DataFrame({'x': df[x], 'fitted': data_fit})\n",
    "    ax = sns.scatterplot(data = df, x = x, y = y)\n",
    "    #ax = df.plot.scatter(y = y, x = x, s = 30)\n",
    "    print(f\"The r-value is: {lm[2]}\")\n",
    "    fit_df.plot.line(x = 'x', y = 'fitted', color = 'red', ax=ax, legend = None, xlabel = x)\n",
    "    plt.text(x_text,y_text,f\"y = {'%.2f' %lm[0]}x + {'%.1f' %lm[1]}\", color = 'red', fontsize = 16)"
   ]
  },
  {
   "cell_type": "code",
   "execution_count": null,
   "id": "79927177",
   "metadata": {},
   "outputs": [],
   "source": [
    "reg(total_df,'percent_fully_vaccinated','percent_death_rate_by_case',50,0.6)"
   ]
  },
  {
   "cell_type": "code",
   "execution_count": null,
   "id": "62a67f83",
   "metadata": {},
   "outputs": [],
   "source": [
    "reg(total_df,'percent_fully_vaccinated','percent_death_rate_per_capita',50,0.15)"
   ]
  },
  {
   "cell_type": "code",
   "execution_count": null,
   "id": "4b14d0f0",
   "metadata": {},
   "outputs": [],
   "source": [
    "reg(total_df,'percent_fully_vaccinated','percent_confirmed',50,20)"
   ]
  },
  {
   "cell_type": "code",
   "execution_count": null,
   "id": "2547d5bd",
   "metadata": {},
   "outputs": [],
   "source": [
    "world = gpd.read_file(gpd.datasets.get_path('naturalearth_lowres'))\n",
    "\n",
    "world.hvplot(c='country', geo=True)"
   ]
  },
  {
   "cell_type": "code",
   "execution_count": null,
   "id": "b4d439f9",
   "metadata": {},
   "outputs": [],
   "source": [
    "#generating map of us states - you need to specify the color variable as one of the dataframe columns \n",
    "fig = px.choropleth(total_df,\n",
    "                    locations='state_code', \n",
    "                    locationmode=\"USA-states\", \n",
    "                    scope=\"usa\",\n",
    "                    color='percent_death_rate_per_capita',\n",
    "                    color_continuous_scale=\"blues\" \n",
    "                    )\n",
    "# fig.add_scattergeo(\n",
    "#     locations=total_df['state_code'],\n",
    "#     locationmode=\"USA-states\", \n",
    "#     text=total_df['state_code'],\n",
    "#     mode='text',\n",
    "# )\n",
    "fig.show()"
   ]
  },
  {
   "cell_type": "markdown",
   "id": "afe4fd3d",
   "metadata": {},
   "source": [
    "# Joanna Work Area"
   ]
  },
  {
   "cell_type": "code",
   "execution_count": null,
   "id": "e0923418",
   "metadata": {},
   "outputs": [],
   "source": [
    "#putting Greg's code down here so I can run my area independently of the rest of the sheet without error\n",
    "#Import libraries\n",
    "import pandas as pd\n",
    "import numpy as np\n",
    "import matplotlib.pyplot as plt \n",
    "from scipy.stats import linregress\n",
    "import scipy.stats as st\n",
    "import seaborn as sns\n",
    "import plotly.express as px\n",
    "import plotly.graph_objects as go"
   ]
  },
  {
   "cell_type": "code",
   "execution_count": null,
   "id": "5090ecea",
   "metadata": {},
   "outputs": [],
   "source": [
    "#Import vaccination data from csv\n",
    "vac_df = pd.read_csv('Resources/COVID-19_Vaccinations_in_the_United_States_Jurisdiction.csv')"
   ]
  },
  {
   "cell_type": "code",
   "execution_count": null,
   "id": "adba5815",
   "metadata": {},
   "outputs": [],
   "source": [
    "#function formats the CDC dataframe for US jursdictions - see below for input formats\n",
    "def CDC_format(df,key,date,add_str,drop_values): #key, filt -> str; length -> int; columns, drop_values -> list\n",
    "    df = df.dropna(subset=[key])\n",
    "    df = df[vac_df['Date'] == date]\n",
    "    df = df[~df[key].isin(drop_values)]\n",
    "    df[key] = add_str + vac_df[key].astype(str)\n",
    "    df.reset_index(drop = True, inplace = True)\n",
    "    return df"
   ]
  },
  {
   "cell_type": "code",
   "execution_count": null,
   "id": "176911ff",
   "metadata": {},
   "outputs": [],
   "source": [
    "#drop non-state territories from dataframe, select only rows with 12/28/22 data\n",
    "drop = ['DD2','FM','AS','VI','BP2','IH2','GU','PN','PR','VA2','PW','US','MP','MH']\n",
    "vac_df = CDC_format(vac_df,'Location','12/28/2022','US_',drop)"
   ]
  },
  {
   "cell_type": "code",
   "execution_count": null,
   "id": "ed1fb1cb",
   "metadata": {},
   "outputs": [],
   "source": [
    "#change location to match state code\n",
    "vac_df['Location'] = vac_df['Location'].str.replace('US_', '')"
   ]
  },
  {
   "cell_type": "markdown",
   "id": "b7af728b",
   "metadata": {},
   "source": [
    "## To do list\n",
    "Calculate population number they are using for each state and use it to calculate the Pop_Pct for Administered_Bivalent column\n",
    "\n",
    "Compare Administered to Recip_Administered to see if there are any significant differences in any state\n",
    "\n",
    "Make some smaller dataframes for viewing:\n",
    "\n",
    "a) Whole pop with Distrib, Administered, Dose1, Series Complete, Additional Doses, Second Booster, Administered Bivalent\n",
    "\n",
    "b) Each individual age group with Dose1, Series Complete, Additional Doses, Second Booster, Bivalent Booster\n",
    "\n",
    "c) Each category (Dose1, Series Complete, Additional Doses, Second Booster, Bivalent Booster) with all age ranges\n",
    "\n",
    "Identify which states have a high variance from the mean (general/nationwide population) in % vaccinated (looking at all dosage categories and age categories). This will show us which states were the \"good vaccinators\" and which the \"poor vaccinators.\" We can then use the EARN data to see if this correlates to how much of the federal money they spent, how many vaccination projects they did, etc.\n"
   ]
  },
  {
   "cell_type": "code",
   "execution_count": null,
   "id": "d5231ab2",
   "metadata": {},
   "outputs": [],
   "source": [
    "# get all the columns we will be interested in into one dataframe\n",
    "# NOTE: there is no Pop_Pct column for the administered_bivalent, and second_booster only for the age breakouts\n",
    "# but we can extrapolate from their other population calculations to calculate these. For second_booster to get state numbers\n",
    "# we have to add up the vaccines from the different manufacturers because we don't have them already summed.\n",
    "\n",
    "vac_df = pd.DataFrame(data=vac_df, columns=[\"Location\", \"Distributed\", \"Administered\", \"Recip_Administered\",\n",
    "                                                   \"Administered_Dose1_Recip\", \"Administered_Dose1_Pop_Pct\",\n",
    "                                                   \"Administered_Dose1_Recip_5Plus\", \"Administered_Dose1_Recip_5PlusPop_Pct\",\n",
    "                                                  \"Administered_Dose1_Recip_12Plus\", \"Administered_Dose1_Recip_12PlusPop_Pct\",\n",
    "                                                  \"Administered_Dose1_Recip_18Plus\", \"Administered_Dose1_Recip_18PlusPop_Pct\",\n",
    "                                                  \"Administered_Dose1_Recip_65Plus\", \"Administered_Dose1_Recip_65PlusPop_Pct\",\n",
    "                                                  \"Series_Complete_Yes\", \"Series_Complete_Pop_Pct\", \"Series_Complete_5Plus\",\n",
    "                                                  \"Series_Complete_12Plus\", \"Series_Complete_12PlusPop_Pct\",\n",
    "                                                   \"Series_Complete_18Plus\", \"Series_Complete_18PlusPop_Pct\",\n",
    "                                                   \"Series_Complete_65Plus\", \"Series_Complete_65PlusPop_Pct\", \"Additional_Doses\",\n",
    "                                                   \"Additional_Doses_Vax_Pct\", \"Additional_Doses_5Plus\",\n",
    "                                                   \"Additional_Doses_5Plus_Vax_Pct\", \"Additional_Doses_12Plus\",\n",
    "                                                   \"Additional_Doses_12Plus_Vax_Pct\", \"Additional_Doses_18Plus\",\n",
    "                                                   \"Additional_Doses_18Plus_Vax_Pct\", \"Additional_Doses_50Plus\",\n",
    "                                                   \"Additional_Doses_50Plus_Vax_Pct\", \"Additional_Doses_65Plus\",\n",
    "                                                   \"Additional_Doses_65Plus_Vax_Pct\", \"Second_Booster_50Plus\",\n",
    "                                                   \"Second_Booster_50Plus_Vax_Pct\", \"Second_Booster_65Plus\",\n",
    "                                                   \"Second_Booster_65Plus_Vax_Pct\", \"Second_Booster_Janssen\",\n",
    "                                                    \"Second_Booster_Moderna\", \"Second_Booster_Pfizer\",\n",
    "                                                    \"Second_Booster_Unk_Manuf\", \"Administered_Bivalent\",\n",
    "                                                   \"Bivalent_Booster_5Plus\", \"Bivalent_Booster_5Plus_Pop_Pct\",\n",
    "                                                   \"Bivalent_Booster_12Plus\", \"Bivalent_Booster_12Plus_Pop_Pct\",\n",
    "                                                   \"Bivalent_Booster_18Plus\", \"Bivalent_Booster_18Plus_Pop_Pct\"])"
   ]
  },
  {
   "cell_type": "code",
   "execution_count": null,
   "id": "0b14fa32",
   "metadata": {
    "scrolled": true
   },
   "outputs": [],
   "source": [
    "# remove commas from numeric columns\n",
    "# convert numeric columns to correct type\n",
    "vac_df = vac_df.replace(',','', regex=True)\n",
    "numeric_cols = [\"Distributed\", \"Administered\", \"Recip_Administered\", \"Administered_Dose1_Recip\", \"Administered_Dose1_Pop_Pct\",\n",
    "                \"Administered_Dose1_Recip_5Plus\", \"Administered_Dose1_Recip_5PlusPop_Pct\", \"Administered_Dose1_Recip_12Plus\",\n",
    "                \"Administered_Dose1_Recip_12PlusPop_Pct\", \"Administered_Dose1_Recip_18Plus\",\n",
    "                \"Administered_Dose1_Recip_18PlusPop_Pct\", \"Administered_Dose1_Recip_65Plus\",\n",
    "                \"Administered_Dose1_Recip_65PlusPop_Pct\", \"Series_Complete_Yes\", \"Series_Complete_Pop_Pct\",\n",
    "                \"Series_Complete_5Plus\", \"Series_Complete_12Plus\", \"Series_Complete_12PlusPop_Pct\", \"Series_Complete_18Plus\",\n",
    "                \"Series_Complete_18PlusPop_Pct\", \"Series_Complete_65Plus\", \"Series_Complete_65PlusPop_Pct\", \"Additional_Doses\",\n",
    "                \"Additional_Doses_Vax_Pct\", \"Additional_Doses_5Plus\", \"Additional_Doses_5Plus_Vax_Pct\", \"Additional_Doses_12Plus\",\n",
    "                \"Additional_Doses_12Plus_Vax_Pct\", \"Additional_Doses_18Plus\", \"Additional_Doses_18Plus_Vax_Pct\",\n",
    "                \"Additional_Doses_50Plus\", \"Additional_Doses_50Plus_Vax_Pct\", \"Additional_Doses_65Plus\",\n",
    "                \"Additional_Doses_65Plus_Vax_Pct\", \"Second_Booster_50Plus\", \"Second_Booster_50Plus_Vax_Pct\",\n",
    "                \"Second_Booster_65Plus\", \"Second_Booster_65Plus_Vax_Pct\", \"Second_Booster_Janssen\",\n",
    "                \"Second_Booster_Moderna\", \"Second_Booster_Pfizer\", \"Second_Booster_Unk_Manuf\", \"Administered_Bivalent\",\n",
    "                \"Bivalent_Booster_5Plus\", \"Bivalent_Booster_5Plus_Pop_Pct\", \"Bivalent_Booster_12Plus\",\n",
    "                \"Bivalent_Booster_12Plus_Pop_Pct\", \"Bivalent_Booster_18Plus\", \"Bivalent_Booster_18Plus_Pop_Pct\"]\n",
    "vac_df[numeric_cols] = vac_df[numeric_cols].apply(pd.to_numeric)\n",
    "vac_df"
   ]
  },
  {
   "cell_type": "code",
   "execution_count": null,
   "id": "99e84f02",
   "metadata": {},
   "outputs": [],
   "source": [
    "# calculate totals for second booster\n",
    "vac_df[\"Second_Booster_Total\"] = (vac_df[\"Second_Booster_Janssen\"] + vac_df[\"Second_Booster_Moderna\"]\n",
    "                                + vac_df[\"Second_Booster_Pfizer\"] + vac_df[\"Second_Booster_Unk_Manuf\"])\n",
    "# find their population number... ok this is off. ???\n",
    "vac_df[\"Pop1\"] = vac_df[\"Series_Complete_Yes\"] / (vac_df[\"Series_Complete_Pop_Pct\"]/100)\n",
    "vac_df[\"Pop2\"] = vac_df[\"Administered_Dose1_Recip\"] / (vac_df[\"Administered_Dose1_Pop_Pct\"]/100)\n",
    "\n",
    "vac_pops_df = pd.DataFrame(data=vac_df, columns=[\"Location\", \"Pop1\", \"Pop2\"])\n",
    "vac_pops_df\n"
   ]
  },
  {
   "cell_type": "code",
   "execution_count": null,
   "id": "b6ea1dc0",
   "metadata": {},
   "outputs": [],
   "source": [
    "# df with vax data for all ages\n",
    "vac_all_ages_df = pd.DataFrame(data=vac_df, columns=[\"Location\", \"Distributed\", \"Administered\", \"Recip_Administered\",\n",
    "                                                   \"Administered_Dose1_Recip\", \"Administered_Dose1_Pop_Pct\",\n",
    "                                                    \"Series_Complete_Yes\", \"Series_Complete_Pop_Pct\",\n",
    "                                                     \"Additional_Doses\", \"Additional_Doses_Vax_Pct\", \"Administered_Bivalent\"])\n",
    "\n",
    "# add 'Dose Differential' column to track doses administered to nonresidents. Negative number = doses leaving the state\n",
    "vac_all_ages_df[\"Dose Differential\"] = vac_all_ages_df[\"Administered\"] - vac_all_ages_df[\"Recip_Administered\"]\n",
    "vac_all_ages_df[\"Dose Diff. as Pct of Doses Given\"] = abs(vac_all_ages_df[\"Dose Differential\"] / vac_all_ages_df[\"Administered\"])\n",
    "vac_all_ages_df[\"Dose Diff. as Pct of Residents Vaxxed\"] = abs(vac_all_ages_df[\"Dose Differential\"] / vac_all_ages_df[\"Recip_Administered\"])\n"
   ]
  },
  {
   "cell_type": "code",
   "execution_count": null,
   "id": "b728a976",
   "metadata": {},
   "outputs": [],
   "source": [
    "vac_dd_df = pd.DataFrame(data=vac_all_ages_df, columns=[\"Location\", \"Distributed\", \"Administered\", \"Recip_Administered\", \"Dose Differential\",\n",
    "                         \"Dose Diff. as Pct of Doses Given\", \"Dose Diff. as Pct of Residents Vaxxed\", \"Administered_Dose1_Pop_Pct\", \"Series_Complete_Pop_Pct\",\n",
    "                         \"Additional_Doses_Vax_Pct\"])\n",
    "vac_dd_df\n",
    "\n",
    "\n"
   ]
  },
  {
   "cell_type": "code",
   "execution_count": null,
   "id": "147bba9f",
   "metadata": {},
   "outputs": [],
   "source": [
    "# Checking on second booster columns -- these NaN values actually exist in the spreadsheet. Is there something going on with\n",
    "# the function that was used to create the initial dataframe?\n",
    "vac_secondbooster_df = pd.DataFrame(data=vac_df, columns=[\"Location\", \"Second_Booster_50Plus\",\n",
    "                                                   \"Second_Booster_50Plus_Vax_Pct\", \"Second_Booster_65Plus\",\n",
    "                                                   \"Second_Booster_65Plus_Vax_Pct\", \"Second_Booster_Janssen\",\n",
    "                                                    \"Second_Booster_Moderna\", \"Second_Booster_Pfizer\",\n",
    "                                                    \"Second_Booster_Unk_Manuf\"])\n"
   ]
  },
  {
   "cell_type": "code",
   "execution_count": null,
   "id": "ad11afba",
   "metadata": {},
   "outputs": [],
   "source": [
    "# find how many doses were distributed vs administered\n",
    "# calculate percent\n",
    "# sort alphabetically by state\n",
    "vac_waste_df = pd.DataFrame(data=vac_df, columns=[\"Location\", \"Distributed\", \"Administered\"])\n",
    "vac_waste_df[\"Pct. Administered\"] = vac_waste_df[\"Administered\"] / vac_waste_df[\"Distributed\"]\n",
    "vac_waste_df.sort_values('Location')"
   ]
  },
  {
   "cell_type": "code",
   "execution_count": null,
   "id": "9619f77a",
   "metadata": {},
   "outputs": [],
   "source": [
    "# Show best 10 states in vaccine distribution percentage\n",
    "vac_waste_best_df = vac_waste_df.sort_values('Pct. Administered', ascending=False)\n",
    "vac_waste_best_df.head(10)"
   ]
  },
  {
   "cell_type": "code",
   "execution_count": null,
   "id": "1d55714a",
   "metadata": {},
   "outputs": [],
   "source": [
    "# Show worst 10 states in vaccine distribution percentage\n",
    "vac_waste_worst_df = vac_waste_df.sort_values('Pct. Administered', ascending=True)\n",
    "vac_waste_worst_df.head(10)"
   ]
  },
  {
   "cell_type": "markdown",
   "id": "759f294c",
   "metadata": {},
   "source": [
    "# Kendal Work Area"
   ]
  },
  {
   "cell_type": "code",
   "execution_count": null,
   "id": "2f23aedb",
   "metadata": {},
   "outputs": [],
   "source": [
    "#putting Greg's code down here so I can run my area independently of the rest of the sheet without error\n",
    "#Import libraries\n",
    "import pandas as pd\n",
    "import matplotlib.pyplot as plt \n",
    "import plotly.express as px\n",
    "import plotly.graph_objects as go"
   ]
  },
  {
   "cell_type": "code",
   "execution_count": null,
   "id": "3956541e",
   "metadata": {},
   "outputs": [],
   "source": [
    "#Import vaccination data from csv\n",
    "vac_df = pd.read_csv('Resources/COVID-19_Vaccinations_in_the_United_States_Jurisdiction.csv')"
   ]
  },
  {
   "cell_type": "code",
   "execution_count": null,
   "id": "1227f1b0",
   "metadata": {},
   "outputs": [],
   "source": [
    "#function formats the CDC dataframe for US jursdictions - see below for input formats\n",
    "def CDC_format(df,key,date,add_str,drop_values): #key, filt -> str; length -> int; columns, drop_values -> list\n",
    "    df = df.dropna(subset=[key])\n",
    "    df = df[vac_df['Date'] == date]\n",
    "    df = df[~df[key].isin(drop_values)]\n",
    "    df[key] = add_str + vac_df[key].astype(str)\n",
    "    df.reset_index(drop = True, inplace = True)\n",
    "    return df"
   ]
  },
  {
   "cell_type": "code",
   "execution_count": null,
   "id": "56566f3b",
   "metadata": {},
   "outputs": [],
   "source": [
    "#drop non-state territories from dataframe\n",
    "drop = ['DD2','FM','AS','VI','BP2','IH2','GU','PN','PR','VA2','PW','US','MP','MH']\n",
    "vac_df = CDC_format(vac_df,'Location','12/28/2022','US_',drop)"
   ]
  },
  {
   "cell_type": "code",
   "execution_count": null,
   "id": "aafe1756",
   "metadata": {},
   "outputs": [],
   "source": [
    "#change location to match state code for choropleth maps\n",
    "vac_df['Location'] = vac_df['Location'].str.replace('US_', '')"
   ]
  },
  {
   "cell_type": "code",
   "execution_count": null,
   "id": "70bc1504",
   "metadata": {},
   "outputs": [],
   "source": [
    "#create df with only columns related to choropleth maps\n",
    "choropleth_vac_df = vac_df[['Location', \n",
    "                            'Distributed', \n",
    "                            'Administered', \n",
    "                            'Administered_Dose1_Pop_Pct', \n",
    "                            'Series_Complete_Pop_Pct', \n",
    "                            'Series_Complete_5PlusPop_Pct', \n",
    "                            'Series_Complete_12PlusPop_Pct', \n",
    "                            'Series_Complete_18PlusPop_Pct', \n",
    "                            'Series_Complete_65PlusPop_Pct', \n",
    "                            'Additional_Doses_Vax_Pct', \n",
    "                            'Additional_Doses_65Plus_Vax_Pct', \n",
    "                            'Second_Booster_65Plus_Vax_Pct', \n",
    "                            'Bivalent_Booster_5Plus_Pop_Pct', \n",
    "                            'Bivalent_Booster_12Plus_Pop_Pct', \n",
    "                            'Bivalent_Booster_18Plus_Pop_Pct', \n",
    "                            'Bivalent_Booster_65Plus_Pop_Pct']]"
   ]
  },
  {
   "cell_type": "code",
   "execution_count": null,
   "id": "09f1b76a",
   "metadata": {},
   "outputs": [],
   "source": [
    "fig_complete_total_pop = px.choropleth(vac_df,\n",
    "                    locations='Location',\n",
    "                    locationmode=\"USA-states\",\n",
    "                    scope=\"usa\",\n",
    "                    color='Series_Complete_Pop_Pct',\n",
    "                    labels={'Series_Complete_Pop_Pct':'% of Population Fully Vaccinated'},\n",
    "                    color_continuous_scale=\"aggrnyl\",\n",
    "                    title='Vaccination Status by State - Fully Vaccinated'\n",
    "                    )\n",
    "fig_complete_total_pop"
   ]
  },
  {
   "cell_type": "code",
   "execution_count": null,
   "id": "3cb98905",
   "metadata": {},
   "outputs": [],
   "source": [
    "fig_complete_5plus = px.choropleth(vac_df,\n",
    "                    locations='Location',\n",
    "                    locationmode=\"USA-states\",\n",
    "                    scope=\"usa\",\n",
    "                    color='Series_Complete_5PlusPop_Pct',\n",
    "                    labels={'Series_Complete_5PlusPop_Pct':'% of 5+ Population Fully Vaccinated'},\n",
    "                    color_continuous_scale=\"aggrnyl\",\n",
    "                    title='Vaccination Status by State - Fully Vaccinated (5+)'\n",
    "                    )\n",
    "fig_complete_5plus"
   ]
  },
  {
   "cell_type": "code",
   "execution_count": null,
   "id": "b3cfce30",
   "metadata": {},
   "outputs": [],
   "source": [
    "fig_complete_12plus = px.choropleth(vac_df,\n",
    "                    locations='Location',\n",
    "                    locationmode=\"USA-states\",\n",
    "                    scope=\"usa\",\n",
    "                    color='Series_Complete_12PlusPop_Pct',\n",
    "                    labels={'Series_Complete_12PlusPop_Pct':'% of 12+ Population Fully Vaccinated'},\n",
    "                    color_continuous_scale=\"aggrnyl\",\n",
    "                    title='Vaccination Status by State - Fully Vaccinated (12+)'\n",
    "                    )\n",
    "fig_complete_12plus"
   ]
  },
  {
   "cell_type": "code",
   "execution_count": null,
   "id": "9c562482",
   "metadata": {},
   "outputs": [],
   "source": [
    "fig_complete_18plus = px.choropleth(vac_df,\n",
    "                    locations='Location',\n",
    "                    locationmode=\"USA-states\",\n",
    "                    scope=\"usa\",\n",
    "                    color='Series_Complete_18PlusPop_Pct',\n",
    "                    labels={'Series_Complete_18PlusPop_Pct':'% of 18+ Population Fully Vaccinated'},\n",
    "                    color_continuous_scale=\"aggrnyl_r\",\n",
    "                    title='Vaccination Status by State - Fully Vaccinated (18+)'\n",
    "                    )\n",
    "fig_complete_18plus"
   ]
  },
  {
   "cell_type": "code",
   "execution_count": null,
   "id": "3fce73a6",
   "metadata": {},
   "outputs": [],
   "source": [
    "fig_at_least_1 = px.choropleth(vac_df,\n",
    "                    locations='Location',\n",
    "                    locationmode=\"USA-states\",\n",
    "                    scope=\"usa\",\n",
    "                    color='Administered_Dose1_Pop_Pct',\n",
    "                    labels={'Administered_Dose1_Pop_Pct':'% of Population Partially Vaccinated'},\n",
    "                    color_continuous_scale=\"blues\",\n",
    "                    title='Vaccination Status by State - Partially Vaccinated'\n",
    "                    )\n",
    "fig_at_least_1"
   ]
  },
  {
   "cell_type": "code",
   "execution_count": null,
   "id": "4f585998",
   "metadata": {},
   "outputs": [],
   "source": [
    "fig_complete_65_plus = px.choropleth(vac_df,\n",
    "                    locations='Location',\n",
    "                    locationmode=\"USA-states\",\n",
    "                    scope=\"usa\",\n",
    "                    color='Series_Complete_65PlusPop_Pct',\n",
    "                    labels={'Series_Complete_65PlusPop_Pct':'% of 65+ Population Fully Vaccinated'},\n",
    "                    color_continuous_scale=\"greens\", \n",
    "                    title='Vaccination Status by State & Age - Fully Vaccinated (65+)'\n",
    "                    )\n",
    "fig_complete_65_plus"
   ]
  },
  {
   "cell_type": "code",
   "execution_count": null,
   "id": "f0651c97",
   "metadata": {},
   "outputs": [],
   "source": [
    "fig_bivalent_booster_65 = px.choropleth(vac_df,\n",
    "                    locations='Location',\n",
    "                    locationmode=\"USA-states\",\n",
    "                    scope=\"usa\",\n",
    "                    color='Bivalent_Booster_65Plus_Pop_Pct',\n",
    "                    labels={'Bivalent_Booster_65Plus_Pop_Pct':'% of 65+ Population with Bivalent Booster'},\n",
    "                    color_continuous_scale=\"reds\",  \n",
    "                    title='Bivalent Booster Status by State - (65+)'\n",
    "                    )\n",
    "fig_bivalent_booster_65"
   ]
  },
  {
   "cell_type": "code",
   "execution_count": null,
   "id": "b7fe8d8b",
   "metadata": {},
   "outputs": [],
   "source": [
    "fig_bivalent_booster_5 = px.choropleth(vac_df,\n",
    "                    locations='Location',\n",
    "                    locationmode=\"USA-states\",\n",
    "                    scope=\"usa\",\n",
    "                    color='Bivalent_Booster_5Plus_Pop_Pct',\n",
    "                    labels={'Bivalent_Booster_5Plus_Pop_Pct':'% of 5+ Population with Bivalent Booster'},\n",
    "                    color_continuous_scale=\"oranges\",  \n",
    "                    title='Bivalent Booster Status by State - (5+)'\n",
    "                    )\n",
    "fig_bivalent_booster_5"
   ]
  },
  {
   "cell_type": "code",
   "execution_count": null,
   "id": "fb008356",
   "metadata": {},
   "outputs": [],
   "source": [
    "#Making percent fully vaccinated into a list\n",
    "percent_fully_vaccinated = vac_df['Percentage of Population Fully Vaccinated'].to_numpy()\n",
    "print(percent_fully_vaccinated)"
   ]
  },
  {
   "cell_type": "code",
   "execution_count": null,
   "id": "c312a92d",
   "metadata": {},
   "outputs": [],
   "source": [
    "fig_bivalent_booster_12 = px.choropleth(vac_df,\n",
    "                    locations='Location',\n",
    "                    locationmode=\"USA-states\",\n",
    "                    scope=\"usa\",\n",
    "                    color='Bivalent_Booster_12Plus_Pop_Pct',\n",
    "                    labels={'Bivalent_Booster_12Plus_Pop_Pct':'% of 12+ Population with Bivalent Booster'},\n",
    "                    color_continuous_scale=\"purples\",  \n",
    "                    title='Bivalent Booster Status by State - (12+)'\n",
    "                    )\n",
    "fig_bivalent_booster_12"
   ]
  },
  {
   "cell_type": "code",
   "execution_count": null,
   "id": "e776afbf",
   "metadata": {},
   "outputs": [],
   "source": [
    "fig_bivalent_booster_18 = px.choropleth(vac_df,\n",
    "                    locations='Location',\n",
    "                    locationmode=\"USA-states\",\n",
    "                    scope=\"usa\",\n",
    "                    color='Bivalent_Booster_18Plus_Pop_Pct',\n",
    "                    labels={'Bivalent_Booster_18Plus_Pop_Pct':'% of 18+ Population with Bivalent Booster'},\n",
    "                    color_continuous_scale=\"magma_r\",  \n",
    "                    title='Bivalent Booster Status by State - (18+)'\n",
    "                    )\n",
    "fig_bivalent_booster_18"
   ]
  },
  {
   "cell_type": "code",
   "execution_count": null,
   "id": "e4c242c3",
   "metadata": {},
   "outputs": [],
   "source": [
    "#boxplots showing spread of data across all 50 states and DC for selected columns\n",
    "boxplot = vac_df.boxplot(column=['Series_Complete_Pop_Pct', \n",
    "                                 'Administered_Dose1_Pop_Pct', \n",
    "                                 'Series_Complete_65PlusPop_Pct', \n",
    "                                 'Bivalent_Booster_65Plus_Pop_Pct'], \n",
    "                         rot=45,\n",
    "                         grid=True,\n",
    "                         figsize = (15,10),\n",
    "                        )\n",
    "plt.title(\"Distribution of Vaccination Rates Across U.S. States\")\n",
    "plt.xticks([1, 2, 3, 4], ['% Pop. Fully Vaccinated', '% Pop. Partially Vaccinated', '% Pop. Fully Vaccinated - 65+', '% Pop. Bivalent Booster - 65+'])\n"
   ]
  },
  {
   "cell_type": "code",
   "execution_count": null,
   "id": "95701f12",
   "metadata": {},
   "outputs": [],
   "source": [
    "#summary statistics for selected columns (across all 50 states and DC) \n",
    "choropleth_vac_df.describe()"
   ]
  },
  {
   "cell_type": "code",
   "execution_count": null,
   "id": "ef66390b",
   "metadata": {},
   "outputs": [],
   "source": [
    "#working on expenditure categories by state\n",
    "spending_overall = all_us_projects_df.groupby('Expenditure Category Group').count()\n",
    "total_projects = spending_overall['Recipient Name'].sum()\n",
    "categories_percentage_overall = (spending_overall['State']/total_projects)*100\n",
    "categories_percentage_overall\n"
   ]
  },
  {
   "cell_type": "code",
   "execution_count": null,
   "id": "1c5e0285",
   "metadata": {},
   "outputs": [],
   "source": [
    "categories_percentage_overall = pd.DataFrame(categories_percentage_overall)\n"
   ]
  },
  {
   "cell_type": "code",
   "execution_count": null,
   "id": "7c277a88",
   "metadata": {},
   "outputs": [],
   "source": [
    "spending_by_state = all_us_projects_df.groupby(['State', 'Expenditure Category Group']).count()\n",
    "total_projects_per_state = spending_by_state.groupby('State')['Recipient Name'].sum()\n",
    "categories_percentage_by_state = (spending_by_state['Recipient Name']/total_projects_per_state)*100\n",
    "categories_percentage_by_state = pd.DataFrame(categories_percentage_by_state)\n",
    "(categories_percentage_by_state)"
   ]
  },
  {
   "cell_type": "code",
   "execution_count": null,
   "id": "c71abf16",
   "metadata": {},
   "outputs": [],
   "source": [
    "categories_percentage_overall.plot(kind='bar',stacked=True, title='Spending Category by State',\n",
    "              ylabel = '# of Projects', figsize=(10,6))"
   ]
  },
  {
   "cell_type": "markdown",
   "id": "054b7c6b",
   "metadata": {},
   "source": [
    "# Sarah Work Area"
   ]
  },
  {
   "cell_type": "code",
   "execution_count": null,
   "id": "98bb9fa9",
   "metadata": {},
   "outputs": [],
   "source": []
  },
  {
   "cell_type": "code",
   "execution_count": null,
   "id": "8f270fae",
   "metadata": {},
   "outputs": [],
   "source": []
  },
  {
   "cell_type": "markdown",
   "id": "bf081595",
   "metadata": {},
   "source": [
    "# Aaliyah Work Area"
   ]
  },
  {
   "cell_type": "code",
   "execution_count": null,
   "id": "c5a0dcf8",
   "metadata": {},
   "outputs": [],
   "source": []
  }
 ],
 "metadata": {
  "kernelspec": {
   "display_name": "Python 3 (ipykernel)",
   "language": "python",
   "name": "python3"
  },
  "language_info": {
   "codemirror_mode": {
    "name": "ipython",
    "version": 3
   },
   "file_extension": ".py",
   "mimetype": "text/x-python",
   "name": "python",
   "nbconvert_exporter": "python",
   "pygments_lexer": "ipython3",
   "version": "3.9.13"
  }
 },
 "nbformat": 4,
 "nbformat_minor": 5
}

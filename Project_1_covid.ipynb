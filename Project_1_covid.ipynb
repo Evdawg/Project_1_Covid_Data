{
 "cells": [
  {
   "cell_type": "markdown",
   "id": "e5917f93",
   "metadata": {},
   "source": [
    "# A Comparison of State Use of SFLRF Funds for Vaccination Programs and Vaccination Rates in Each State\n",
    "\n"
   ]
  },
  {
   "cell_type": "markdown",
   "id": "6e532e8b",
   "metadata": {},
   "source": [
    "### Data Sources:\n",
    "CDC - \"COVID-19 Vaccinations in the United States, Jurisdiction\"\n",
    "csv downloaded 5/11/23\n",
    "https://data.cdc.gov/Vaccinations/COVID-19-Vaccinations-in-the-United-States-Jurisdi/unsk-b7fc\n",
    "\n",
    "EARN/EPI - \"EARN SLFRF Workbook for Q4 2022\" compiled by Dave Kamper of the Economic Policy Institute (dkamper@epi.org) from Treasury reports by states and local jurisidictions who received funding, and other data sources as detailed in the workbook."
   ]
  },
  {
   "cell_type": "markdown",
   "id": "b23002fa",
   "metadata": {},
   "source": [
    "## Production Code (Team: Put your code here after it is complete and ready to go)"
   ]
  },
  {
   "cell_type": "code",
   "execution_count": null,
   "id": "03512963",
   "metadata": {},
   "outputs": [],
   "source": []
  },
  {
   "cell_type": "markdown",
   "id": "4c8d5e33",
   "metadata": {},
   "source": [
    "## Evan Work Area"
   ]
  },
  {
   "cell_type": "code",
   "execution_count": 1,
   "id": "e874bc86",
   "metadata": {},
   "outputs": [],
   "source": [
    "### import dependencies and setup\n",
    "import matplotlib.pyplot as plt\n",
    "import numpy as np\n",
    "import pandas as pd\n",
    "from pprint import pprint\n",
    "from pathlib import Path"
   ]
  },
  {
   "cell_type": "code",
   "execution_count": 2,
   "id": "f95caf0c",
   "metadata": {},
   "outputs": [],
   "source": [
    "### Hide error messages\n",
    "pd.options.mode.chained_assignment = None  # default='warn'"
   ]
  },
  {
   "cell_type": "code",
   "execution_count": 3,
   "id": "04f96624",
   "metadata": {},
   "outputs": [
    {
     "name": "stdout",
     "output_type": "stream",
     "text": [
      "There are 35710 rows in the unfiltered DataFrame.\n"
     ]
    }
   ],
   "source": [
    "### Load csv file(s)\n",
    "all_states_sheet = Path(\"Resources/EARN_all_states.csv\")\n",
    "\n",
    "\n",
    "### Read csv file(s) as a DataFrame\n",
    "all_states_df = pd.read_csv(all_states_sheet, skipinitialspace= True, low_memory=False)\n",
    "\n",
    "\n",
    "### preview the raw DataFrame\n",
    "print(f\"There are {len(all_states_df['Project ID'])} rows in the unfiltered DataFrame.\")\n",
    "\n",
    "all_states_df.columns = all_states_df.columns.str.strip()\n",
    "\n",
    "#all_states_df"
   ]
  },
  {
   "cell_type": "code",
   "execution_count": null,
   "id": "3133ae9d",
   "metadata": {},
   "outputs": [],
   "source": [
    "### Review list of NA values in the 'Project Description' column\n",
    "nan_values = all_states_df[all_states_df['Project Description'].isna()]\n",
    "\n",
    "# print(len(nan_values))\n",
    "print(f'There are {len(nan_values)} columns with NA values in \"Project Description\" column:')\n",
    "\n",
    "#nan_values"
   ]
  },
  {
   "cell_type": "code",
   "execution_count": null,
   "id": "b0250fd7",
   "metadata": {},
   "outputs": [],
   "source": [
    "### Drop these rows where the column has NaN value\n",
    "    # source: https://towardsdatascience.com/how-to-drop-rows-in-pandas-dataframes-with-nan-values-in-certain-columns-7613ad1a7f25\n",
    "    \n",
    "all_states_df = all_states_df.dropna(subset=['Project Description'], how='all')\n",
    "\n",
    "### confirm the NaN rows were dropped by reviewing column length count:\n",
    "\n",
    "print(f'The DataFrame now has {len(all_states_df[\"Project ID\"])} rows of data:')\n",
    "all_states_df.head(1)\n"
   ]
  },
  {
   "cell_type": "code",
   "execution_count": null,
   "id": "9eeaec0b",
   "metadata": {},
   "outputs": [],
   "source": [
    "### Make the Project Description values all lowercase for value search:\n",
    "all_states_df['Project Description'] = all_states_df['Project Description'].str.lower()\n",
    "\n",
    "print(f'The Project Description column has been set to lowercase for all string values:')\n",
    "all_states_df.head(2)"
   ]
  },
  {
   "cell_type": "code",
   "execution_count": null,
   "id": "87ee5dd7",
   "metadata": {},
   "outputs": [],
   "source": [
    "### Brainstorm a list of words to filter the 'Project Description' column by.\n",
    "    # this list will be used to filter that column so that we are only working with projects that\n",
    "    # are actually vaccine related.\n",
    "\n",
    "search_term_list = ['immunize', 'immunization','access to vaccines', 'spikevax', 'bivalent', 'novavax', 'two-dose', \n",
    "                    'single-dose', 'emergency use authoriztaion', 'vaccine coverage', \n",
    "                    'vaccine access', 'vaccine distribution', 'distribute vaccines', 'vaccine', 'vaccination', 'vaccinate', 'moderna', 'pfizer', 'johnson & johnson', 'janssen']\n",
    "\n",
    "#print(search_term_list)"
   ]
  },
  {
   "cell_type": "code",
   "execution_count": null,
   "id": "8e27275c",
   "metadata": {},
   "outputs": [],
   "source": [
    "### Filter the dataframe column 'Project Description'\n",
    "    ## source: https://stackoverflow.com/questions/28679930/how-to-drop-rows-from-pandas-data-frame-that-contains-a-particular-string-in-a-p\n",
    "\n",
    "    \n",
    "covid_projects_df = all_states_df[all_states_df['Project Description'].str.contains('|'.join(search_term_list))]\n",
    "\n",
    "\n",
    "# print(len(all_states_df['Project Description']))\n",
    "print(f'The number of rows containing vaccine search criteria terms is {len(covid_projects_df[\"Project ID\"])}')\n",
    "covid_projects_df.head(2)\n"
   ]
  },
  {
   "cell_type": "code",
   "execution_count": null,
   "id": "73b61d7f",
   "metadata": {},
   "outputs": [],
   "source": [
    "### Now format all budget related columns as integers for summing in the .groupby step:\n",
    "\n",
    "# print(all_states_df.dtypes)\n",
    "# print(f'\\n----------------------------\\n')\n",
    "# print(covid_projects_df.dtypes)"
   ]
  },
  {
   "cell_type": "code",
   "execution_count": null,
   "id": "6c4b2445",
   "metadata": {
    "scrolled": false
   },
   "outputs": [],
   "source": [
    "### Clean up values preventing change of data type to int\n",
    "covid_projects_df[['Adopted Budget','Total Cumulative Obligations',\n",
    "                   'Total Cumulative Expenditures']] = covid_projects_df[['Adopted Budget',\n",
    "       'Total Cumulative Obligations', 'Total Cumulative Expenditures']].replace(['-', ' '] ,'', regex=True)\n",
    "\n",
    "\n",
    "numeric_cols = ['Adopted Budget',\n",
    "       'Total Cumulative Obligations', 'Total Cumulative Expenditures']\n",
    "\n",
    "\n",
    "### Convert budget columns to int for summarizing in groupby:\n",
    "covid_projects_df = covid_projects_df.replace(',','', regex=True)\n",
    "covid_projects_df[numeric_cols] = covid_projects_df[numeric_cols].apply(pd.to_numeric)\n",
    "\n",
    "### Confirm monetary columns are float/int datatypes:\n",
    "# print(covid_projects_df['Adopted Budget'].unique())\n",
    "print(covid_projects_df.dtypes)\n",
    "#covid_projects_df.head(3)\n"
   ]
  },
  {
   "cell_type": "code",
   "execution_count": null,
   "id": "35b3ad97",
   "metadata": {},
   "outputs": [],
   "source": [
    "### Group the filtered dataframe by state, summing applicable $ value columns\n",
    "    # if errors, clean columns causing errors. \n",
    "    # eg) 'Adopted Budget' column has values containing \"-\". This might prevent the .sum() function from working\n",
    "\n",
    "covid_sums_df = covid_projects_df.groupby(['State/Territory'], as_index=False).sum(['Adopted Budget', 'Total Cumulative Obligations', \n",
    "                                                                        'Total Cumulative Expenditures'])\n",
    "\n",
    "print(f'The column headers for the state_spending_df are:\\n\\n {covid_sums_df.columns}')\n",
    "covid_sums_df.head(1)"
   ]
  },
  {
   "cell_type": "code",
   "execution_count": null,
   "id": "0ad888a8",
   "metadata": {},
   "outputs": [],
   "source": [
    "### Add column of state name abbreviations:\n",
    "    # source: https://gist.github.com/rogerallen/1583593\n",
    "\n",
    "us_state_to_abbrev = {\n",
    "    \"Alabama\": \"AL\",\n",
    "    \"Alaska\": \"AK\",\n",
    "    \"Arizona\": \"AZ\",\n",
    "    \"Arkansas\": \"AR\",\n",
    "    \"California\": \"CA\",\n",
    "    \"Colorado\": \"CO\",\n",
    "    \"Connecticut\": \"CT\",\n",
    "    \"Delaware\": \"DE\",\n",
    "    \"Florida\": \"FL\",\n",
    "    \"Georgia\": \"GA\",\n",
    "    \"Hawaii\": \"HI\",\n",
    "    \"Idaho\": \"ID\",\n",
    "    \"Illinois\": \"IL\",\n",
    "    \"Indiana\": \"IN\",\n",
    "    \"Iowa\": \"IA\",\n",
    "    \"Kansas\": \"KS\",\n",
    "    \"Kentucky\": \"KY\",\n",
    "    \"Louisiana\": \"LA\",\n",
    "    \"Maine\": \"ME\",\n",
    "    \"Maryland\": \"MD\",\n",
    "    \"Massachusetts\": \"MA\",\n",
    "    \"Michigan\": \"MI\",\n",
    "    \"Minnesota\": \"MN\",\n",
    "    \"Mississippi\": \"MS\",\n",
    "    \"Missouri\": \"MO\",\n",
    "    \"Montana\": \"MT\",\n",
    "    \"Nebraska\": \"NE\",\n",
    "    \"Nevada\": \"NV\",\n",
    "    \"New Hampshire\": \"NH\",\n",
    "    \"New Jersey\": \"NJ\",\n",
    "    \"New Mexico\": \"NM\",\n",
    "    \"New York\": \"NY\",\n",
    "    \"North Carolina\": \"NC\",\n",
    "    \"North Dakota\": \"ND\",\n",
    "    \"Ohio\": \"OH\",\n",
    "    \"Oklahoma\": \"OK\",\n",
    "    \"Oregon\": \"OR\",\n",
    "    \"Pennsylvania\": \"PA\",\n",
    "    \"Rhode Island\": \"RI\",\n",
    "    \"South Carolina\": \"SC\",\n",
    "    \"South Dakota\": \"SD\",\n",
    "    \"Tennessee\": \"TN\",\n",
    "    \"Texas\": \"TX\",\n",
    "    \"Utah\": \"UT\",\n",
    "    \"Vermont\": \"VT\",\n",
    "    \"Virginia\": \"VA\",\n",
    "    \"Washington\": \"WA\",\n",
    "    \"West Virginia\": \"WV\",\n",
    "    \"Wisconsin\": \"WI\",\n",
    "    \"Wyoming\": \"WY\",\n",
    "    \"District of Columbia\": \"DC\",\n",
    "    \"American Samoa\": \"AS\",\n",
    "    \"Guam\": \"GU\",\n",
    "    \"Northern Mariana Islands\": \"MP\",\n",
    "    \"Puerto Rico\": \"PR\",\n",
    "    \"United States Minor Outlying Islands\": \"UM\",\n",
    "    \"Virgin Islands\": \"VI\",\n",
    "}\n",
    "    \n",
    "### add abbreviated state name column and reorder so the abbrev is after full state name column:\n",
    "covid_sums_df['Location'] = covid_sums_df['State/Territory'].map(us_state_to_abbrev)\n",
    "covid_sums_df = covid_sums_df[['State/Territory', 'Location', 'Adopted Budget', \n",
    "                                       'Total Cumulative Obligations', 'Total Cumulative Expenditures']]\n",
    "\n",
    "covid_sums_df.head()\n"
   ]
  },
  {
   "cell_type": "code",
   "execution_count": null,
   "id": "e8b82574",
   "metadata": {},
   "outputs": [],
   "source": [
    "### Groupby and count 'Project ID' in the covid_projects_df\n",
    "### then pd.merge onto state_spending_df, inplace=True\n",
    "\n",
    "covid_counts_df = covid_projects_df.groupby(['State/Territory'], as_index=False).count()[['State/Territory', 'Project ID']]\n",
    "\n",
    "covid_counts_df.head()\n"
   ]
  },
  {
   "cell_type": "code",
   "execution_count": null,
   "id": "43617697",
   "metadata": {},
   "outputs": [],
   "source": [
    "### Now merge the vaccine projects count by state onto the state_spending_df:\n",
    "\n",
    "state_spending_df = pd.merge(covid_sums_df, covid_counts_df, how ='inner', on =('State/Territory'))\n"
   ]
  },
  {
   "cell_type": "code",
   "execution_count": null,
   "id": "54c85ad8",
   "metadata": {},
   "outputs": [],
   "source": [
    "### Rename the counted 'Project ID' column for clarity:\n",
    "state_spending_df.rename(columns = {'Project ID':'Count of Vaccine Projects'}, inplace = True)\n",
    "\n",
    "state_spending_df"
   ]
  },
  {
   "cell_type": "code",
   "execution_count": null,
   "id": "7fd420e9",
   "metadata": {},
   "outputs": [],
   "source": [
    "### \"all_us_projects_df\" is for (2) from Joanna's slack message request:\n",
    "all_us_projects_df = all_states_df[['Recipient Name', 'State/Territory', 'Recipient Type', \n",
    "                                    'Completion Status', 'Project Name', 'Expenditure Category Group', 'Expenditure Category', \n",
    "                                    'Project Description', 'Adopted Budget', 'Total Cumulative Obligations', \n",
    "                                    'Total Cumulative Expenditures']].copy()\n",
    "\n",
    "\n",
    "all_us_projects_df['State/Territory'] = all_us_projects_df['State/Territory'].map(us_state_to_abbrev)\n",
    "all_us_projects_df.rename(columns = {'State/Territory':'State'}, inplace = True)\n",
    "\n",
    "all_us_projects_df[['Adopted Budget','Total Cumulative Obligations',\n",
    "                   'Total Cumulative Expenditures']] = all_us_projects_df[['Adopted Budget',\n",
    "       'Total Cumulative Obligations', 'Total Cumulative Expenditures']].replace(['-', ' '] ,'', regex=True)\n",
    "\n",
    "\n",
    "numeric_cols = ['Adopted Budget',\n",
    "       'Total Cumulative Obligations', 'Total Cumulative Expenditures']\n",
    "\n",
    "\n",
    "### convert budget columns to int for summarizing in groupby:\n",
    "all_us_projects_df = all_us_projects_df.replace(',','', regex=True)\n",
    "all_us_projects_df[numeric_cols] = all_us_projects_df[numeric_cols].apply(pd.to_numeric)\n",
    "\n",
    "# all_us_projects_df.dtypes\n",
    "all_us_projects_df.head(3)"
   ]
  },
  {
   "cell_type": "code",
   "execution_count": null,
   "id": "b830cbd1",
   "metadata": {},
   "outputs": [],
   "source": [
    "### \"us_covid_projects_df\" is for (3) from Joanna's slack message:\n",
    "us_covid_projects_df = all_us_projects_df[all_us_projects_df['Project Description'].str.contains('|'.join(search_term_list))]\n",
    "\n",
    "\n",
    "# print(len(all_states_df['Project Description']))\n",
    "print(f'The number of rows containing covid/vaccine search criteria terms is {len(us_covid_projects_df[\"Project Name\"])}')\n",
    "us_covid_projects_df.head()"
   ]
  },
  {
   "cell_type": "markdown",
   "id": "3f64a942",
   "metadata": {},
   "source": [
    "## Aaliyah Work Area"
   ]
  },
  {
   "cell_type": "code",
   "execution_count": null,
   "id": "592bd74e",
   "metadata": {},
   "outputs": [],
   "source": [
    "### import and read the state_summary.csv\n",
    "### Load csv file(s)\n",
    "state_summary_sheet = Path(\"Resources/state_summary.csv\")\n",
    "\n",
    "\n",
    "### Read csv file(s) as a DataFrame\n",
    "state_summary_df = pd.read_csv(state_summary_sheet, skipinitialspace= True)\n",
    "\n",
    "\n",
    "state_summary_df.head()"
   ]
  },
  {
   "cell_type": "code",
   "execution_count": null,
   "id": "ecbbc389",
   "metadata": {},
   "outputs": [],
   "source": [
    "### create a reduced dataframe from the state_summary_df columns: \n",
    "    #'State', 'Total state allocation (from the fed)', 'total state plus total local federal grant', \n",
    "    #'Share of state allocation spent', 'Share of state allocation obligated', 'Share of state allocation budgeted', \n",
    "    #'Total local allocation (from the fed)', 'Share of local spent', 'Share of local obligated', 'Share of local budgeted', \n",
    "    #'Share of state + local spent'\n",
    "\n",
    "import pandas as pd\n",
    "from pathlib import Path\n",
    "### Load csv file(s)\n",
    "state_summary_sheet = Path(\"Resources/state_summary.csv\")\n",
    "\n",
    "### Read csv file(s) as a DataFrame\n",
    "state_summary_df = pd.read_csv(state_summary_sheet, skipinitialspace=True)\n",
    "\n",
    "### Selecting the desired columns\n",
    "reduced_df = state_summary_df[['State', 'Total state allocation (from the fed)',\n",
    "                               'total state plus total local federal grant',\n",
    "                               'Share of state allocation spent', 'Share of state allocation obligated',\n",
    "                               'Share of state allocation budgeted', 'Total local allocation (from the fed)',\n",
    "                               'Share of local spent', 'Share of local obligated', 'Share of local budgeted',\n",
    "                               'Share of state + local spent']]\n",
    "\n",
    "\n",
    "\n",
    "reduced_df['State'] = reduced_df['State'].replace('_',' ', regex=True)\n",
    "\n",
    "### add abbreviated state name column and reorder so the abbrev is after full state name column:\n",
    "reduced_df['Location'] = reduced_df['State'].map(us_state_to_abbrev)\n",
    "\n",
    "\n",
    "reduced_df.rename(columns = {'State':'State/Territory'}, inplace = True)\n",
    "\n",
    "### Printing the reduced dataframe\n",
    "# print(reduced_df.columns)\n",
    "# print(reduced_df.dtypes)\n",
    "\n"
   ]
  },
  {
   "cell_type": "code",
   "execution_count": null,
   "id": "4864bbd1",
   "metadata": {},
   "outputs": [],
   "source": [
    "### convert all budget columns to numeric values\n",
    "### drop non-number values first:\n",
    "\n",
    "reduced_df[['Total state allocation (from the fed)', \n",
    "            'total state plus total local federal grant',\n",
    "            'Total local allocation (from the fed)']] = reduced_df[['Total state allocation (from the fed)', \n",
    "            'total state plus total local federal grant',\n",
    "            'Total local allocation (from the fed)']].replace(['\\$', '-', ' '] ,'', regex=True)\n",
    "\n",
    "\n",
    "numeric_cols = ['Total state allocation (from the fed)', \n",
    "            'total state plus total local federal grant',\n",
    "            'Total local allocation (from the fed)']\n",
    "\n",
    "\n",
    "### convert budget columns to int for summarizing in groupby:\n",
    "reduced_df = reduced_df.replace(',','', regex=True)\n",
    "reduced_df[numeric_cols] = reduced_df[numeric_cols].apply(pd.to_numeric)\n",
    "\n",
    "# reduced_df.dtypes\n",
    "print(reduced_df.dtypes)\n"
   ]
  },
  {
   "cell_type": "code",
   "execution_count": null,
   "id": "f9b83512",
   "metadata": {
    "scrolled": true
   },
   "outputs": [],
   "source": [
    "### Now replace percentage string values with a decimal float value dtype:\n",
    "    # reduced_df[['Share of state allocation spent', 'Share of state allocation obligated', 'Share of state allocation budgeted']] = reduced_df[['Share of state allocation spent', 'Share of state allocation obligated', 'Share of state allocation budgeted']].str.rstrip('%').astype('float') / 100.0\n",
    "\n",
    "convert_cols = ['Share of state allocation spent', 'Share of state allocation obligated', 'Share of state allocation budgeted', 'Share of local spent', 'Share of local obligated', 'Share of local budgeted', 'Share of state + local spent']\n",
    "\n",
    "reduced_df = reduced_df.replace('%','', regex=True)\n",
    "\n",
    "reduced_df[convert_cols] = reduced_df[convert_cols].astype(float)/100\n",
    "\n",
    "\n",
    "# print(reduced_df.dtypes)\n",
    "reduced_df.head(2)\n"
   ]
  },
  {
   "cell_type": "markdown",
   "id": "d5e48173",
   "metadata": {},
   "source": [
    "### Evan Work Area 2:"
   ]
  },
  {
   "cell_type": "code",
   "execution_count": null,
   "id": "b863458e",
   "metadata": {},
   "outputs": [],
   "source": [
    "### merge this data frame with Evan's \"state_spending_df\". Merge on the state columns.\n",
    "    # https://pandas.pydata.org/docs/reference/api/pandas.DataFrame.merge.html\n",
    "    # https://www.geeksforgeeks.org/how-to-join-pandas-dataframes-using-merge/#\n",
    "\n",
    "### EARN_states combines the three budget columns from \"All_US_Projects\" sheet with the entire \"State Summary Table\" sheet.\n",
    "### The three budget columns are filtered for covid projects, but all dollar value columns in the \"State Summary Table\" are not filtered by covid projects.\n",
    "\n",
    "EARN_states = pd.merge(state_spending_df, reduced_df, how ='inner', on =(['State/Territory', 'Location']))\n",
    "\n",
    "EARN_states.head(3)"
   ]
  },
  {
   "cell_type": "code",
   "execution_count": null,
   "id": "230b5890",
   "metadata": {
    "scrolled": false
   },
   "outputs": [],
   "source": [
    "### Add column to show percent of fed money spent per State:\n",
    "### [Total Cumulative Expenditures]/[total state plus total local federal grant]\n",
    "### sortby this new percent column.\n",
    "\n",
    "EARN_states['Percent Spent on Covid Projects'] = state_spending_df['Total Cumulative Expenditures']/EARN_states['total state plus total local federal grant']\n",
    "\n",
    "EARN_states.sort_values(by=['Percent Spent on Covid Projects'], ascending=False, inplace= True)\n",
    "\n",
    "EARN_states.head(6)"
   ]
  },
  {
   "cell_type": "code",
   "execution_count": null,
   "id": "5dc78bd3",
   "metadata": {},
   "outputs": [],
   "source": [
    "# Now do combined bar and line chart. Line shows [total state plus total local federal grant]\n",
    "# bar shows [Percent Spent]\n",
    "# x-axis is state name\n",
    "# Use this method: https://towardsdatascience.com/creating-a-dual-axis-combo-chart-in-python-52624b187834\n",
    "\n",
    "# x_label = EARN_states['State/Territory']\n"
   ]
  },
  {
   "cell_type": "code",
   "execution_count": null,
   "id": "4dae1317",
   "metadata": {},
   "outputs": [],
   "source": [
    "### Update this figure using the covid_projects_df values as those can be filtered by project description.\n",
    "# Create figure and axis #1\n",
    "\n",
    "\n",
    "# fig, ax1 = plt.subplots()\n",
    "# x = EARN_states['State/Territory']\n",
    "\n",
    "# # plot line chart on axis #1\n",
    "# ax1.plot(x, EARN_states['total state plus total local federal grant']) \n",
    "# ax1.set_ylabel('Total Federal funding ($)')\n",
    "# ax1.set_ylim(0, max(EARN_states['total state plus total local federal grant']))\n",
    "# ax1.legend(['test_legend1'], loc=\"upper left\")\n",
    "\n",
    "\n",
    "# # set up the 2nd axis\n",
    "# ax2 = ax1.twinx()\n",
    "# # plot bar chart on axis #2\n",
    "# ax2.bar(x, EARN_states['Percent Spent'], width=0.5, alpha=0.5, color='orange')\n",
    "# ax2.grid(False) # turn off grid #2\n",
    "# ax2.set_ylabel('Percent Spent')\n",
    "# ax2.set_ylim(0, 1)\n",
    "# ax2.legend(['test_legend2'], loc=\"upper right\")\n",
    "# plt.show()\n",
    "\n",
    "# print(max(EARN_states['total state plus total local federal grant']+500000))\n",
    "\n"
   ]
  },
  {
   "cell_type": "code",
   "execution_count": null,
   "id": "78949ac5",
   "metadata": {},
   "outputs": [],
   "source": []
  },
  {
   "cell_type": "markdown",
   "id": "6a495b70",
   "metadata": {},
   "source": [
    "## Data Exploration and Cleanup:\n",
    "- Describe here the group's data sets and how they were cleaned for analysis"
   ]
  },
  {
   "cell_type": "markdown",
   "id": "7a67af96",
   "metadata": {},
   "source": [
    "# Greg Work Area"
   ]
  },
  {
   "cell_type": "markdown",
   "id": "0fc434f9",
   "metadata": {},
   "source": [
    "### CDC Data"
   ]
  },
  {
   "cell_type": "code",
   "execution_count": null,
   "id": "07a92a2e",
   "metadata": {},
   "outputs": [],
   "source": [
    "#Import libraries\n",
    "import pandas as pd\n",
    "import numpy as np\n",
    "import matplotlib.pyplot as plt\n",
    "from scipy.stats import linregress\n",
    "import scipy.stats as st\n",
    "import seaborn as sns"
   ]
  },
  {
   "cell_type": "code",
   "execution_count": null,
   "id": "149a9e6a",
   "metadata": {},
   "outputs": [],
   "source": [
    "#Import vaccination data from csv\n",
    "vac_df = pd.read_csv('COVID-19_Vaccinations_in_the_United_States_Jurisdiction.csv')"
   ]
  },
  {
   "cell_type": "code",
   "execution_count": null,
   "id": "000058b0",
   "metadata": {},
   "outputs": [],
   "source": [
    "#function formats the CDC dataframe for US jursdictions - see below for input formats\n",
    "def CDC_format(df,key,date,add_str,drop_values): #key, filt -> str; length -> int; columns, drop_values -> list\n",
    "    df = df.dropna(subset=[key])\n",
    "    df = df[vac_df['Date'] == date]\n",
    "    df = df[~df[key].isin(drop_values)]\n",
    "    df[key] = add_str + vac_df[key].astype(str)\n",
    "    df.reset_index(drop = True, inplace = True)\n",
    "    return df"
   ]
  },
  {
   "cell_type": "code",
   "execution_count": null,
   "id": "0cddbb39",
   "metadata": {},
   "outputs": [],
   "source": [
    "drop = ['DD2','FM','AS','VI','BP2','IH2','GU','PN','PR','VA2','PW','US','MP','MH']\n",
    "vac_df = CDC_format(vac_df,'Location','12/28/2022','US_',drop)"
   ]
  },
  {
   "cell_type": "code",
   "execution_count": null,
   "id": "d285a3d8",
   "metadata": {},
   "outputs": [],
   "source": [
    "vac_df"
   ]
  },
  {
   "cell_type": "code",
   "execution_count": null,
   "id": "2ba886cd",
   "metadata": {},
   "outputs": [],
   "source": [
    "### Google vac data"
   ]
  },
  {
   "cell_type": "code",
   "execution_count": null,
   "id": "bebb7231",
   "metadata": {},
   "outputs": [],
   "source": [
    "#Import libraries\n",
    "\n",
    "import pandas as pd\n",
    "import numpy as np\n",
    "import matplotlib.pyplot as plt\n",
    "from scipy.stats import linregress\n",
    "import scipy.stats as st\n",
    "import seaborn as sns\n",
    "import cartopy.crs as ccrs\n",
    "import geoviews as gv # noqa\n",
    "import pyproj\n",
    "import geopandas as gpd\n",
    "import hvplot.pandas\n",
    "import plotly.express as px"
   ]
  },
  {
   "cell_type": "code",
   "execution_count": null,
   "id": "1d064807",
   "metadata": {},
   "outputs": [],
   "source": [
    "#Import vaccination data from google api\n",
    "vac_df = pd.read_csv('https://storage.googleapis.com/covid19-open-data/v3/latest/vaccinations.csv')"
   ]
  },
  {
   "cell_type": "code",
   "execution_count": null,
   "id": "e1c83cc9",
   "metadata": {},
   "outputs": [],
   "source": [
    "#function formats the google dataframes - see below for input formats\n",
    "def google_format(df,key,filt,length,columns,drop_values): #key, filt -> str; length -> int; columns, drop_values -> list\n",
    "    df = df.dropna(subset=[key])\n",
    "    df = df[df[key].str.contains(filt)]\n",
    "    mask = (df[key].str.len() == length)\n",
    "    df = df.loc[mask]\n",
    "    df = df[columns]\n",
    "    df = df[~df[key].isin(drop_values)]\n",
    "    df.reset_index(drop = True, inplace = True)\n",
    "    return df"
   ]
  },
  {
   "cell_type": "code",
   "execution_count": null,
   "id": "c6f6b9eb",
   "metadata": {},
   "outputs": [],
   "source": [
    "#Input values for vaccination data\n",
    "drop = ['US_AS','US_GU','US_MP','US_PR','US_VI']\n",
    "cols = ['date','location_key','cumulative_persons_fully_vaccinated','new_persons_vaccinated','new_persons_fully_vaccinated']\n",
    "loc_key = 'location_key'\n",
    "contains = 'US_'"
   ]
  },
  {
   "cell_type": "code",
   "execution_count": null,
   "id": "ac51a031",
   "metadata": {},
   "outputs": [],
   "source": [
    "#formatting vaccination data\n",
    "vac_df = google_format(vac_df, loc_key, contains, 5, cols, drop)"
   ]
  },
  {
   "cell_type": "code",
   "execution_count": null,
   "id": "a27e16b8",
   "metadata": {},
   "outputs": [],
   "source": [
    "mylist = ['Orange','Apple'] #Keywords search\n",
    "pattern = '|'.join(mylist)\n",
    "vac_df.location_key.str.contains(pattern)"
   ]
  },
  {
   "cell_type": "code",
   "execution_count": null,
   "id": "b46bdcb3",
   "metadata": {},
   "outputs": [],
   "source": [
    "#reading demographic data\n",
    "dem_df = pd.read_csv('demographics.csv')"
   ]
  },
  {
   "cell_type": "code",
   "execution_count": null,
   "id": "5864747b",
   "metadata": {},
   "outputs": [],
   "source": [
    "dem_df"
   ]
  },
  {
   "cell_type": "code",
   "execution_count": null,
   "id": "f3f85d9c",
   "metadata": {},
   "outputs": [],
   "source": [
    "dcols = ['location_key','population']"
   ]
  },
  {
   "cell_type": "code",
   "execution_count": null,
   "id": "85442a92",
   "metadata": {},
   "outputs": [],
   "source": [
    "#formatting demographic data\n",
    "dem_df = google_format(dem_df, loc_key, contains, 5, dcols, drop)"
   ]
  },
  {
   "cell_type": "code",
   "execution_count": null,
   "id": "ad603a24",
   "metadata": {},
   "outputs": [],
   "source": [
    "#reading epidemeology data\n",
    "epi_df = pd.read_csv('https://storage.googleapis.com/covid19-open-data/v3/latest/epidemiology.csv')"
   ]
  },
  {
   "cell_type": "code",
   "execution_count": null,
   "id": "314fec5a",
   "metadata": {},
   "outputs": [],
   "source": [
    "ecols = ['location_key','cumulative_confirmed','cumulative_deceased','cumulative_recovered']"
   ]
  },
  {
   "cell_type": "code",
   "execution_count": null,
   "id": "0e969428",
   "metadata": {},
   "outputs": [],
   "source": [
    "#formatting epidemeology data\n",
    "epi_df = google_format(epi_df, loc_key, contains, 5, ecols, drop)"
   ]
  },
  {
   "cell_type": "code",
   "execution_count": null,
   "id": "2c9c5017",
   "metadata": {},
   "outputs": [],
   "source": [
    "loc_key = pd.read_csv('https://storage.googleapis.com/covid19-open-data/v3/location/US.csv')"
   ]
  },
  {
   "cell_type": "code",
   "execution_count": null,
   "id": "fe993cbc",
   "metadata": {},
   "outputs": [],
   "source": [
    "AK_vac_df = US_vac_df[US_vac_df['location_key'].str.contains('US_AK')]"
   ]
  },
  {
   "cell_type": "code",
   "execution_count": null,
   "id": "9c05bf38",
   "metadata": {},
   "outputs": [],
   "source": [
    "#Looking at only one state - this can be skipped\n",
    "AK_total = AK_vac_df['cumulative_persons_fully_vaccinated'].iloc[1:len(AK_vac_df)].sum()\n",
    "AK_total"
   ]
  },
  {
   "cell_type": "code",
   "execution_count": null,
   "id": "848a2106",
   "metadata": {},
   "outputs": [],
   "source": [
    "#we don't need this at the moment, can be skipped\n",
    "def swap_rows(df, i1, i2): #Keep this!!!\n",
    "    a, b = df.iloc[i1, :].copy(), df.iloc[i2, :].copy()\n",
    "    df.iloc[i1, :], df.iloc[i2, :] = b, a\n",
    "    return df"
   ]
  },
  {
   "cell_type": "code",
   "execution_count": null,
   "id": "b62d1e66",
   "metadata": {},
   "outputs": [],
   "source": [
    "#merging dataframes\n",
    "total_df = vac_df.merge(dem_df, how = 'inner',on = 'location_key')"
   ]
  },
  {
   "cell_type": "code",
   "execution_count": null,
   "id": "7757f93e",
   "metadata": {},
   "outputs": [],
   "source": [
    "\n",
    "total_df['percent_fully_vaccinated'] = (total_df['cumulative_persons_fully_vaccinated']/total_df['population'])*100\n",
    "total_df.sort_values('percent_fully_vaccinated', ascending = False)"
   ]
  },
  {
   "cell_type": "code",
   "execution_count": null,
   "id": "d9d2c0ad",
   "metadata": {},
   "outputs": [],
   "source": [
    "#merging dataframes\n",
    "total_df = total_df.merge(epi_df, how = 'inner',on = 'location_key')"
   ]
  },
  {
   "cell_type": "code",
   "execution_count": null,
   "id": "5e16e8ac",
   "metadata": {},
   "outputs": [],
   "source": [
    "total_df['percent_death_rate_by_case'] = (total_df['cumulative_deceased']/total_df['cumulative_confirmed'])*100"
   ]
  },
  {
   "cell_type": "code",
   "execution_count": null,
   "id": "d88ad70e",
   "metadata": {},
   "outputs": [],
   "source": [
    "total_df['percent_death_rate_per_capita'] = (total_df['cumulative_deceased']/total_df['population'])*100"
   ]
  },
  {
   "cell_type": "code",
   "execution_count": null,
   "id": "6051644d",
   "metadata": {},
   "outputs": [],
   "source": [
    "total_df['percent_confirmed'] = (total_df['cumulative_confirmed']/total_df['population'])*100"
   ]
  },
  {
   "cell_type": "code",
   "execution_count": null,
   "id": "962f6937",
   "metadata": {},
   "outputs": [],
   "source": [
    "total_df['state_code'] = total_df.location_key.str.replace('US_','') #adding the state code for the plotly function"
   ]
  },
  {
   "cell_type": "code",
   "execution_count": null,
   "id": "4fae4876",
   "metadata": {},
   "outputs": [],
   "source": [
    "total_df.sort_values('percent_fully_vaccinated', ascending = False)"
   ]
  },
  {
   "cell_type": "code",
   "execution_count": null,
   "id": "91a8d2b3",
   "metadata": {},
   "outputs": [],
   "source": [
    "#function for regression plots\n",
    "def reg(df,x,y,x_text,y_text):    \n",
    "    lm = st.linregress(x = df[x], y = df[y])\n",
    "    data_fit = lm[0]*df[x] + lm[1]\n",
    "    fit_df = pd.DataFrame({'x': df[x], 'fitted': data_fit})\n",
    "    ax = sns.scatterplot(data = df, x = x, y = y)\n",
    "    #ax = df.plot.scatter(y = y, x = x, s = 30)\n",
    "    print(f\"The r-value is: {lm[2]}\")\n",
    "    fit_df.plot.line(x = 'x', y = 'fitted', color = 'red', ax=ax, legend = None, xlabel = x)\n",
    "    plt.text(x_text,y_text,f\"y = {'%.2f' %lm[0]}x + {'%.1f' %lm[1]}\", color = 'red', fontsize = 16)"
   ]
  },
  {
   "cell_type": "code",
   "execution_count": null,
   "id": "79927177",
   "metadata": {},
   "outputs": [],
   "source": [
    "reg(total_df,'percent_fully_vaccinated','percent_death_rate_by_case',50,0.6)"
   ]
  },
  {
   "cell_type": "code",
   "execution_count": null,
   "id": "62a67f83",
   "metadata": {},
   "outputs": [],
   "source": [
    "reg(total_df,'percent_fully_vaccinated','percent_death_rate_per_capita',50,0.15)"
   ]
  },
  {
   "cell_type": "code",
   "execution_count": null,
   "id": "4b14d0f0",
   "metadata": {},
   "outputs": [],
   "source": [
    "reg(total_df,'percent_fully_vaccinated','percent_confirmed',50,20)"
   ]
  },
  {
   "cell_type": "code",
   "execution_count": null,
   "id": "2547d5bd",
   "metadata": {},
   "outputs": [],
   "source": [
    "world = gpd.read_file(gpd.datasets.get_path('naturalearth_lowres'))\n",
    "\n",
    "world.hvplot(c='country', geo=True)"
   ]
  },
  {
   "cell_type": "code",
   "execution_count": null,
   "id": "b4d439f9",
   "metadata": {},
   "outputs": [],
   "source": [
    "#generating map of us states - you need to specify the color variable as one of the dataframe columns \n",
    "fig = px.choropleth(total_df,\n",
    "                    locations='state_code', \n",
    "                    locationmode=\"USA-states\", \n",
    "                    scope=\"usa\",\n",
    "                    color='percent_death_rate_per_capita',\n",
    "                    color_continuous_scale=\"blues\" \n",
    "                    )\n",
    "# fig.add_scattergeo(\n",
    "#     locations=total_df['state_code'],\n",
    "#     locationmode=\"USA-states\", \n",
    "#     text=total_df['state_code'],\n",
    "#     mode='text',\n",
    "# )\n",
    "fig.show()"
   ]
  },
  {
   "cell_type": "code",
   "execution_count": null,
   "id": "210648ae",
   "metadata": {},
   "outputs": [],
   "source": [
    "#Regression Analysis\n",
    "\n",
    "#Output\n",
    "#vaccine percent administered/distrubuted or vaccination rates; Administered_Dose1_Pop_Pct, Series_complete_pop_pct; dd_neg, dd_pos (sorted columns)\n",
    "\n",
    "#Regressor Variables\n",
    "\n",
    "#financial data\n",
    "#total dollar ammount spent on covid related projects\n",
    "#count of vaccine related projects by state\n",
    "#total ammount of dollars allocated to vaccine projects\n",
    "#total ammount of dollars spent"
   ]
  },
  {
   "cell_type": "code",
   "execution_count": 4,
   "id": "1808e93c",
   "metadata": {},
   "outputs": [
    {
     "ename": "NameError",
     "evalue": "name 'vac_whole_pop_df' is not defined",
     "output_type": "error",
     "traceback": [
      "\u001b[0;31m---------------------------------------------------------------------------\u001b[0m",
      "\u001b[0;31mNameError\u001b[0m                                 Traceback (most recent call last)",
      "\u001b[0;32m/var/folders/_9/80bxm26n3b5300q7n7g729_c0000gn/T/ipykernel_224/2029685466.py\u001b[0m in \u001b[0;36m<module>\u001b[0;34m\u001b[0m\n\u001b[1;32m      1\u001b[0m \u001b[0;31m#Adding regression analysis for combined financial and vaccination data (5/16/2023 - GM)\u001b[0m\u001b[0;34m\u001b[0m\u001b[0;34m\u001b[0m\u001b[0m\n\u001b[1;32m      2\u001b[0m \u001b[0;34m\u001b[0m\u001b[0m\n\u001b[0;32m----> 3\u001b[0;31m \u001b[0mcombined_df\u001b[0m \u001b[0;34m=\u001b[0m \u001b[0mvac_whole_pop_df\u001b[0m\u001b[0;34m.\u001b[0m\u001b[0mmerge\u001b[0m\u001b[0;34m(\u001b[0m\u001b[0mEARN_states\u001b[0m\u001b[0;34m,\u001b[0m \u001b[0mhow\u001b[0m \u001b[0;34m=\u001b[0m \u001b[0;34m'inner'\u001b[0m\u001b[0;34m,\u001b[0m\u001b[0mon\u001b[0m \u001b[0;34m=\u001b[0m \u001b[0;34m'Location'\u001b[0m\u001b[0;34m)\u001b[0m\u001b[0;34m\u001b[0m\u001b[0;34m\u001b[0m\u001b[0m\n\u001b[0m\u001b[1;32m      4\u001b[0m \u001b[0mcombined_df\u001b[0m\u001b[0;34m.\u001b[0m\u001b[0mcolumns\u001b[0m\u001b[0;34m\u001b[0m\u001b[0;34m\u001b[0m\u001b[0m\n",
      "\u001b[0;31mNameError\u001b[0m: name 'vac_whole_pop_df' is not defined"
     ]
    }
   ],
   "source": [
    "#Adding regression analysis for combined financial and vaccination data (5/16/2023 - GM)\n",
    "\n",
    "combined_df = vac_whole_pop_df.merge(EARN_states, how = 'inner',on = 'Location')\n",
    "combined_df.columns"
   ]
  },
  {
   "cell_type": "code",
   "execution_count": null,
   "id": "83d30df7",
   "metadata": {},
   "outputs": [],
   "source": [
    "from sklearn.linear_model import LinearRegression"
   ]
  },
  {
   "cell_type": "code",
   "execution_count": null,
   "id": "42ce3e4b",
   "metadata": {},
   "outputs": [],
   "source": [
    "combined_df = combined_df.dropna(axis = 0, how = 'any')\n",
    "combined_df.shape"
   ]
  },
  {
   "cell_type": "code",
   "execution_count": null,
   "id": "ec1f40ad",
   "metadata": {},
   "outputs": [],
   "source": [
    "def pd_reg(df,x,y,x_text,y_text):\n",
    "    fig = sns.lmplot(data = df, x = x, y = y)\n",
    "    lm = LinearRegression() \n",
    "    X = df[[x]]\n",
    "    Y = df[y]\n",
    "    model = lm.fit(X,Y)\n",
    "    print(f\"For x = {x} and y = {y}:\")\n",
    "    print(f\"The R^2 score is: {model.score(X,Y)}\")\n",
    "    plt.text(x_text, y_text, f\"y = {'%.2f' %lm.coef_}x + {'%.1f' %lm.intercept_}\", color = 'black', fontsize = 16)\n",
    "    plt.show()\n",
    "    return model"
   ]
  },
  {
   "cell_type": "code",
   "execution_count": null,
   "id": "47f37f28",
   "metadata": {},
   "outputs": [],
   "source": [
    "#Adding the names of the columns that we want to use as regression features\n",
    "feat_list = ['Percent Spent on Covid Projects', 'Count of Vaccine Projects', 'total state plus total local federal grant']\n",
    "target = 'Administered_Dose1_Pop_Pct'"
   ]
  },
  {
   "cell_type": "code",
   "execution_count": null,
   "id": "3c7da36d",
   "metadata": {},
   "outputs": [],
   "source": [
    "for var in feat_list:\n",
    "    print(f\"The regression feature is: {var}\")\n",
    "    pd_reg(combined_df, var, target, combined_df[var].mean(), combined_df[target].mean())"
   ]
  },
  {
   "cell_type": "code",
   "execution_count": null,
   "id": "eae14c27",
   "metadata": {},
   "outputs": [],
   "source": [
    "target = 'Series_Complete_Pop_Pct'"
   ]
  },
  {
   "cell_type": "code",
   "execution_count": null,
   "id": "ac9fc2f9",
   "metadata": {},
   "outputs": [],
   "source": [
    "for var in feat_list:\n",
    "    print(f\"The regression feature is: {var}\")\n",
    "    pd_reg(combined_df, var, target, combined_df[var].mean(), combined_df[target].mean())"
   ]
  },
  {
   "cell_type": "code",
   "execution_count": null,
   "id": "e9677d33",
   "metadata": {},
   "outputs": [],
   "source": [
    "#Looking at vac_dd_neg_df\n",
    "vac_dd_neg_fin = vac_dd_neg_df.merge(EARN_states, how = 'inner',on = 'Location')\n",
    "vac_dd_neg_fin.shape"
   ]
  },
  {
   "cell_type": "code",
   "execution_count": null,
   "id": "5335f0d2",
   "metadata": {},
   "outputs": [],
   "source": [
    "target = 'Dose Diff. as Pct of Doses Given'"
   ]
  },
  {
   "cell_type": "code",
   "execution_count": null,
   "id": "2e3180fa",
   "metadata": {},
   "outputs": [],
   "source": [
    "for var in feat_list:\n",
    "    print(f\"The regression feature is: {var}\")\n",
    "    pd_reg(vac_dd_neg_fin, var, target, vac_dd_neg_fin[var].mean(), vac_dd_neg_fin[target].mean())"
   ]
  },
  {
   "cell_type": "code",
   "execution_count": null,
   "id": "6e55ee4b",
   "metadata": {},
   "outputs": [],
   "source": [
    "#Looking at vac_dd_pos_df\n",
    "vac_dd_pos_fin = vac_dd_pos_df.merge(EARN_states, how = 'inner',on = 'Location')\n",
    "vac_dd_pos_fin.shape"
   ]
  },
  {
   "cell_type": "code",
   "execution_count": null,
   "id": "734490c3",
   "metadata": {},
   "outputs": [],
   "source": [
    "target = 'Dose Diff. as Pct of Residents Vaxxed'"
   ]
  },
  {
   "cell_type": "code",
   "execution_count": null,
   "id": "014b836a",
   "metadata": {},
   "outputs": [],
   "source": [
    "for var in feat_list:\n",
    "    print(f\"The regression feature is: {var}\")\n",
    "    pd_reg(vac_dd_pos_fin, var, target, vac_dd_pos_fin[var].mean(), vac_dd_pos_fin[target].mean())"
   ]
  },
  {
   "cell_type": "markdown",
   "id": "afe4fd3d",
   "metadata": {},
   "source": [
    "# Joanna Work Area"
   ]
  },
  {
   "cell_type": "code",
   "execution_count": null,
   "id": "e0923418",
   "metadata": {},
   "outputs": [],
   "source": [
    "#putting Greg's code down here so I can run my area independently of the rest of the sheet without error\n",
    "#Import libraries\n",
    "import pandas as pd\n",
    "import numpy as np\n",
    "import matplotlib.pyplot as plt \n",
    "from scipy.stats import linregress\n",
    "import scipy.stats as st\n",
    "import seaborn as sns\n",
    "import plotly.express as px\n",
    "import plotly.graph_objects as go"
   ]
  },
  {
   "cell_type": "code",
   "execution_count": null,
   "id": "5090ecea",
   "metadata": {},
   "outputs": [],
   "source": [
    "#Import vaccination data from csv\n",
    "vac_df = pd.read_csv('Resources/COVID-19_Vaccinations_in_the_United_States_Jurisdiction.csv')"
   ]
  },
  {
   "cell_type": "code",
   "execution_count": null,
   "id": "adba5815",
   "metadata": {},
   "outputs": [],
   "source": [
    "#function formats the CDC dataframe for US jursdictions - see below for input formats\n",
    "def CDC_format(df,key,date,add_str,drop_values): #key, filt -> str; length -> int; columns, drop_values -> list\n",
    "    df = df.dropna(subset=[key])\n",
    "    df = df[vac_df['Date'] == date]\n",
    "    df = df[~df[key].isin(drop_values)]\n",
    "    df[key] = add_str + vac_df[key].astype(str)\n",
    "    df.reset_index(drop = True, inplace = True)\n",
    "    return df"
   ]
  },
  {
   "cell_type": "code",
   "execution_count": null,
   "id": "176911ff",
   "metadata": {},
   "outputs": [],
   "source": [
    "#drop non-state territories from dataframe, select only rows with 12/28/22 data\n",
    "drop = ['DD2','FM','AS','VI','BP2','IH2','GU','PN','PR','VA2','PW','US','MP','MH']\n",
    "vac_df = CDC_format(vac_df,'Location','12/28/2022','US_',drop)"
   ]
  },
  {
   "cell_type": "code",
   "execution_count": null,
   "id": "ed1fb1cb",
   "metadata": {},
   "outputs": [],
   "source": [
    "#change location to match state code\n",
    "vac_df['Location'] = vac_df['Location'].str.replace('US_', '')"
   ]
  },
  {
   "cell_type": "markdown",
   "id": "b7af728b",
   "metadata": {},
   "source": [
    "## To do list\n",
    "Calculate population number they are using for each state and use it to calculate the Pop_Pct for Administered_Bivalent column\n",
    "\n",
    "Compare Administered to Recip_Administered to see if there are any significant differences in any state\n",
    "\n",
    "Make some smaller dataframes for viewing:\n",
    "\n",
    "a) Whole pop with Distrib, Administered, Dose1, Series Complete, Additional Doses, Second Booster, Administered Bivalent\n",
    "\n",
    "b) Each individual age group with Dose1, Series Complete, Additional Doses, Second Booster, Bivalent Booster\n",
    "\n",
    "c) Each category (Dose1, Series Complete, Additional Doses, Second Booster, Bivalent Booster) with all age ranges\n",
    "\n",
    "Identify which states have a high variance from the mean (general/nationwide population) in % vaccinated (looking at all dosage categories and age categories). This will show us which states were the \"good vaccinators\" and which the \"poor vaccinators.\" We can then use the EARN data to see if this correlates to how much of the federal money they spent, how many vaccination projects they did, etc.\n"
   ]
  },
  {
   "cell_type": "code",
   "execution_count": null,
   "id": "d5231ab2",
   "metadata": {},
   "outputs": [],
   "source": [
    "# get all the columns we will be interested in into one dataframe\n",
    "# NOTE: there is no Pop_Pct column for the administered_bivalent, and second_booster only for the age breakouts\n",
    "# but we can extrapolate from their other population calculations to calculate these. For second_booster to get state numbers\n",
    "# we have to add up the vaccines from the different manufacturers because we don't have them already summed.\n",
    "\n",
    "vac_df = pd.DataFrame(data=vac_df, columns=[\"Location\", \"Distributed\", \"Administered\", \"Recip_Administered\",\n",
    "                                                   \"Administered_Dose1_Recip\", \"Administered_Dose1_Pop_Pct\",\n",
    "                                                   \"Administered_Dose1_Recip_5Plus\", \"Administered_Dose1_Recip_5PlusPop_Pct\",\n",
    "                                                  \"Administered_Dose1_Recip_12Plus\", \"Administered_Dose1_Recip_12PlusPop_Pct\",\n",
    "                                                  \"Administered_Dose1_Recip_18Plus\", \"Administered_Dose1_Recip_18PlusPop_Pct\",\n",
    "                                                  \"Administered_Dose1_Recip_65Plus\", \"Administered_Dose1_Recip_65PlusPop_Pct\",\n",
    "                                                  \"Series_Complete_Yes\", \"Series_Complete_Pop_Pct\", \"Series_Complete_5Plus\",\n",
    "                                                \"Series_Complete_5PlusPop_Pct\", \"Series_Complete_12Plus\",\n",
    "                                                \"Series_Complete_12PlusPop_Pct\", \"Series_Complete_18Plus\",\n",
    "                                                \"Series_Complete_18PlusPop_Pct\", \"Series_Complete_65Plus\",\n",
    "                                                \"Series_Complete_65PlusPop_Pct\", \"Additional_Doses\",\n",
    "                                                   \"Additional_Doses_Vax_Pct\", \"Additional_Doses_5Plus\",\n",
    "                                                   \"Additional_Doses_5Plus_Vax_Pct\", \"Additional_Doses_12Plus\",\n",
    "                                                   \"Additional_Doses_12Plus_Vax_Pct\", \"Additional_Doses_18Plus\",\n",
    "                                                   \"Additional_Doses_18Plus_Vax_Pct\", \"Additional_Doses_50Plus\",\n",
    "                                                   \"Additional_Doses_50Plus_Vax_Pct\", \"Additional_Doses_65Plus\",\n",
    "                                                   \"Additional_Doses_65Plus_Vax_Pct\", \"Second_Booster_50Plus\",\n",
    "                                                   \"Second_Booster_50Plus_Vax_Pct\", \"Second_Booster_65Plus\",\n",
    "                                                   \"Second_Booster_65Plus_Vax_Pct\", \"Second_Booster_Janssen\",\n",
    "                                                    \"Second_Booster_Moderna\", \"Second_Booster_Pfizer\",\n",
    "                                                    \"Second_Booster_Unk_Manuf\", \"Administered_Bivalent\",\n",
    "                                                   \"Bivalent_Booster_5Plus\", \"Bivalent_Booster_5Plus_Pop_Pct\",\n",
    "                                                   \"Bivalent_Booster_12Plus\", \"Bivalent_Booster_12Plus_Pop_Pct\",\n",
    "                                                   \"Bivalent_Booster_18Plus\", \"Bivalent_Booster_18Plus_Pop_Pct\",\n",
    "                                                \"Bivalent_Booster_65Plus\", \"Bivalent_Booster_65Plus_Pop_Pct\"])"
   ]
  },
  {
   "cell_type": "code",
   "execution_count": null,
   "id": "0b14fa32",
   "metadata": {
    "scrolled": true
   },
   "outputs": [],
   "source": [
    "# remove commas from numeric columns\n",
    "# convert numeric columns to correct type\n",
    "vac_df = vac_df.replace(',','', regex=True)\n",
    "numeric_cols = [\"Distributed\", \"Administered\", \"Recip_Administered\", \"Administered_Dose1_Recip\", \"Administered_Dose1_Pop_Pct\",\n",
    "                \"Administered_Dose1_Recip_5Plus\", \"Administered_Dose1_Recip_5PlusPop_Pct\", \"Administered_Dose1_Recip_12Plus\",\n",
    "                \"Administered_Dose1_Recip_12PlusPop_Pct\", \"Administered_Dose1_Recip_18Plus\",\n",
    "                \"Administered_Dose1_Recip_18PlusPop_Pct\", \"Administered_Dose1_Recip_65Plus\",\n",
    "                \"Administered_Dose1_Recip_65PlusPop_Pct\", \"Series_Complete_Yes\", \"Series_Complete_Pop_Pct\",\n",
    "                \"Series_Complete_5Plus\", \"Series_Complete_12Plus\", \"Series_Complete_12PlusPop_Pct\", \"Series_Complete_18Plus\",\n",
    "                \"Series_Complete_18PlusPop_Pct\", \"Series_Complete_65Plus\", \"Series_Complete_65PlusPop_Pct\", \"Additional_Doses\",\n",
    "                \"Additional_Doses_Vax_Pct\", \"Additional_Doses_5Plus\", \"Additional_Doses_5Plus_Vax_Pct\", \"Additional_Doses_12Plus\",\n",
    "                \"Additional_Doses_12Plus_Vax_Pct\", \"Additional_Doses_18Plus\", \"Additional_Doses_18Plus_Vax_Pct\",\n",
    "                \"Additional_Doses_50Plus\", \"Additional_Doses_50Plus_Vax_Pct\", \"Additional_Doses_65Plus\",\n",
    "                \"Additional_Doses_65Plus_Vax_Pct\", \"Second_Booster_50Plus\", \"Second_Booster_50Plus_Vax_Pct\",\n",
    "                \"Second_Booster_65Plus\", \"Second_Booster_65Plus_Vax_Pct\", \"Second_Booster_Janssen\",\n",
    "                \"Second_Booster_Moderna\", \"Second_Booster_Pfizer\", \"Second_Booster_Unk_Manuf\", \"Administered_Bivalent\",\n",
    "                \"Bivalent_Booster_5Plus\", \"Bivalent_Booster_5Plus_Pop_Pct\", \"Bivalent_Booster_12Plus\",\n",
    "                \"Bivalent_Booster_12Plus_Pop_Pct\", \"Bivalent_Booster_18Plus\", \"Bivalent_Booster_18Plus_Pop_Pct\"]\n",
    "vac_df[numeric_cols] = vac_df[numeric_cols].apply(pd.to_numeric)\n",
    "vac_df"
   ]
  },
  {
   "cell_type": "code",
   "execution_count": null,
   "id": "99e84f02",
   "metadata": {},
   "outputs": [],
   "source": [
    "# calculate totals for second booster\n",
    "vac_df[\"Second_Booster_Total\"] = (vac_df[\"Second_Booster_Janssen\"] + vac_df[\"Second_Booster_Moderna\"]\n",
    "                                + vac_df[\"Second_Booster_Pfizer\"] + vac_df[\"Second_Booster_Unk_Manuf\"])\n",
    "# find their population number... ok this is off. ???\n",
    "# I don't know why it is appearing they used different population numbers. Something is weird here. We could just use a number\n",
    "# from the census, or just ignore the second booster.\n",
    "vac_df[\"Pop1\"] = vac_df[\"Series_Complete_Yes\"] / (vac_df[\"Series_Complete_Pop_Pct\"]/100)\n",
    "vac_df[\"Pop2\"] = vac_df[\"Administered_Dose1_Recip\"] / (vac_df[\"Administered_Dose1_Pop_Pct\"]/100)\n",
    "\n",
    "vac_pops_df = pd.DataFrame(data=vac_df, columns=[\"Location\", \"Pop1\", \"Pop2\"])\n",
    "vac_pops_df\n"
   ]
  },
  {
   "cell_type": "code",
   "execution_count": null,
   "id": "b6ea1dc0",
   "metadata": {},
   "outputs": [],
   "source": [
    "# df with vax data for all ages\n",
    "vac_all_ages_df = pd.DataFrame(data=vac_df, columns=[\"Location\", \"Distributed\", \"Administered\", \"Recip_Administered\",\n",
    "                                                   \"Administered_Dose1_Recip\", \"Administered_Dose1_Pop_Pct\",\n",
    "                                                    \"Series_Complete_Yes\", \"Series_Complete_Pop_Pct\",\n",
    "                                                     \"Additional_Doses\", \"Additional_Doses_Vax_Pct\", \"Administered_Bivalent\"])\n",
    "\n",
    "# add 'Dose Differential' column to track doses administered to nonresidents. Negative number = doses leaving the state\n",
    "vac_all_ages_df[\"Dose Differential\"] = vac_all_ages_df[\"Administered\"] - vac_all_ages_df[\"Recip_Administered\"]\n",
    "vac_all_ages_df[\"Dose Diff. as Pct of Doses Given\"] = abs(vac_all_ages_df[\"Dose Differential\"] / vac_all_ages_df[\"Administered\"])\n",
    "vac_all_ages_df[\"Dose Diff. as Pct of Residents Vaxxed\"] = abs(vac_all_ages_df[\"Dose Differential\"] / vac_all_ages_df[\"Recip_Administered\"])\n"
   ]
  },
  {
   "cell_type": "code",
   "execution_count": null,
   "id": "b728a976",
   "metadata": {},
   "outputs": [],
   "source": [
    "vac_dd_df = pd.DataFrame(data=vac_all_ages_df, columns=[\"Location\", \"Distributed\", \"Administered\", \"Recip_Administered\", \"Dose Differential\",\n",
    "                         \"Dose Diff. as Pct of Doses Given\", \"Dose Diff. as Pct of Residents Vaxxed\", \"Administered_Dose1_Pop_Pct\", \"Series_Complete_Pop_Pct\",\n",
    "                         \"Additional_Doses_Vax_Pct\"])\n",
    "vac_dd_df\n",
    "\n",
    "\n"
   ]
  },
  {
   "cell_type": "code",
   "execution_count": null,
   "id": "5c999932",
   "metadata": {},
   "outputs": [],
   "source": [
    "# get rows with negative dose differential (states that administered lots of vaccine to people living elsewhere)\n",
    "# sort in order of large differentials to small (as percent of total doses given)\n",
    "# for example: in NM at least 3.8% of the doses were given to people who lived elsewhere\n",
    "vac_dd_neg_df = vac_dd_df[vac_dd_df['Dose Differential'] < 1]\n",
    "vac_dd_neg_df = vac_dd_neg_df.sort_values(by=['Dose Diff. as Pct of Doses Given'], ascending=False)\n",
    "vac_dd_neg_df"
   ]
  },
  {
   "cell_type": "code",
   "execution_count": null,
   "id": "093351fd",
   "metadata": {},
   "outputs": [],
   "source": [
    "# get rows with positive dose differential (states with a lot of residents who were vaccinated elsewhere)\n",
    "# sort in order of large differentials to small (as percent of total doses given)\n",
    "# for example: in Arizona, at least 2.6% of the vaccinated population received doses elsewhere.\n",
    "vac_dd_pos_df = vac_dd_df[vac_dd_df['Dose Differential'] >= 1]\n",
    "vac_dd_pos_df = vac_dd_pos_df.sort_values(by=['Dose Diff. as Pct of Residents Vaxxed'], ascending=False)\n",
    "vac_dd_pos_df"
   ]
  },
  {
   "cell_type": "code",
   "execution_count": null,
   "id": "147bba9f",
   "metadata": {},
   "outputs": [],
   "source": [
    "# Checking on second booster columns\n",
    "vac_secondbooster_df = pd.DataFrame(data=vac_df, columns=[\"Location\", \"Second_Booster_50Plus\",\n",
    "                                                   \"Second_Booster_50Plus_Vax_Pct\", \"Second_Booster_65Plus\",\n",
    "                                                   \"Second_Booster_65Plus_Vax_Pct\", \"Second_Booster_Janssen\",\n",
    "                                                    \"Second_Booster_Moderna\", \"Second_Booster_Pfizer\",\n",
    "                                                    \"Second_Booster_Unk_Manuf\"])\n",
    "vac_secondbooster_df"
   ]
  },
  {
   "cell_type": "code",
   "execution_count": null,
   "id": "ad11afba",
   "metadata": {},
   "outputs": [],
   "source": [
    "# find how many doses were distributed vs administered\n",
    "# calculate percent\n",
    "# sort alphabetically by state\n",
    "vac_waste_df = pd.DataFrame(data=vac_df, columns=[\"Location\", \"Distributed\", \"Administered\"])\n",
    "vac_waste_df[\"Pct. Administered\"] = vac_waste_df[\"Administered\"] / vac_waste_df[\"Distributed\"]\n",
    "vac_waste_df.sort_values('Location')"
   ]
  },
  {
   "cell_type": "code",
   "execution_count": null,
   "id": "9619f77a",
   "metadata": {},
   "outputs": [],
   "source": [
    "# Show best 10 states in vaccine distribution percentage\n",
    "vac_waste_best_df = vac_waste_df.sort_values('Pct. Administered', ascending=False)\n",
    "vac_waste_best_df.head(10)"
   ]
  },
  {
   "cell_type": "code",
   "execution_count": null,
   "id": "1d55714a",
   "metadata": {},
   "outputs": [],
   "source": [
    "# Show worst 10 states in vaccine distribution percentage\n",
    "vac_waste_worst_df = vac_waste_df.sort_values('Pct. Administered', ascending=True)\n",
    "vac_waste_worst_df.head(10)"
   ]
  },
  {
   "cell_type": "code",
   "execution_count": null,
   "id": "458cc18e",
   "metadata": {},
   "outputs": [],
   "source": [
    "# whole pop info\n",
    "# NOTE: There is no percentage for the entire pop for bivalent so included the 5+ pop. If we have time, will pull in the same\n",
    "# census data they used to get the correct pct\n",
    "# second booster only has 50+ and 65+ % -- I'm sure there must be some reason for this, not sure what\n",
    "vac_whole_pop_df = pd.DataFrame(data=vac_df, columns=[\"Location\", \"Distributed\", \"Administered\", \"Recip_Administered\",\n",
    "                                                   \"Administered_Dose1_Recip\", \"Administered_Dose1_Pop_Pct\",\n",
    "                                                   \"Series_Complete_Yes\", \"Series_Complete_Pop_Pct\", \n",
    "                                                    \"Additional_Doses\", \"Additional_Doses_Vax_Pct\", \"Second_Booster_Total\", \n",
    "                                                    \"Second_Booster_Janssen\", \"Second_Booster_Moderna\", \"Second_Booster_Pfizer\",\n",
    "                                                    \"Second_Booster_Unk_Manuf\", \"Administered_Bivalent\", \"Bivalent_Booster_5Plus\", \n",
    "                                                      \"Bivalent_Booster_5Plus_Pop_Pct\"])\n",
    "vac_whole_pop_df"
   ]
  },
  {
   "cell_type": "code",
   "execution_count": null,
   "id": "be71265e",
   "metadata": {},
   "outputs": [],
   "source": [
    "vac_5plus_df = pd.DataFrame(data=vac_df, columns=[\"Location\", \n",
    "                                                   \"Administered_Dose1_Recip_5Plus\", \"Administered_Dose1_Recip_5PlusPop_Pct\",\n",
    "                                                  \"Series_Complete_5Plus\", \"Series_Complete_5PlusPop_Pct\",\n",
    "                                                   \"Additional_Doses_5Plus\", \"Additional_Doses_5Plus_Vax_Pct\", \n",
    "                                                   \"Bivalent_Booster_5Plus\", \"Bivalent_Booster_5Plus_Pop_Pct\"])\n",
    "vac_5plus_df"
   ]
  },
  {
   "cell_type": "code",
   "execution_count": null,
   "id": "e0a8c209",
   "metadata": {},
   "outputs": [],
   "source": [
    "# 12 plus vaccinations\n",
    "vac_12plus_df = pd.DataFrame(data=vac_df, columns=[\"Location\", \"Administered_Dose1_Recip_12Plus\",\n",
    "                                                   \"Administered_Dose1_Recip_12PlusPop_Pct\", \"Series_Complete_12Plus\",\n",
    "                                                   \"Series_Complete_12PlusPop_Pct\", \"Additional_Doses_12Plus\",\n",
    "                                                   \"Additional_Doses_12Plus_Vax_Pct\", \"Bivalent_Booster_12Plus\",\n",
    "                                                   \"Bivalent_Booster_12Plus_Pop_Pct\"])\n",
    "vac_12plus_df"
   ]
  },
  {
   "cell_type": "code",
   "execution_count": null,
   "id": "b97cfe11",
   "metadata": {},
   "outputs": [],
   "source": [
    "# 18 plus vaccinations\n",
    "vac_18plus_df = pd.DataFrame(data=vac_df, columns=[\"Location\", \"Administered_Dose1_Recip_18Plus\",\n",
    "                                                   \"Administered_Dose1_Recip_18PlusPop_Pct\", \"Series_Complete_18Plus\",\n",
    "                                                   \"Series_Complete_18PlusPop_Pct\", \"Additional_Doses_18Plus\",\n",
    "                                                   \"Additional_Doses_18Plus_Vax_Pct\", \"Bivalent_Booster_18Plus\",\n",
    "                                                   \"Bivalent_Booster_18Plus_Pop_Pct\"])\n",
    "vac_18plus_df"
   ]
  },
  {
   "cell_type": "code",
   "execution_count": null,
   "id": "bee09888",
   "metadata": {},
   "outputs": [],
   "source": [
    "# 65 plus vaccinations\n",
    "vac_65plus_df = pd.DataFrame(data=vac_df, columns=[\"Location\", \"Administered_Dose1_Recip_65Plus\",\n",
    "                                                   \"Administered_Dose1_Recip_65PlusPop_Pct\", \"Series_Complete_65Plus\",\n",
    "                                                   \"Series_Complete_65PlusPop_Pct\", \"Additional_Doses_65Plus\",\n",
    "                                                   \"Additional_Doses_65Plus_Vax_Pct\", \"Second_Booster_50Plus\",\n",
    "                                                   \"Second_Booster_50Plus_Vax_Pct\", \"Second_Booster_65Plus\",\n",
    "                                                   \"Second_Booster_65Plus_Vax_Pct\", \"Bivalent_Booster_65Plus\",\n",
    "                                                   \"Bivalent_Booster_65Plus_Pop_Pct\"])\n",
    "vac_65plus_df"
   ]
  },
  {
   "cell_type": "code",
   "execution_count": null,
   "id": "c14b741d",
   "metadata": {},
   "outputs": [],
   "source": [
    "# first dose info\n",
    "\n",
    "vac_firstdose_df = pd.DataFrame(data=vac_df, columns=[\"Location\", \"Administered_Dose1_Recip\", \"Administered_Dose1_Pop_Pct\",\n",
    "                                                   \"Administered_Dose1_Recip_5Plus\", \"Administered_Dose1_Recip_5PlusPop_Pct\",\n",
    "                                                  \"Administered_Dose1_Recip_12Plus\", \"Administered_Dose1_Recip_12PlusPop_Pct\",\n",
    "                                                  \"Administered_Dose1_Recip_18Plus\", \"Administered_Dose1_Recip_18PlusPop_Pct\",\n",
    "                                                  \"Administered_Dose1_Recip_65Plus\", \"Administered_Dose1_Recip_65PlusPop_Pct\"])\n",
    "vac_firstdose_df"
   ]
  },
  {
   "cell_type": "code",
   "execution_count": null,
   "id": "ba7bba79",
   "metadata": {},
   "outputs": [],
   "source": [
    "# series complete info\n",
    "vac_series_complete_df = pd.DataFrame(data=vac_df, columns=[\"Location\", \"Series_Complete_Yes\", \"Series_Complete_Pop_Pct\",\n",
    "                                                            \"Series_Complete_5Plus\", \"Series_Complete_5PlusPop_Pct\",\n",
    "                                                            \"Series_Complete_12Plus\", \"Series_Complete_12PlusPop_Pct\",\n",
    "                                                            \"Series_Complete_18Plus\", \"Series_Complete_18PlusPop_Pct\",\n",
    "                                                            \"Series_Complete_65Plus\", \"Series_Complete_65PlusPop_Pct\"])\n",
    "vac_series_complete_df"
   ]
  },
  {
   "cell_type": "code",
   "execution_count": null,
   "id": "100d9964",
   "metadata": {},
   "outputs": [],
   "source": [
    "vac_additional_doses_df = pd.DataFrame(data=vac_df, columns=[\"Location\", \"Additional_Doses\",\n",
    "                                                   \"Additional_Doses_Vax_Pct\", \"Additional_Doses_5Plus\",\n",
    "                                                   \"Additional_Doses_5Plus_Vax_Pct\", \"Additional_Doses_12Plus\",\n",
    "                                                   \"Additional_Doses_12Plus_Vax_Pct\", \"Additional_Doses_18Plus\",\n",
    "                                                   \"Additional_Doses_18Plus_Vax_Pct\", \"Additional_Doses_50Plus\",\n",
    "                                                   \"Additional_Doses_50Plus_Vax_Pct\", \"Additional_Doses_65Plus\",\n",
    "                                                   \"Additional_Doses_65Plus_Vax_Pct\"])\n",
    "vac_additional_doses_df"
   ]
  },
  {
   "cell_type": "code",
   "execution_count": null,
   "id": "0ebe8b51",
   "metadata": {},
   "outputs": [],
   "source": [
    "vac_second_booster_df = pd.DataFrame(data=vac_df, columns=[\"Location\", \"Second_Booster_50Plus\",\n",
    "                                                           \"Second_Booster_50Plus_Vax_Pct\", \"Second_Booster_65Plus\",\n",
    "                                                           \"Second_Booster_65Plus_Vax_Pct\", \"Second_Booster_Total\",\n",
    "                                                           \"Second_Booster_Janssen\", \"Second_Booster_Moderna\",\n",
    "                                                           \"Second_Booster_Pfizer\", \"Second_Booster_Unk_Manuf\"])\n",
    "vac_second_booster_df"
   ]
  },
  {
   "cell_type": "code",
   "execution_count": null,
   "id": "c31a389f",
   "metadata": {},
   "outputs": [],
   "source": [
    "vac_bivalent_df = pd.DataFrame(data=vac_df, columns=[\"Location\", \"Administered_Bivalent\", \"Bivalent_Booster_5Plus\",\n",
    "                                                     \"Bivalent_Booster_5Plus_Pop_Pct\", \"Bivalent_Booster_12Plus\",\n",
    "                                                     \"Bivalent_Booster_12Plus_Pop_Pct\", \"Bivalent_Booster_18Plus\",\n",
    "                                                     \"Bivalent_Booster_18Plus_Pop_Pct\", \"Bivalent_Booster_65Plus\",\n",
    "                                                     \"Bivalent_Booster_65Plus_Pop_Pct\"])\n",
    "vac_bivalent_df"
   ]
  },
  {
   "cell_type": "markdown",
   "id": "759f294c",
   "metadata": {},
   "source": [
    "# Kendal Work Area"
   ]
  },
  {
   "cell_type": "code",
   "execution_count": null,
   "id": "2f23aedb",
   "metadata": {},
   "outputs": [],
   "source": [
    "#putting Greg's code down here so I can run my area independently of the rest of the sheet without error\n",
    "#Import libraries\n",
    "import pandas as pd\n",
    "import matplotlib.pyplot as plt \n",
    "import plotly.express as px\n",
    "import plotly.graph_objects as go"
   ]
  },
  {
   "cell_type": "code",
   "execution_count": null,
   "id": "3956541e",
   "metadata": {},
   "outputs": [],
   "source": [
    "#Import vaccination data from csv\n",
    "vac_df = pd.read_csv('Resources/COVID-19_Vaccinations_in_the_United_States_Jurisdiction.csv')"
   ]
  },
  {
   "cell_type": "code",
   "execution_count": null,
   "id": "1227f1b0",
   "metadata": {},
   "outputs": [],
   "source": [
    "#function formats the CDC dataframe for US jursdictions - see below for input formats\n",
    "def CDC_format(df,key,date,add_str,drop_values): #key, filt -> str; length -> int; columns, drop_values -> list\n",
    "    df = df.dropna(subset=[key])\n",
    "    df = df[vac_df['Date'] == date]\n",
    "    df = df[~df[key].isin(drop_values)]\n",
    "    df[key] = add_str + vac_df[key].astype(str)\n",
    "    df.reset_index(drop = True, inplace = True)\n",
    "    return df"
   ]
  },
  {
   "cell_type": "code",
   "execution_count": null,
   "id": "56566f3b",
   "metadata": {},
   "outputs": [],
   "source": [
    "#drop non-state territories from dataframe\n",
    "drop = ['DD2','FM','AS','VI','BP2','IH2','GU','PN','PR','VA2','PW','US','MP','MH']\n",
    "vac_df = CDC_format(vac_df,'Location','12/28/2022','US_',drop)"
   ]
  },
  {
   "cell_type": "code",
   "execution_count": null,
   "id": "aafe1756",
   "metadata": {},
   "outputs": [],
   "source": [
    "#change location to match state code for choropleth maps\n",
    "vac_df['Location'] = vac_df['Location'].str.replace('US_', '')"
   ]
  },
  {
   "cell_type": "code",
   "execution_count": null,
   "id": "70bc1504",
   "metadata": {},
   "outputs": [],
   "source": [
    "#create df with only columns related to choropleth maps\n",
    "choropleth_vac_df = vac_df[['Location', \n",
    "                            'Distributed', \n",
    "                            'Administered', \n",
    "                            'Administered_Dose1_Pop_Pct', \n",
    "                            'Series_Complete_Pop_Pct', \n",
    "                            'Series_Complete_5PlusPop_Pct', \n",
    "                            'Series_Complete_12PlusPop_Pct', \n",
    "                            'Series_Complete_18PlusPop_Pct', \n",
    "                            'Series_Complete_65PlusPop_Pct', \n",
    "                            'Additional_Doses_Vax_Pct', \n",
    "                            'Additional_Doses_65Plus_Vax_Pct', \n",
    "                            'Second_Booster_65Plus_Vax_Pct', \n",
    "                            'Bivalent_Booster_5Plus_Pop_Pct', \n",
    "                            'Bivalent_Booster_12Plus_Pop_Pct', \n",
    "                            'Bivalent_Booster_18Plus_Pop_Pct', \n",
    "                            'Bivalent_Booster_65Plus_Pop_Pct']]"
   ]
  },
  {
   "cell_type": "code",
   "execution_count": null,
   "id": "ded5519c",
   "metadata": {},
   "outputs": [],
   "source": [
    "#determining color range to use for the continuous color scale in choropleth maps for bivalent booster status\n",
    "choropleth_vac_bivalent = choropleth_vac_df[['Bivalent_Booster_5Plus_Pop_Pct', \n",
    "                                             'Bivalent_Booster_12Plus_Pop_Pct', \n",
    "                                             'Bivalent_Booster_18Plus_Pop_Pct', \n",
    "                                             'Bivalent_Booster_65Plus_Pop_Pct']]\n",
    "choropleth_vac_bivalent = choropleth_vac_bivalent\n",
    "min_bivalent_df = choropleth_vac_bivalent.min()\n",
    "max_bivalent_df = choropleth_vac_bivalent.max()\n",
    "min_color_range_bivalent = min_bivalent_df.min()\n",
    "max_color_range_bivalent = max_bivalent_df.max()\n",
    "print(f\"The color range for any bivalent vaccination status choropleth map should be ({min_color_range_bivalent}, {max_color_range_bivalent}).\")\n",
    "\n"
   ]
  },
  {
   "cell_type": "code",
   "execution_count": null,
   "id": "c430cd97",
   "metadata": {},
   "outputs": [],
   "source": [
    "#determining color range to use for the continuous color scale in choropleth maps for fully vaccinated, and partially or fully vaccinated\n",
    "choropleth_vac_complete = choropleth_vac_df[['Administered_Dose1_Pop_Pct',\n",
    "                                             'Series_Complete_Pop_Pct',\n",
    "                                             'Series_Complete_5PlusPop_Pct', \n",
    "                                             'Series_Complete_12PlusPop_Pct', \n",
    "                                             'Series_Complete_18PlusPop_Pct', \n",
    "                                             'Series_Complete_65PlusPop_Pct']]\n",
    "choropleth_vac_complete = choropleth_vac_complete\n",
    "min_df = choropleth_vac_complete.min()\n",
    "max_df = choropleth_vac_complete.max()\n",
    "min_color_range = min_df.min()\n",
    "max_color_range = max_df.max()\n",
    "print(f\"The color range for any complete vaccination choropleth map should be ({min_color_range}, {max_color_range}).\")"
   ]
  },
  {
   "cell_type": "code",
   "execution_count": null,
   "id": "09f1b76a",
   "metadata": {},
   "outputs": [],
   "source": [
    "fig_complete_total_pop = px.choropleth(vac_df,\n",
    "                    locations='Location',\n",
    "                    locationmode=\"USA-states\",\n",
    "                    scope=\"usa\",\n",
    "                    color='Series_Complete_Pop_Pct',\n",
    "                    labels={'Series_Complete_Pop_Pct':'% of Population Fully Vaccinated'},\n",
    "                    color_continuous_scale=\"viridis_r\",\n",
    "                    range_color=(52,95),\n",
    "                    title='Vaccination Status by State - Fully Vaccinated'\n",
    "                    )\n",
    "fig_complete_total_pop"
   ]
  },
  {
   "cell_type": "code",
   "execution_count": null,
   "id": "3cb98905",
   "metadata": {},
   "outputs": [],
   "source": [
    "fig_complete_5plus = px.choropleth(vac_df,\n",
    "                    locations='Location',\n",
    "                    locationmode=\"USA-states\",\n",
    "                    scope=\"usa\",\n",
    "                    color='Series_Complete_5PlusPop_Pct',\n",
    "                    range_color=(52,95),\n",
    "                    labels={'Series_Complete_5PlusPop_Pct':'% of 5+ Population Fully Vaccinated'},\n",
    "                    color_continuous_scale=\"viridis_r\",\n",
    "                    title='Vaccination Status by State - Fully Vaccinated (5+)'\n",
    "                    )\n",
    "fig_complete_5plus"
   ]
  },
  {
   "cell_type": "code",
   "execution_count": null,
   "id": "b3cfce30",
   "metadata": {},
   "outputs": [],
   "source": [
    "fig_complete_12plus = px.choropleth(vac_df,\n",
    "                    locations='Location',\n",
    "                    locationmode=\"USA-states\",\n",
    "                    scope=\"usa\",\n",
    "                    color='Series_Complete_12PlusPop_Pct',\n",
    "                    labels={'Series_Complete_12PlusPop_Pct':'% of 12+ Population Fully Vaccinated'},\n",
    "                    color_continuous_scale=\"viridis_r\",\n",
    "                    range_color=(52,95),\n",
    "                    title='Vaccination Status by State - Fully Vaccinated (12+)'\n",
    "                    )\n",
    "fig_complete_12plus"
   ]
  },
  {
   "cell_type": "code",
   "execution_count": null,
   "id": "9c562482",
   "metadata": {},
   "outputs": [],
   "source": [
    "fig_complete_18plus = px.choropleth(vac_df,\n",
    "                    locations='Location',\n",
    "                    locationmode=\"USA-states\",\n",
    "                    scope=\"usa\",\n",
    "                    color='Series_Complete_18PlusPop_Pct',\n",
    "                    labels={'Series_Complete_18PlusPop_Pct':'% of 18+ Population Fully Vaccinated'},\n",
    "                    color_continuous_scale=\"viridis_r\",\n",
    "                    range_color=(52,95),\n",
    "                    title='Vaccination Status by State - Fully Vaccinated (18+)'\n",
    "                    )\n",
    "fig_complete_18plus"
   ]
  },
  {
   "cell_type": "code",
   "execution_count": null,
   "id": "3fce73a6",
   "metadata": {},
   "outputs": [],
   "source": [
    "fig_at_least_1 = px.choropleth(vac_df,\n",
    "                    locations='Location',\n",
    "                    locationmode=\"USA-states\",\n",
    "                    scope=\"usa\",\n",
    "                    color='Administered_Dose1_Pop_Pct',\n",
    "                    labels={'Administered_Dose1_Pop_Pct':'% of Population Partially or Fully Vaccinated'},\n",
    "                    color_continuous_scale=\"viridis_r\",\n",
    "                    range_color=(52,95),\n",
    "                    title='Vaccination Status by State - Partially or Fully Vaccinated'\n",
    "                    )\n",
    "fig_at_least_1"
   ]
  },
  {
   "cell_type": "code",
   "execution_count": null,
   "id": "4f585998",
   "metadata": {},
   "outputs": [],
   "source": [
    "fig_complete_65_plus = px.choropleth(vac_df,\n",
    "                    locations='Location',\n",
    "                    locationmode=\"USA-states\",\n",
    "                    scope=\"usa\",\n",
    "                    color='Series_Complete_65PlusPop_Pct',\n",
    "                    range_color=(52,95),\n",
    "                    labels={'Series_Complete_65PlusPop_Pct':'% of 65+ Population Fully Vaccinated'},\n",
    "                    color_continuous_scale=\"viridis_r\", \n",
    "                    title='Vaccination Status by State & Age - Fully Vaccinated (65+)'\n",
    "                    )\n",
    "fig_complete_65_plus"
   ]
  },
  {
   "cell_type": "code",
   "execution_count": null,
   "id": "f0651c97",
   "metadata": {},
   "outputs": [],
   "source": [
    "fig_bivalent_booster_65 = px.choropleth(vac_df,\n",
    "                    locations='Location',\n",
    "                    locationmode=\"USA-states\",\n",
    "                    scope=\"usa\",\n",
    "                    color='Bivalent_Booster_65Plus_Pop_Pct',\n",
    "                    labels={'Bivalent_Booster_65Plus_Pop_Pct':'% of 65+ Population with Bivalent Booster'},\n",
    "                    color_continuous_scale=\"magma_r\",  \n",
    "                    range_color=(5,63),\n",
    "                    title='Bivalent Booster Status by State - (65+)'\n",
    "                    )\n",
    "fig_bivalent_booster_65"
   ]
  },
  {
   "cell_type": "code",
   "execution_count": null,
   "id": "b7fe8d8b",
   "metadata": {},
   "outputs": [],
   "source": [
    "fig_bivalent_booster_5 = px.choropleth(vac_df,\n",
    "                    locations='Location',\n",
    "                    locationmode=\"USA-states\",\n",
    "                    scope=\"usa\",\n",
    "                    color='Bivalent_Booster_5Plus_Pop_Pct',\n",
    "                    labels={'Bivalent_Booster_5Plus_Pop_Pct':'% of 5+ Population with Bivalent Booster'},\n",
    "                    color_continuous_scale=\"magma_r\",\n",
    "                    range_color=(5,63),\n",
    "                    title='Bivalent Booster Status by State - (5+)'\n",
    "                    )\n",
    "fig_bivalent_booster_5"
   ]
  },
  {
   "cell_type": "code",
   "execution_count": null,
   "id": "c312a92d",
   "metadata": {},
   "outputs": [],
   "source": [
    "fig_bivalent_booster_12 = px.choropleth(vac_df,\n",
    "                    locations='Location',\n",
    "                    locationmode=\"USA-states\",\n",
    "                    scope=\"usa\",\n",
    "                    color='Bivalent_Booster_12Plus_Pop_Pct',\n",
    "                    labels={'Bivalent_Booster_12Plus_Pop_Pct':'% of 12+ Population with Bivalent Booster'},\n",
    "                    color_continuous_scale=\"magma_r\",  \n",
    "                    range_color=(5,63),\n",
    "                    title='Bivalent Booster Status by State - (12+)'\n",
    "                    )\n",
    "fig_bivalent_booster_12"
   ]
  },
  {
   "cell_type": "code",
   "execution_count": null,
   "id": "e776afbf",
   "metadata": {},
   "outputs": [],
   "source": [
    "fig_bivalent_booster_18 = px.choropleth(vac_df,\n",
    "                    locations='Location',\n",
    "                    locationmode=\"USA-states\",\n",
    "                    scope=\"usa\",\n",
    "                    color='Bivalent_Booster_18Plus_Pop_Pct',\n",
    "                    labels={'Bivalent_Booster_18Plus_Pop_Pct':'% of 18+ Population with Bivalent Booster'},\n",
    "                    color_continuous_scale=\"magma_r\",  \n",
    "                    range_color=(5,63),\n",
    "                    title='Bivalent Booster Status by State - (18+)'\n",
    "                    )\n",
    "fig_bivalent_booster_18"
   ]
  },
  {
   "cell_type": "code",
   "execution_count": null,
   "id": "e4c242c3",
   "metadata": {},
   "outputs": [],
   "source": [
    "#boxplots showing spread of data across all 50 states and DC for selected columns\n",
    "boxplot = vac_df.boxplot(column=['Series_Complete_Pop_Pct', \n",
    "                                 'Administered_Dose1_Pop_Pct', \n",
    "                                 'Series_Complete_65PlusPop_Pct', \n",
    "                                 'Bivalent_Booster_65Plus_Pop_Pct'], \n",
    "                         grid=True,\n",
    "                         figsize = (20,15),\n",
    "                        )\n",
    "plt.title(\"Distribution of Vaccination Rates Across U.S. States\")\n",
    "plt.xticks([1, 2, 3, 4], ['% Pop. Fully Vaccinated', '% Pop. Partially  or Fully Vaccinated', '% Pop. Fully Vaccinated - 65+', '% Pop. Bivalent Booster - 65+'])\n",
    "plt.savefig('Resources/boxplot.png')"
   ]
  },
  {
   "cell_type": "code",
   "execution_count": null,
   "id": "ef66390b",
   "metadata": {},
   "outputs": [],
   "source": [
    "#finding percentage of all projects that fall in each of the 7 expenditure category groups\n",
    "spending_overall = all_us_projects_df.groupby('Expenditure Category Group').count()\n",
    "total_projects = spending_overall['State'].sum()\n",
    "categories_percentage_overall = (spending_overall['State']/total_projects)*100\n",
    "categories_percentage_overall = pd.DataFrame(categories_percentage_overall)\n",
    "categories_percentage_overall.rename(columns={'State': '% of Total Projects'}, inplace=True)\n",
    "categories_percentage_overall = categories_percentage_overall.reset_index()"
   ]
  },
  {
   "cell_type": "code",
   "execution_count": null,
   "id": "1c5e0285",
   "metadata": {},
   "outputs": [],
   "source": [
    "#finding percentage of covid-related projects that fall in each of the 7 expenditure category groups\n",
    "spending_covid_project = covid_projects_df.groupby(\"Expenditure Category Group\").count()\n",
    "total_projects_covid = spending_covid_project['Recipient Name'].sum()\n",
    "categories_percentage_covid = (spending_covid_project['Recipient Name']/total_projects_covid)*100\n",
    "categories_percentage_covid = pd.DataFrame(categories_percentage_covid)\n",
    "categories_percentage_covid.rename(columns={'Recipient Name':'% of Covid Projects'}, inplace=True)\n",
    "categories_percentage_covid.reset_index()"
   ]
  },
  {
   "cell_type": "code",
   "execution_count": null,
   "id": "7c277a88",
   "metadata": {
    "scrolled": true
   },
   "outputs": [],
   "source": [
    "#finding the percentage of all projects that fall in each of the 7 expenditure category groups, grouped by state\n",
    "spending_by_state_all = all_us_projects_df.groupby(['State', 'Expenditure Category Group']).count()\n",
    "total_projects_per_state_all = spending_by_state_all.groupby('State')['Recipient Name'].sum()\n",
    "categories_percentage_by_state_all = (spending_by_state_all['Recipient Name']/total_projects_per_state_all)*100\n",
    "categories_percentage_by_state_all = pd.DataFrame(categories_percentage_by_state_all)\n",
    "categories_percentage_by_state_all.rename(columns={'Recipient Name': '% of All Projects'}, inplace=True)\n",
    "categories_percentage_covid = categories_percentage_by_state_all"
   ]
  },
  {
   "cell_type": "code",
   "execution_count": null,
   "id": "611bd915",
   "metadata": {},
   "outputs": [],
   "source": [
    "#finding the percentage of covid-related projects that fall in each of the 7 expenditure category groups, grouped by state\n",
    "spending_by_state_covid = all_us_projects_df.groupby(['State', 'Expenditure Category Group']).count()\n",
    "total_projects_per_state_covid = spending_by_state_covid.groupby('State')['Recipient Name'].sum()\n",
    "categories_percentage_by_state_covid = (spending_by_state_covid['Recipient Name']/total_projects_per_state_covid)*100\n",
    "categories_percentage_by_state_covid = pd.DataFrame(categories_percentage_by_state_covid)\n",
    "categories_percentage_by_state_covid.rename(columns={'Recipient Name': '% of Covid Projects'}, inplace=True)\n",
    "categories_percentage_by_state_covid\n"
   ]
  },
  {
   "cell_type": "code",
   "execution_count": null,
   "id": "ab0c2af4",
   "metadata": {},
   "outputs": [],
   "source": []
  },
  {
   "cell_type": "code",
   "execution_count": null,
   "id": "62d6c630",
   "metadata": {},
   "outputs": [],
   "source": []
  }
 ],
 "metadata": {
  "kernelspec": {
   "display_name": "Python 3 (ipykernel)",
   "language": "python",
   "name": "python3"
  },
  "language_info": {
   "codemirror_mode": {
    "name": "ipython",
    "version": 3
   },
   "file_extension": ".py",
   "mimetype": "text/x-python",
   "name": "python",
   "nbconvert_exporter": "python",
   "pygments_lexer": "ipython3",
   "version": "3.9.13"
  }
 },
 "nbformat": 4,
 "nbformat_minor": 5
}

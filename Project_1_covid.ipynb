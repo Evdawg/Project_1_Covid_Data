{
 "cells": [
  {
   "cell_type": "markdown",
   "id": "e5917f93",
   "metadata": {},
   "source": [
    "# A Comparison of State Use of SFLRF Funds for Vaccination Programs and Vaccination Rates in Each State\n",
    "\n"
   ]
  },
  {
   "cell_type": "markdown",
   "id": "6e532e8b",
   "metadata": {},
   "source": [
    "### Data Sources:\n",
    "CDC - \"COVID-19 Vaccinations in the United States, Jurisdiction\"\n",
    "csv downloaded 5/11/23\n",
    "https://data.cdc.gov/Vaccinations/COVID-19-Vaccinations-in-the-United-States-Jurisdi/unsk-b7fc\n",
    "\n",
    "EARN/EPI - \"EARN SLFRF Workbook for Q4 2022\" compiled by Dave Kamper of the Economic Policy Institute (dkamper@epi.org) from Treasury reports by states and local jurisidictions who received funding, and other data sources as detailed in the workbook."
   ]
  },
  {
   "cell_type": "markdown",
   "id": "b23002fa",
   "metadata": {},
   "source": [
    "## Production Code (Team: Put your code here after it is complete and ready to go)"
   ]
  },
  {
   "cell_type": "code",
   "execution_count": null,
   "id": "7cadda1f",
   "metadata": {},
   "outputs": [],
   "source": []
  },
  {
   "cell_type": "markdown",
   "id": "4c8d5e33",
   "metadata": {},
   "source": [
    "## Evan Work Area"
   ]
  },
  {
   "cell_type": "code",
   "execution_count": null,
   "id": "e874bc86",
   "metadata": {},
   "outputs": [],
   "source": [
    "# import dependencies and setup\n",
    "import matplotlib.pyplot as plt\n",
    "import numpy as np\n",
    "import pandas as pd\n",
    "from pprint import pprint\n",
    "from pathlib import Path"
   ]
  },
  {
   "cell_type": "code",
   "execution_count": 4,
   "id": "04f96624",
   "metadata": {},
   "outputs": [
    {
     "name": "stderr",
     "output_type": "stream",
     "text": [
      "C:\\Users\\EvanS\\AppData\\Local\\Temp\\ipykernel_14324\\3569332672.py:6: DtypeWarning: Columns (15,16,17) have mixed types. Specify dtype option on import or set low_memory=False.\n",
      "  all_states_df = pd.read_csv(all_states_sheet)\n"
     ]
    },
    {
     "data": {
      "text/html": [
       "<div>\n",
       "<style scoped>\n",
       "    .dataframe tbody tr th:only-of-type {\n",
       "        vertical-align: middle;\n",
       "    }\n",
       "\n",
       "    .dataframe tbody tr th {\n",
       "        vertical-align: top;\n",
       "    }\n",
       "\n",
       "    .dataframe thead th {\n",
       "        text-align: right;\n",
       "    }\n",
       "</style>\n",
       "<table border=\"1\" class=\"dataframe\">\n",
       "  <thead>\n",
       "    <tr style=\"text-align: right;\">\n",
       "      <th></th>\n",
       "      <th>Project ID</th>\n",
       "      <th>Recipient-ID</th>\n",
       "      <th>Recipient Name</th>\n",
       "      <th>State/Territory</th>\n",
       "      <th>StateList</th>\n",
       "      <th>Reporting Tier</th>\n",
       "      <th>Recipient Type</th>\n",
       "      <th>Completion Status</th>\n",
       "      <th>Project Name</th>\n",
       "      <th>Expenditure Category Group</th>\n",
       "      <th>Expenditure Category</th>\n",
       "      <th>Project Description</th>\n",
       "      <th>Adopted Budget</th>\n",
       "      <th>Total Cumulative Obligations</th>\n",
       "      <th>Total Cumulative Expenditures</th>\n",
       "      <th>Community benefit agreement? (Infrastructure Only)</th>\n",
       "      <th>Complying with David Bacon? (Infrastructure Only)</th>\n",
       "      <th>Project labor agreement? (Infrastructure Only)</th>\n",
       "      <th>Primary Demographic Served (Select Expenditure Categories Only)</th>\n",
       "    </tr>\n",
       "  </thead>\n",
       "  <tbody>\n",
       "    <tr>\n",
       "      <th>0</th>\n",
       "      <td>TPN-039343</td>\n",
       "      <td>RCP-039196</td>\n",
       "      <td>Woodbury County, Iowa</td>\n",
       "      <td>Iowa</td>\n",
       "      <td>Iowa</td>\n",
       "      <td>Tier 2.  Metropolitan cities and counties with...</td>\n",
       "      <td>Local Government</td>\n",
       "      <td>Cancelled</td>\n",
       "      <td>LEC Main project</td>\n",
       "      <td>1-Public Health</td>\n",
       "      <td>1.4-Prevention in Congregate Settings (Nursing...</td>\n",
       "      <td>HVAC to mitigate covid</td>\n",
       "      <td>-</td>\n",
       "      <td>-</td>\n",
       "      <td>-</td>\n",
       "      <td>NaN</td>\n",
       "      <td>NaN</td>\n",
       "      <td>NaN</td>\n",
       "      <td>1 Imp General Public</td>\n",
       "    </tr>\n",
       "    <tr>\n",
       "      <th>1</th>\n",
       "      <td>TPN-039461</td>\n",
       "      <td>RCP-036070</td>\n",
       "      <td>Lexington-Fayette Urban County, Kentucky</td>\n",
       "      <td>Kentucky</td>\n",
       "      <td>Kentucky</td>\n",
       "      <td>Tier 1. States, U.S. territories, metropolitan...</td>\n",
       "      <td>Local Government</td>\n",
       "      <td>Cancelled</td>\n",
       "      <td>Housing Stabilization - Salvation Army</td>\n",
       "      <td>6-Revenue Replacement</td>\n",
       "      <td>6.1-Provision of Government Services</td>\n",
       "      <td>Financial assistance to Salvation Army to impr...</td>\n",
       "      <td>-</td>\n",
       "      <td>-</td>\n",
       "      <td>-</td>\n",
       "      <td>NaN</td>\n",
       "      <td>NaN</td>\n",
       "      <td>NaN</td>\n",
       "      <td>NaN</td>\n",
       "    </tr>\n",
       "    <tr>\n",
       "      <th>2</th>\n",
       "      <td>TPN-039459</td>\n",
       "      <td>RCP-036070</td>\n",
       "      <td>Lexington-Fayette Urban County, Kentucky</td>\n",
       "      <td>Kentucky</td>\n",
       "      <td>Kentucky</td>\n",
       "      <td>Tier 1. States, U.S. territories, metropolitan...</td>\n",
       "      <td>Local Government</td>\n",
       "      <td>Cancelled</td>\n",
       "      <td>Non-Profit Capital Grants</td>\n",
       "      <td>6-Revenue Replacement</td>\n",
       "      <td>6.1-Provision of Government Services</td>\n",
       "      <td>The Nonprofit Capital Project Grants Program i...</td>\n",
       "      <td>-</td>\n",
       "      <td>-</td>\n",
       "      <td>-</td>\n",
       "      <td>NaN</td>\n",
       "      <td>NaN</td>\n",
       "      <td>NaN</td>\n",
       "      <td>1 Imp General Public</td>\n",
       "    </tr>\n",
       "    <tr>\n",
       "      <th>3</th>\n",
       "      <td>TPN-039763</td>\n",
       "      <td>RCP-036070</td>\n",
       "      <td>Lexington-Fayette Urban County, Kentucky</td>\n",
       "      <td>Kentucky</td>\n",
       "      <td>Kentucky</td>\n",
       "      <td>Tier 1. States, U.S. territories, metropolitan...</td>\n",
       "      <td>Local Government</td>\n",
       "      <td>Cancelled</td>\n",
       "      <td>Housing Stabilization - HOPE Center</td>\n",
       "      <td>6-Revenue Replacement</td>\n",
       "      <td>6.1-Provision of Government Services</td>\n",
       "      <td>To provide supportive transitional housing for...</td>\n",
       "      <td>-</td>\n",
       "      <td>-</td>\n",
       "      <td>-</td>\n",
       "      <td>NaN</td>\n",
       "      <td>NaN</td>\n",
       "      <td>NaN</td>\n",
       "      <td>NaN</td>\n",
       "    </tr>\n",
       "    <tr>\n",
       "      <th>4</th>\n",
       "      <td>TPN-042410</td>\n",
       "      <td>RCP-036070</td>\n",
       "      <td>Lexington-Fayette Urban County, Kentucky</td>\n",
       "      <td>Kentucky</td>\n",
       "      <td>Kentucky</td>\n",
       "      <td>Tier 1. States, U.S. territories, metropolitan...</td>\n",
       "      <td>Local Government</td>\n",
       "      <td>Cancelled</td>\n",
       "      <td>Black and Williams Gymnasium</td>\n",
       "      <td>2-Negative Economic Impacts</td>\n",
       "      <td>2.22-Strong Healthy Communities: Neighborhood ...</td>\n",
       "      <td>The supporting 5,000sf gymnasium facility is l...</td>\n",
       "      <td>-</td>\n",
       "      <td>-</td>\n",
       "      <td>-</td>\n",
       "      <td>NaN</td>\n",
       "      <td>NaN</td>\n",
       "      <td>NaN</td>\n",
       "      <td>15 Dis Imp HHs and populations residing in Qua...</td>\n",
       "    </tr>\n",
       "  </tbody>\n",
       "</table>\n",
       "</div>"
      ],
      "text/plain": [
       "   Project ID Recipient-ID                            Recipient Name  \\\n",
       "0  TPN-039343   RCP-039196                     Woodbury County, Iowa   \n",
       "1  TPN-039461   RCP-036070  Lexington-Fayette Urban County, Kentucky   \n",
       "2  TPN-039459   RCP-036070  Lexington-Fayette Urban County, Kentucky   \n",
       "3  TPN-039763   RCP-036070  Lexington-Fayette Urban County, Kentucky   \n",
       "4  TPN-042410   RCP-036070  Lexington-Fayette Urban County, Kentucky   \n",
       "\n",
       "  State/Territory StateList  \\\n",
       "0            Iowa      Iowa   \n",
       "1        Kentucky  Kentucky   \n",
       "2        Kentucky  Kentucky   \n",
       "3        Kentucky  Kentucky   \n",
       "4        Kentucky  Kentucky   \n",
       "\n",
       "                                      Reporting Tier    Recipient Type  \\\n",
       "0  Tier 2.  Metropolitan cities and counties with...  Local Government   \n",
       "1  Tier 1. States, U.S. territories, metropolitan...  Local Government   \n",
       "2  Tier 1. States, U.S. territories, metropolitan...  Local Government   \n",
       "3  Tier 1. States, U.S. territories, metropolitan...  Local Government   \n",
       "4  Tier 1. States, U.S. territories, metropolitan...  Local Government   \n",
       "\n",
       "  Completion Status                            Project Name  \\\n",
       "0         Cancelled                        LEC Main project   \n",
       "1         Cancelled  Housing Stabilization - Salvation Army   \n",
       "2         Cancelled               Non-Profit Capital Grants   \n",
       "3         Cancelled     Housing Stabilization - HOPE Center   \n",
       "4         Cancelled            Black and Williams Gymnasium   \n",
       "\n",
       "    Expenditure Category Group  \\\n",
       "0              1-Public Health   \n",
       "1        6-Revenue Replacement   \n",
       "2        6-Revenue Replacement   \n",
       "3        6-Revenue Replacement   \n",
       "4  2-Negative Economic Impacts   \n",
       "\n",
       "                                Expenditure Category  \\\n",
       "0  1.4-Prevention in Congregate Settings (Nursing...   \n",
       "1               6.1-Provision of Government Services   \n",
       "2               6.1-Provision of Government Services   \n",
       "3               6.1-Provision of Government Services   \n",
       "4  2.22-Strong Healthy Communities: Neighborhood ...   \n",
       "\n",
       "                                 Project Description  Adopted Budget   \\\n",
       "0                             HVAC to mitigate covid             -      \n",
       "1  Financial assistance to Salvation Army to impr...             -      \n",
       "2  The Nonprofit Capital Project Grants Program i...             -      \n",
       "3  To provide supportive transitional housing for...             -      \n",
       "4  The supporting 5,000sf gymnasium facility is l...             -      \n",
       "\n",
       "   Total Cumulative Obligations   Total Cumulative Expenditures   \\\n",
       "0                           -                               -      \n",
       "1                           -                               -      \n",
       "2                           -                               -      \n",
       "3                           -                               -      \n",
       "4                           -                               -      \n",
       "\n",
       "  Community benefit agreement? (Infrastructure Only)  \\\n",
       "0                                                NaN   \n",
       "1                                                NaN   \n",
       "2                                                NaN   \n",
       "3                                                NaN   \n",
       "4                                                NaN   \n",
       "\n",
       "  Complying with David Bacon? (Infrastructure Only)  \\\n",
       "0                                               NaN   \n",
       "1                                               NaN   \n",
       "2                                               NaN   \n",
       "3                                               NaN   \n",
       "4                                               NaN   \n",
       "\n",
       "  Project labor agreement? (Infrastructure Only)  \\\n",
       "0                                            NaN   \n",
       "1                                            NaN   \n",
       "2                                            NaN   \n",
       "3                                            NaN   \n",
       "4                                            NaN   \n",
       "\n",
       "  Primary Demographic Served (Select Expenditure Categories Only)  \n",
       "0                               1 Imp General Public               \n",
       "1                                                NaN               \n",
       "2                               1 Imp General Public               \n",
       "3                                                NaN               \n",
       "4  15 Dis Imp HHs and populations residing in Qua...               "
      ]
     },
     "execution_count": 4,
     "metadata": {},
     "output_type": "execute_result"
    }
   ],
   "source": [
    "# Load csv file(s)\n",
    "all_states_sheet = Path(\"Resources/EARN_all_states.csv\")\n",
    "\n",
    "\n",
    "# Read csv file(s) as a DataFrame\n",
    "all_states_df = pd.read_csv(all_states_sheet)\n",
    "\n",
    "\n",
    "# merge csv files (if applicable)\n",
    "\n",
    "\n",
    "# preview the raw DataFrame\n",
    "all_states_df.head()"
   ]
  },
  {
   "cell_type": "code",
   "execution_count": null,
   "id": "60e9d849",
   "metadata": {},
   "outputs": [],
   "source": [
    "# Brainstorm a list of words to filter the 'Project Description' column by.\n",
    "    ## this list will be used to filter that column so that we are only working with projects that\n",
    "    ## are actually covid related.\n",
    "    \n",
    "search_term_list = #[covid, vaccine, ...]\n"
   ]
  },
  {
   "cell_type": "code",
   "execution_count": null,
   "id": "ff52e75b",
   "metadata": {},
   "outputs": [],
   "source": [
    "# Filter the dataframe column 'Project Description'\n",
    "\n",
    "vaccine_projects_df = #all_states_df.<filter function syntax here> ...if ['Project Description'] == search_term_list\n",
    "\n",
    "# preview the 'filtered' dataframe:\n",
    "vaccine_projects_df.head()\n"
   ]
  },
  {
   "cell_type": "code",
   "execution_count": null,
   "id": "40afc953",
   "metadata": {},
   "outputs": [],
   "source": [
    "# Try to group the filtered dataframe by state, summing applicable $ value columns\n",
    "    ## if we get errors, then we need to clean columns causing errors. \n",
    "    ## eg) 'Adopted Budget' column has values containing \"-\". This might prevent the .sum() function from working\n",
    "\n",
    "state_spending_df = # vaccine_projects_df.groupby(['State/Territory']).sum(['Adopted Budget', 'Total Cumulative Obligations', 'Total Cumulative Expenditures'])\n",
    "\n"
   ]
  },
  {
   "cell_type": "markdown",
   "id": "6a495b70",
   "metadata": {},
   "source": [
    "## Data Exploration and Cleanup:\n",
    "- Describe here the group's data sets and how they were cleaned for analysis"
   ]
  },
  {
   "cell_type": "markdown",
   "id": "7a67af96",
   "metadata": {},
   "source": [
    "# Greg Work Area"
   ]
  },
  {
   "cell_type": "markdown",
   "id": "0fc434f9",
   "metadata": {},
   "source": [
    "### CDC Data"
   ]
  },
  {
   "cell_type": "code",
   "execution_count": null,
   "id": "07a92a2e",
   "metadata": {},
   "outputs": [],
   "source": [
    "#Import libraries\n",
    "import pandas as pd\n",
    "import numpy as np\n",
    "import matplotlib.pyplot as plt\n",
    "from scipy.stats import linregress\n",
    "import scipy.stats as st\n",
    "import seaborn as sns"
   ]
  },
  {
   "cell_type": "code",
   "execution_count": null,
   "id": "149a9e6a",
   "metadata": {},
   "outputs": [],
   "source": [
    "#Import vaccination data from csv\n",
    "vac_df = pd.read_csv('COVID-19_Vaccinations_in_the_United_States_Jurisdiction.csv')"
   ]
  },
  {
   "cell_type": "code",
   "execution_count": null,
   "id": "000058b0",
   "metadata": {},
   "outputs": [],
   "source": [
    "#function formats the CDC dataframe for US jursdictions - see below for input formats\n",
    "def CDC_format(df,key,date,add_str,drop_values): #key, filt -> str; length -> int; columns, drop_values -> list\n",
    "    df = df.dropna(subset=[key])\n",
    "    df = df[vac_df['Date'] == date]\n",
    "    df = df[~df[key].isin(drop_values)]\n",
    "    df[key] = add_str + vac_df[key].astype(str)\n",
    "    df.reset_index(drop = True, inplace = True)\n",
    "    return df"
   ]
  },
  {
   "cell_type": "code",
   "execution_count": null,
   "id": "0cddbb39",
   "metadata": {},
   "outputs": [],
   "source": [
    "drop = ['DD2','FM','AS','VI','BP2','IH2','GU','PN','PR','VA2','PW','US','MP','MH']\n",
    "vac_df = CDC_format(vac_df,'Location','12/28/2022','US_',drop)"
   ]
  },
  {
   "cell_type": "code",
   "execution_count": null,
   "id": "d285a3d8",
   "metadata": {},
   "outputs": [],
   "source": [
    "vac_df"
   ]
  },
  {
   "cell_type": "code",
   "execution_count": null,
   "id": "2ba886cd",
   "metadata": {},
   "outputs": [],
   "source": [
    "### Google vac data"
   ]
  },
  {
   "cell_type": "code",
   "execution_count": null,
   "id": "bebb7231",
   "metadata": {},
   "outputs": [],
   "source": [
    "#Import libraries\n",
    "\n",
    "import pandas as pd\n",
    "import numpy as np\n",
    "import matplotlib.pyplot as plt\n",
    "from scipy.stats import linregress\n",
    "import scipy.stats as st\n",
    "import seaborn as sns\n",
    "import cartopy.crs as ccrs\n",
    "import geoviews as gv # noqa\n",
    "import pyproj\n",
    "import geopandas as gpd\n",
    "import hvplot.pandas\n",
    "import plotly.express as px"
   ]
  },
  {
   "cell_type": "code",
   "execution_count": null,
   "id": "1d064807",
   "metadata": {},
   "outputs": [],
   "source": [
    "#Import vaccination data from google api\n",
    "vac_df = pd.read_csv('https://storage.googleapis.com/covid19-open-data/v3/latest/vaccinations.csv')"
   ]
  },
  {
   "cell_type": "code",
   "execution_count": null,
   "id": "e1c83cc9",
   "metadata": {},
   "outputs": [],
   "source": [
    "#function formats the google dataframes - see below for input formats\n",
    "def google_format(df,key,filt,length,columns,drop_values): #key, filt -> str; length -> int; columns, drop_values -> list\n",
    "    df = df.dropna(subset=[key])\n",
    "    df = df[df[key].str.contains(filt)]\n",
    "    mask = (df[key].str.len() == length)\n",
    "    df = df.loc[mask]\n",
    "    df = df[columns]\n",
    "    df = df[~df[key].isin(drop_values)]\n",
    "    df.reset_index(drop = True, inplace = True)\n",
    "    return df"
   ]
  },
  {
   "cell_type": "code",
   "execution_count": null,
   "id": "c6f6b9eb",
   "metadata": {},
   "outputs": [],
   "source": [
    "#Input values for vaccination data\n",
    "drop = ['US_AS','US_GU','US_MP','US_PR','US_VI']\n",
    "cols = ['date','location_key','cumulative_persons_fully_vaccinated','new_persons_vaccinated','new_persons_fully_vaccinated']\n",
    "loc_key = 'location_key'\n",
    "contains = 'US_'"
   ]
  },
  {
   "cell_type": "code",
   "execution_count": null,
   "id": "ac51a031",
   "metadata": {},
   "outputs": [],
   "source": [
    "#formatting vaccination data\n",
    "vac_df = google_format(vac_df, loc_key, contains, 5, cols, drop)"
   ]
  },
  {
   "cell_type": "code",
   "execution_count": null,
   "id": "a27e16b8",
   "metadata": {},
   "outputs": [],
   "source": [
    "mylist = ['Orange','Apple'] #Keywords search\n",
    "pattern = '|'.join(mylist)\n",
    "vac_df.location_key.str.contains(pattern)"
   ]
  },
  {
   "cell_type": "code",
   "execution_count": null,
   "id": "b46bdcb3",
   "metadata": {},
   "outputs": [],
   "source": [
    "#reading demographic data\n",
    "dem_df = pd.read_csv('demographics.csv')"
   ]
  },
  {
   "cell_type": "code",
   "execution_count": null,
   "id": "5864747b",
   "metadata": {},
   "outputs": [],
   "source": [
    "dem_df"
   ]
  },
  {
   "cell_type": "code",
   "execution_count": null,
   "id": "f3f85d9c",
   "metadata": {},
   "outputs": [],
   "source": [
    "dcols = ['location_key','population']"
   ]
  },
  {
   "cell_type": "code",
   "execution_count": null,
   "id": "85442a92",
   "metadata": {},
   "outputs": [],
   "source": [
    "#formatting demographic data\n",
    "dem_df = google_format(dem_df, loc_key, contains, 5, dcols, drop)"
   ]
  },
  {
   "cell_type": "code",
   "execution_count": null,
   "id": "ad603a24",
   "metadata": {},
   "outputs": [],
   "source": [
    "#reading epidemeology data\n",
    "epi_df = pd.read_csv('https://storage.googleapis.com/covid19-open-data/v3/latest/epidemiology.csv')"
   ]
  },
  {
   "cell_type": "code",
   "execution_count": null,
   "id": "314fec5a",
   "metadata": {},
   "outputs": [],
   "source": [
    "ecols = ['location_key','cumulative_confirmed','cumulative_deceased','cumulative_recovered']"
   ]
  },
  {
   "cell_type": "code",
   "execution_count": null,
   "id": "0e969428",
   "metadata": {},
   "outputs": [],
   "source": [
    "#formatting epidemeology data\n",
    "epi_df = google_format(epi_df, loc_key, contains, 5, ecols, drop)"
   ]
  },
  {
   "cell_type": "code",
   "execution_count": null,
   "id": "2c9c5017",
   "metadata": {},
   "outputs": [],
   "source": [
    "loc_key = pd.read_csv('https://storage.googleapis.com/covid19-open-data/v3/location/US.csv')"
   ]
  },
  {
   "cell_type": "code",
   "execution_count": null,
   "id": "fe993cbc",
   "metadata": {},
   "outputs": [],
   "source": [
    "AK_vac_df = US_vac_df[US_vac_df['location_key'].str.contains('US_AK')]"
   ]
  },
  {
   "cell_type": "code",
   "execution_count": null,
   "id": "9c05bf38",
   "metadata": {},
   "outputs": [],
   "source": [
    "#Looking at only one state - this can be skipped\n",
    "AK_total = AK_vac_df['cumulative_persons_fully_vaccinated'].iloc[1:len(AK_vac_df)].sum()\n",
    "AK_total"
   ]
  },
  {
   "cell_type": "code",
   "execution_count": null,
   "id": "848a2106",
   "metadata": {},
   "outputs": [],
   "source": [
    "#we don't need this at the moment, can be skipped\n",
    "def swap_rows(df, i1, i2): #Keep this!!!\n",
    "    a, b = df.iloc[i1, :].copy(), df.iloc[i2, :].copy()\n",
    "    df.iloc[i1, :], df.iloc[i2, :] = b, a\n",
    "    return df"
   ]
  },
  {
   "cell_type": "code",
   "execution_count": null,
   "id": "b62d1e66",
   "metadata": {},
   "outputs": [],
   "source": [
    "#merging dataframes\n",
    "total_df = vac_df.merge(dem_df, how = 'inner',on = 'location_key')"
   ]
  },
  {
   "cell_type": "code",
   "execution_count": null,
   "id": "7757f93e",
   "metadata": {},
   "outputs": [],
   "source": [
    "\n",
    "total_df['percent_fully_vaccinated'] = (total_df['cumulative_persons_fully_vaccinated']/total_df['population'])*100\n",
    "total_df.sort_values('percent_fully_vaccinated', ascending = False)"
   ]
  },
  {
   "cell_type": "code",
   "execution_count": null,
   "id": "d9d2c0ad",
   "metadata": {},
   "outputs": [],
   "source": [
    "#merging dataframes\n",
    "total_df = total_df.merge(epi_df, how = 'inner',on = 'location_key')"
   ]
  },
  {
   "cell_type": "code",
   "execution_count": null,
   "id": "5e16e8ac",
   "metadata": {},
   "outputs": [],
   "source": [
    "total_df['percent_death_rate_by_case'] = (total_df['cumulative_deceased']/total_df['cumulative_confirmed'])*100"
   ]
  },
  {
   "cell_type": "code",
   "execution_count": null,
   "id": "d88ad70e",
   "metadata": {},
   "outputs": [],
   "source": [
    "total_df['percent_death_rate_per_capita'] = (total_df['cumulative_deceased']/total_df['population'])*100"
   ]
  },
  {
   "cell_type": "code",
   "execution_count": null,
   "id": "6051644d",
   "metadata": {},
   "outputs": [],
   "source": [
    "total_df['percent_confirmed'] = (total_df['cumulative_confirmed']/total_df['population'])*100"
   ]
  },
  {
   "cell_type": "code",
   "execution_count": null,
   "id": "962f6937",
   "metadata": {},
   "outputs": [],
   "source": [
    "total_df['state_code'] = total_df.location_key.str.replace('US_','') #adding the state code for the plotly function"
   ]
  },
  {
   "cell_type": "code",
   "execution_count": null,
   "id": "4fae4876",
   "metadata": {},
   "outputs": [],
   "source": [
    "total_df.sort_values('percent_fully_vaccinated', ascending = False)"
   ]
  },
  {
   "cell_type": "code",
   "execution_count": null,
   "id": "91a8d2b3",
   "metadata": {},
   "outputs": [],
   "source": [
    "#function for regression plots\n",
    "def reg(df,x,y,x_text,y_text):    \n",
    "    lm = st.linregress(x = df[x], y = df[y])\n",
    "    data_fit = lm[0]*df[x] + lm[1]\n",
    "    fit_df = pd.DataFrame({'x': df[x], 'fitted': data_fit})\n",
    "    ax = sns.scatterplot(data = df, x = x, y = y)\n",
    "    #ax = df.plot.scatter(y = y, x = x, s = 30)\n",
    "    print(f\"The r-value is: {lm[2]}\")\n",
    "    fit_df.plot.line(x = 'x', y = 'fitted', color = 'red', ax=ax, legend = None, xlabel = x)\n",
    "    plt.text(x_text,y_text,f\"y = {'%.2f' %lm[0]}x + {'%.1f' %lm[1]}\", color = 'red', fontsize = 16)"
   ]
  },
  {
   "cell_type": "code",
   "execution_count": null,
   "id": "79927177",
   "metadata": {},
   "outputs": [],
   "source": [
    "reg(total_df,'percent_fully_vaccinated','percent_death_rate_by_case',50,0.6)"
   ]
  },
  {
   "cell_type": "code",
   "execution_count": null,
   "id": "62a67f83",
   "metadata": {},
   "outputs": [],
   "source": [
    "reg(total_df,'percent_fully_vaccinated','percent_death_rate_per_capita',50,0.15)"
   ]
  },
  {
   "cell_type": "code",
   "execution_count": null,
   "id": "4b14d0f0",
   "metadata": {},
   "outputs": [],
   "source": [
    "reg(total_df,'percent_fully_vaccinated','percent_confirmed',50,20)"
   ]
  },
  {
   "cell_type": "code",
   "execution_count": null,
   "id": "2547d5bd",
   "metadata": {},
   "outputs": [],
   "source": [
    "world = gpd.read_file(gpd.datasets.get_path('naturalearth_lowres'))\n",
    "\n",
    "world.hvplot(c='country', geo=True)"
   ]
  },
  {
   "cell_type": "code",
   "execution_count": null,
   "id": "b4d439f9",
   "metadata": {},
   "outputs": [],
   "source": [
    "#generating map of us states - you need to specify the color variable as one of the dataframe columns \n",
    "fig = px.choropleth(total_df,\n",
    "                    locations='state_code', \n",
    "                    locationmode=\"USA-states\", \n",
    "                    scope=\"usa\",\n",
    "                    color='percent_death_rate_per_capita',\n",
    "                    color_continuous_scale=\"blues\" \n",
    "                    )\n",
    "# fig.add_scattergeo(\n",
    "#     locations=total_df['state_code'],\n",
    "#     locationmode=\"USA-states\", \n",
    "#     text=total_df['state_code'],\n",
    "#     mode='text',\n",
    "# )\n",
    "fig.show()"
   ]
  },
  {
   "cell_type": "markdown",
   "id": "afe4fd3d",
   "metadata": {},
   "source": [
    "# Joanna Work Area"
   ]
  },
  {
   "cell_type": "code",
   "execution_count": null,
   "id": "e0923418",
   "metadata": {},
   "outputs": [],
   "source": []
  },
  {
   "cell_type": "markdown",
   "id": "759f294c",
   "metadata": {},
   "source": [
    "# Kendal Work Area"
   ]
  },
  {
   "cell_type": "code",
   "execution_count": null,
   "id": "aafe1756",
   "metadata": {},
   "outputs": [],
   "source": []
  },
  {
   "cell_type": "markdown",
   "id": "054b7c6b",
   "metadata": {},
   "source": [
    "# Sarah Work Area"
   ]
  },
  {
   "cell_type": "code",
   "execution_count": null,
   "id": "8f270fae",
   "metadata": {},
   "outputs": [],
   "source": []
  },
  {
   "cell_type": "markdown",
   "id": "bf081595",
   "metadata": {},
   "source": [
    "# Aaliyah Work Area"
   ]
  },
  {
   "cell_type": "code",
   "execution_count": null,
   "id": "c5a0dcf8",
   "metadata": {},
   "outputs": [],
   "source": []
  }
 ],
 "metadata": {
  "kernelspec": {
   "display_name": "Python 3 (ipykernel)",
   "language": "python",
   "name": "python3"
  },
  "language_info": {
   "codemirror_mode": {
    "name": "ipython",
    "version": 3
   },
   "file_extension": ".py",
   "mimetype": "text/x-python",
   "name": "python",
   "nbconvert_exporter": "python",
   "pygments_lexer": "ipython3",
   "version": "3.10.9"
  }
 },
 "nbformat": 4,
 "nbformat_minor": 5
}

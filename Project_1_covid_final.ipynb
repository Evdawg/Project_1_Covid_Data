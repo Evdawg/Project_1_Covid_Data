{
 "cells": [
  {
   "cell_type": "markdown",
   "id": "e27d366c",
   "metadata": {},
   "source": [
    "# A Comparison of State Use of SFLRF Funds for Vaccination Programs and Vaccination Rates in Each State"
   ]
  },
  {
   "cell_type": "markdown",
   "id": "55743c6e",
   "metadata": {},
   "source": [
    "### Data Sources:\n",
    "CDC - \"COVID-19 Vaccinations in the United States, Jurisdiction\"\n",
    "csv downloaded 5/11/23\n",
    "https://data.cdc.gov/Vaccinations/COVID-19-Vaccinations-in-the-United-States-Jurisdi/unsk-b7fc\n",
    "\n",
    "EARN/EPI - \"EARN SLFRF Workbook for Q4 2022\" compiled by Dave Kamper of the Economic Policy Institute (dkamper@epi.org) from Treasury reports by states and local jurisidictions who received funding, and other data sources as detailed in the workbook."
   ]
  },
  {
   "cell_type": "markdown",
   "id": "1dc1d837",
   "metadata": {},
   "source": [
    "# Imports - Aaliyah, Evan, Greg, Joanna, Kendal"
   ]
  },
  {
   "cell_type": "code",
   "execution_count": null,
   "id": "c8056ccc",
   "metadata": {},
   "outputs": [],
   "source": [
    "import matplotlib.pyplot as plt\n",
    "import numpy as np\n",
    "import pandas as pd\n",
    "from pprint import pprint\n",
    "from pathlib import Path\n",
    "from scipy.stats import linregress\n",
    "import scipy.stats as st\n",
    "import seaborn as sns\n",
    "import plotly.express as px\n",
    "import plotly.graph_objects as go\n",
    "from sklearn.linear_model import LinearRegression"
   ]
  },
  {
   "cell_type": "code",
   "execution_count": null,
   "id": "fae05dee",
   "metadata": {},
   "outputs": [],
   "source": [
    "### Hide error messages\n",
    "pd.options.mode.chained_assignment = None  # default='warn'"
   ]
  },
  {
   "cell_type": "markdown",
   "id": "66bfe513",
   "metadata": {},
   "source": [
    "# Data Cleaning - Mostly Evan & Aaliyah"
   ]
  },
  {
   "cell_type": "code",
   "execution_count": null,
   "id": "9c6f2966",
   "metadata": {},
   "outputs": [],
   "source": [
    "### Load csv file(s)\n",
    "all_states_sheet = Path(\"Resources/EARN_all_states.csv\")\n",
    "state_summary_sheet = Path(\"Resources/state_summary.csv\")\n",
    "\n",
    "### Read csv file(s) as DataFrames\n",
    "all_states_df = pd.read_csv(all_states_sheet, skipinitialspace= True, low_memory=False)\n",
    "state_summary_df = pd.read_csv(state_summary_sheet, skipinitialspace= True)\n",
    "vac_df = pd.read_csv('Resources/COVID-19_Vaccinations_in_the_United_States_Jurisdiction.csv')\n",
    "vac_df_2 = pd.read_csv('Resources/COVID-19_Vaccinations_in_the_United_States_Jurisdiction.csv')\n",
    "\n",
    "#change location to match state code\n",
    "vac_df['Location'] = vac_df['Location'].str.replace('US_', '')\n",
    "\n",
    "#remove spaces at the beginning and end of the string\n",
    "all_states_df.columns = all_states_df.columns.str.strip()\n"
   ]
  },
  {
   "cell_type": "markdown",
   "id": "e992d7d2",
   "metadata": {},
   "source": [
    "### *EARN - Initial Data Cleaning* - Mostly Evan and Aaliyah"
   ]
  },
  {
   "cell_type": "code",
   "execution_count": null,
   "id": "e7262915",
   "metadata": {},
   "outputs": [],
   "source": [
    "### Drop rows where the column has NaN value in all_states_df\n",
    "    # source: https://towardsdatascience.com/how-to-drop-rows-in-pandas-dataframes-with-nan-values-in-certain-columns-7613ad1a7f25\n",
    "    \n",
    "all_states_df = all_states_df.dropna(subset=['Project Description'], how='all')"
   ]
  },
  {
   "cell_type": "code",
   "execution_count": null,
   "id": "99777f03",
   "metadata": {},
   "outputs": [],
   "source": [
    "### Make the Project Description values all lowercase for value search in all_states_df:\n",
    "all_states_df['Project Description'] = all_states_df['Project Description'].str.lower()"
   ]
  },
  {
   "cell_type": "code",
   "execution_count": null,
   "id": "9f7754db",
   "metadata": {},
   "outputs": [],
   "source": [
    "### Create dictionary in order to add a column of state name abbreviations to any DF:\n",
    "    # source: https://gist.github.com/rogerallen/1583593\n",
    "\n",
    "us_state_to_abbrev = {\n",
    "    \"Alabama\": \"AL\",\n",
    "    \"Alaska\": \"AK\",\n",
    "    \"Arizona\": \"AZ\",\n",
    "    \"Arkansas\": \"AR\",\n",
    "    \"California\": \"CA\",\n",
    "    \"Colorado\": \"CO\",\n",
    "    \"Connecticut\": \"CT\",\n",
    "    \"Delaware\": \"DE\",\n",
    "    \"Florida\": \"FL\",\n",
    "    \"Georgia\": \"GA\",\n",
    "    \"Hawaii\": \"HI\",\n",
    "    \"Idaho\": \"ID\",\n",
    "    \"Illinois\": \"IL\",\n",
    "    \"Indiana\": \"IN\",\n",
    "    \"Iowa\": \"IA\",\n",
    "    \"Kansas\": \"KS\",\n",
    "    \"Kentucky\": \"KY\",\n",
    "    \"Louisiana\": \"LA\",\n",
    "    \"Maine\": \"ME\",\n",
    "    \"Maryland\": \"MD\",\n",
    "    \"Massachusetts\": \"MA\",\n",
    "    \"Michigan\": \"MI\",\n",
    "    \"Minnesota\": \"MN\",\n",
    "    \"Mississippi\": \"MS\",\n",
    "    \"Missouri\": \"MO\",\n",
    "    \"Montana\": \"MT\",\n",
    "    \"Nebraska\": \"NE\",\n",
    "    \"Nevada\": \"NV\",\n",
    "    \"New Hampshire\": \"NH\",\n",
    "    \"New Jersey\": \"NJ\",\n",
    "    \"New Mexico\": \"NM\",\n",
    "    \"New York\": \"NY\",\n",
    "    \"North Carolina\": \"NC\",\n",
    "    \"North Dakota\": \"ND\",\n",
    "    \"Ohio\": \"OH\",\n",
    "    \"Oklahoma\": \"OK\",\n",
    "    \"Oregon\": \"OR\",\n",
    "    \"Pennsylvania\": \"PA\",\n",
    "    \"Rhode Island\": \"RI\",\n",
    "    \"South Carolina\": \"SC\",\n",
    "    \"South Dakota\": \"SD\",\n",
    "    \"Tennessee\": \"TN\",\n",
    "    \"Texas\": \"TX\",\n",
    "    \"Utah\": \"UT\",\n",
    "    \"Vermont\": \"VT\",\n",
    "    \"Virginia\": \"VA\",\n",
    "    \"Washington\": \"WA\",\n",
    "    \"West Virginia\": \"WV\",\n",
    "    \"Wisconsin\": \"WI\",\n",
    "    \"Wyoming\": \"WY\",\n",
    "    \"District of Columbia\": \"DC\",\n",
    "    \"American Samoa\": \"AS\",\n",
    "    \"Guam\": \"GU\",\n",
    "    \"Northern Mariana Islands\": \"MP\",\n",
    "    \"Puerto Rico\": \"PR\",\n",
    "    \"United States Minor Outlying Islands\": \"UM\",\n",
    "    \"Virgin Islands\": \"VI\",\n",
    "}"
   ]
  },
  {
   "cell_type": "code",
   "execution_count": null,
   "id": "f56494f4",
   "metadata": {},
   "outputs": [],
   "source": [
    "### Selecting the desired columns in state_summary_df and saving as new, reduced_df\n",
    "reduced_df = state_summary_df[['State', 'Total state allocation (from the fed)',\n",
    "                               'total state plus total local federal grant',\n",
    "                               'Share of state allocation spent', 'Share of state allocation obligated',\n",
    "                               'Share of state allocation budgeted', 'Total local allocation (from the fed)',\n",
    "                               'Share of local spent', 'Share of local obligated', 'Share of local budgeted',\n",
    "                               'Share of state + local spent']]\n",
    "\n",
    "\n",
    "\n",
    "reduced_df['State'] = reduced_df['State'].replace('_',' ', regex=True)\n",
    "\n",
    "### add abbreviated state name column and reorder so the abbrev is after full state name column:\n",
    "reduced_df['Location'] = reduced_df['State'].map(us_state_to_abbrev)\n",
    "\n",
    "\n",
    "reduced_df.rename(columns = {'State':'State/Territory'}, inplace = True)"
   ]
  },
  {
   "cell_type": "code",
   "execution_count": null,
   "id": "66124e36",
   "metadata": {},
   "outputs": [],
   "source": [
    "### convert all budget columns to numeric values for reduced_df\n",
    "### drop non-number values first:\n",
    "\n",
    "reduced_df[['Total state allocation (from the fed)', \n",
    "            'total state plus total local federal grant',\n",
    "            'Total local allocation (from the fed)']] = reduced_df[['Total state allocation (from the fed)', \n",
    "            'total state plus total local federal grant',\n",
    "            'Total local allocation (from the fed)']].replace(['\\$', '-', ' '] ,'', regex=True)\n",
    "\n",
    "\n",
    "numeric_cols = ['Total state allocation (from the fed)', \n",
    "            'total state plus total local federal grant',\n",
    "            'Total local allocation (from the fed)']\n",
    "\n",
    "\n",
    "### convert budget columns to int for summarizing in groupby:\n",
    "reduced_df = reduced_df.replace(',','', regex=True)\n",
    "reduced_df[numeric_cols] = reduced_df[numeric_cols].apply(pd.to_numeric)"
   ]
  },
  {
   "cell_type": "code",
   "execution_count": null,
   "id": "0296442e",
   "metadata": {},
   "outputs": [],
   "source": [
    "### Now replace percentage string values with a decimal float value dtype:\n",
    "    # reduced_df[['Share of state allocation spent', 'Share of state allocation obligated', 'Share of state allocation budgeted']] = reduced_df[['Share of state allocation spent', 'Share of state allocation obligated', 'Share of state allocation budgeted']].str.rstrip('%').astype('float') / 100.0\n",
    "\n",
    "convert_cols = ['Share of state allocation spent', 'Share of state allocation obligated', 'Share of state allocation budgeted', 'Share of local spent', 'Share of local obligated', 'Share of local budgeted', 'Share of state + local spent']\n",
    "\n",
    "reduced_df = reduced_df.replace('%','', regex=True)\n",
    "\n",
    "reduced_df[convert_cols] = reduced_df[convert_cols].astype(float)/100"
   ]
  },
  {
   "cell_type": "markdown",
   "id": "7cd21d57",
   "metadata": {},
   "source": [
    "### *CDC Vaccination - Initial Data Cleaning - *** - Greg's function"
   ]
  },
  {
   "cell_type": "code",
   "execution_count": null,
   "id": "313e8714",
   "metadata": {},
   "outputs": [],
   "source": [
    "#function formats the CDC dataframe for US jursdictions - see below for input formats\n",
    "def CDC_format(df,key,date,add_str,drop_values): #key, filt -> str; length -> int; columns, drop_values -> list\n",
    "    df = df.dropna(subset=[key])\n",
    "    df = df[vac_df['Date'] == date]\n",
    "    df = df[~df[key].isin(drop_values)]\n",
    "    df[key] = add_str + vac_df[key].astype(str)\n",
    "    df.reset_index(drop = True, inplace = True)\n",
    "    return df"
   ]
  },
  {
   "cell_type": "code",
   "execution_count": null,
   "id": "027fee09",
   "metadata": {},
   "outputs": [],
   "source": [
    "drop = ['DD2','FM','AS','VI','BP2','IH2','GU','PN','PR','VA2','PW','US','MP','MH']\n",
    "vac_df = CDC_format(vac_df,'Location','12/28/2022','US_',drop)\n",
    "vac_df_2 = CDC_format(vac_df,'Location','12/28/2022','US_',drop)"
   ]
  },
  {
   "cell_type": "markdown",
   "id": "8fbd5b01",
   "metadata": {},
   "source": [
    "### *Creating New DataFrames for Analysis -* -- Aaliyah, Evan, Greg, Joanna, and Kendal (please check this area)"
   ]
  },
  {
   "cell_type": "code",
   "execution_count": null,
   "id": "b3e2ca9a",
   "metadata": {},
   "outputs": [],
   "source": [
    "## Brainstorm a list of words to filter the 'Project Description' column by.\n",
    "    # this list will be used to filter that column so that we are only working with projects that\n",
    "    # are actually vaccine related.\n",
    "\n",
    "search_term_list = ['immunize', 'immunization','access to vaccines', 'spikevax', 'bivalent', 'novavax', 'two-dose', \n",
    "                    'single-dose', 'emergency use authoriztaion', 'vaccine coverage', \n",
    "                    'vaccine access', 'vaccine distribution', 'distribute vaccines', 'vaccine', 'vaccination', 'vaccinate', 'moderna', 'pfizer', 'johnson & johnson', 'janssen']\n",
    "\n",
    "covid_projects_df = all_states_df[all_states_df['Project Description'].str.contains('|'.join(search_term_list))]\n",
    "\n"
   ]
  },
  {
   "cell_type": "code",
   "execution_count": null,
   "id": "644d5616",
   "metadata": {},
   "outputs": [],
   "source": [
    "### Clean up values preventing change of data type to int\n",
    "covid_projects_df[['Adopted Budget','Total Cumulative Obligations','Total Cumulative Expenditures']] = covid_projects_df[['Adopted Budget','Total Cumulative Obligations', 'Total Cumulative Expenditures']].replace(['-', ' '] ,'', regex=True)\n",
    "\n",
    "\n",
    "numeric_cols = ['Adopted Budget','Total Cumulative Obligations', 'Total Cumulative Expenditures']\n",
    "\n",
    "\n",
    "### Convert budget columns to int for summarizing in groupby:\n",
    "covid_projects_df = covid_projects_df.replace(',','', regex=True)\n",
    "covid_projects_df[numeric_cols] = covid_projects_df[numeric_cols].apply(pd.to_numeric)\n"
   ]
  },
  {
   "cell_type": "code",
   "execution_count": null,
   "id": "08264534",
   "metadata": {},
   "outputs": [],
   "source": [
    "### Group the filtered dataframe by state, summing applicable $ value columns\n",
    "    # if errors, clean columns causing errors. \n",
    "    # eg) 'Adopted Budget' column has values containing \"-\". This might prevent the .sum() function from working\n",
    "\n",
    "covid_sums_df = covid_projects_df.groupby(['State/Territory'], as_index=False).sum(['Adopted Budget', 'Total Cumulative Obligations', \n",
    "                                                                        'Total Cumulative Expenditures'])\n",
    "\n",
    "### add abbreviated state name column and reorder so the abbrev is after full state name column:\n",
    "covid_sums_df['Location'] = covid_sums_df['State/Territory'].map(us_state_to_abbrev)\n",
    "covid_sums_df = covid_sums_df[['State/Territory', 'Location', 'Adopted Budget', \n",
    "                                       'Total Cumulative Obligations', 'Total Cumulative Expenditures']]\n",
    "covid_counts_df = covid_projects_df.groupby(['State/Territory'], as_index=False).count()[['State/Territory', 'Project ID']]\n",
    "\n",
    "### Now merge the vaccine projects count by state onto the state_spending_df:\n",
    "\n",
    "state_spending_df = pd.merge(covid_sums_df, covid_counts_df, how ='inner', on =('State/Territory'))\n",
    "### Rename the counted 'Project ID' column for clarity:\n",
    "state_spending_df.rename(columns = {'Project ID':'Count of Vaccine Projects'}, inplace = True)\n"
   ]
  },
  {
   "cell_type": "code",
   "execution_count": null,
   "id": "7690389e",
   "metadata": {},
   "outputs": [],
   "source": [
    "### merge this data frame with Evan's \"state_spending_df\". Merge on the state columns.\n",
    "    # https://pandas.pydata.org/docs/reference/api/pandas.DataFrame.merge.html\n",
    "    # https://www.geeksforgeeks.org/how-to-join-pandas-dataframes-using-merge/#\n",
    "\n",
    "### EARN_states combines the three budget columns from \"All_US_Projects\" sheet with the entire \"State Summary Table\" sheet.\n",
    "### The three budget columns are filtered for covid projects, but all dollar value columns in the \"State Summary Table\" are not filtered by covid projects.\n",
    "\n",
    "EARN_states = pd.merge(state_spending_df, reduced_df, how ='inner', on =(['State/Territory', 'Location']))\n"
   ]
  },
  {
   "cell_type": "code",
   "execution_count": null,
   "id": "fd4974a1",
   "metadata": {},
   "outputs": [],
   "source": [
    "### Add column to show percent of fed money spent per State:\n",
    "### [Total Cumulative Expenditures]/[total state plus total local federal grant]\n",
    "### sortby this new percent column.\n",
    "\n",
    "EARN_states['Percent Spent on Covid Projects'] = state_spending_df['Total Cumulative Expenditures']/EARN_states['total state plus total local federal grant']\n",
    "\n",
    "EARN_states.sort_values(by=['Percent Spent on Covid Projects'], ascending=False, inplace= True)\n"
   ]
  },
  {
   "cell_type": "code",
   "execution_count": null,
   "id": "cdaee3b5",
   "metadata": {},
   "outputs": [],
   "source": [
    "### \"all_us_projects_df\" is for (2) from Joanna's slack message request:\n",
    "all_us_projects_df = all_states_df[['Recipient Name', 'State/Territory', 'Recipient Type', \n",
    "                                    'Completion Status', 'Project Name', 'Expenditure Category Group', 'Expenditure Category', \n",
    "                                    'Project Description', 'Adopted Budget', 'Total Cumulative Obligations', \n",
    "                                    'Total Cumulative Expenditures']].copy()\n",
    "\n",
    "\n",
    "all_us_projects_df['State/Territory'] = all_us_projects_df['State/Territory'].map(us_state_to_abbrev)\n",
    "all_us_projects_df.rename(columns = {'State/Territory':'State'}, inplace = True)\n",
    "\n",
    "all_us_projects_df[['Adopted Budget','Total Cumulative Obligations',\n",
    "                   'Total Cumulative Expenditures']] = all_us_projects_df[['Adopted Budget',\n",
    "       'Total Cumulative Obligations', 'Total Cumulative Expenditures']].replace(['-', ' '] ,'', regex=True)\n",
    "\n",
    "\n",
    "numeric_cols = ['Adopted Budget',\n",
    "       'Total Cumulative Obligations', 'Total Cumulative Expenditures']\n",
    "\n",
    "\n",
    "### convert budget columns to int for summarizing in groupby:\n",
    "all_us_projects_df = all_us_projects_df.replace(',','', regex=True)\n",
    "all_us_projects_df[numeric_cols] = all_us_projects_df[numeric_cols].apply(pd.to_numeric)"
   ]
  },
  {
   "cell_type": "code",
   "execution_count": null,
   "id": "562ccb44",
   "metadata": {},
   "outputs": [],
   "source": [
    "### \"us_covid_projects_df\" is for (3) from Joanna's slack message:\n",
    "us_covid_projects_df = all_us_projects_df[all_us_projects_df['Project Description'].str.contains('|'.join(search_term_list))]"
   ]
  },
  {
   "cell_type": "code",
   "execution_count": null,
   "id": "d56a0855",
   "metadata": {},
   "outputs": [],
   "source": [
    "# get all the columns we will be interested in into one dataframe\n",
    "# NOTE: there is no Pop_Pct column for the administered_bivalent, and second_booster only for the age breakouts\n",
    "# but we can extrapolate from their other population calculations to calculate these. For second_booster to get state numbers\n",
    "# we have to add up the vaccines from the different manufacturers because we don't have them already summed.\n",
    "\n",
    "vac_df = pd.DataFrame(data=vac_df, columns=[\"Location\", \"Distributed\", \"Administered\", \"Recip_Administered\",\n",
    "                                                   \"Administered_Dose1_Recip\", \"Administered_Dose1_Pop_Pct\",\n",
    "                                                   \"Administered_Dose1_Recip_5Plus\", \"Administered_Dose1_Recip_5PlusPop_Pct\",\n",
    "                                                  \"Administered_Dose1_Recip_12Plus\", \"Administered_Dose1_Recip_12PlusPop_Pct\",\n",
    "                                                  \"Administered_Dose1_Recip_18Plus\", \"Administered_Dose1_Recip_18PlusPop_Pct\",\n",
    "                                                  \"Administered_Dose1_Recip_65Plus\", \"Administered_Dose1_Recip_65PlusPop_Pct\",\n",
    "                                                  \"Series_Complete_Yes\", \"Series_Complete_Pop_Pct\", \"Series_Complete_5Plus\",\n",
    "                                                \"Series_Complete_5PlusPop_Pct\", \"Series_Complete_12Plus\",\n",
    "                                                \"Series_Complete_12PlusPop_Pct\", \"Series_Complete_18Plus\",\n",
    "                                                \"Series_Complete_18PlusPop_Pct\", \"Series_Complete_65Plus\",\n",
    "                                                \"Series_Complete_65PlusPop_Pct\", \"Additional_Doses\",\n",
    "                                                   \"Additional_Doses_Vax_Pct\", \"Additional_Doses_5Plus\",\n",
    "                                                   \"Additional_Doses_5Plus_Vax_Pct\", \"Additional_Doses_12Plus\",\n",
    "                                                   \"Additional_Doses_12Plus_Vax_Pct\", \"Additional_Doses_18Plus\",\n",
    "                                                   \"Additional_Doses_18Plus_Vax_Pct\", \"Additional_Doses_50Plus\",\n",
    "                                                   \"Additional_Doses_50Plus_Vax_Pct\", \"Additional_Doses_65Plus\",\n",
    "                                                   \"Additional_Doses_65Plus_Vax_Pct\", \"Second_Booster_50Plus\",\n",
    "                                                   \"Second_Booster_50Plus_Vax_Pct\", \"Second_Booster_65Plus\",\n",
    "                                                   \"Second_Booster_65Plus_Vax_Pct\", \"Second_Booster_Janssen\",\n",
    "                                                    \"Second_Booster_Moderna\", \"Second_Booster_Pfizer\",\n",
    "                                                    \"Second_Booster_Unk_Manuf\", \"Administered_Bivalent\",\n",
    "                                                   \"Bivalent_Booster_5Plus\", \"Bivalent_Booster_5Plus_Pop_Pct\",\n",
    "                                                   \"Bivalent_Booster_12Plus\", \"Bivalent_Booster_12Plus_Pop_Pct\",\n",
    "                                                   \"Bivalent_Booster_18Plus\", \"Bivalent_Booster_18Plus_Pop_Pct\",\n",
    "                                                \"Bivalent_Booster_65Plus\", \"Bivalent_Booster_65Plus_Pop_Pct\"])"
   ]
  },
  {
   "cell_type": "code",
   "execution_count": null,
   "id": "293f3cec",
   "metadata": {},
   "outputs": [],
   "source": [
    "# remove commas from numeric columns\n",
    "# convert numeric columns to correct type\n",
    "vac_df = vac_df.replace(',','', regex=True)\n",
    "numeric_cols = [\"Distributed\", \"Administered\", \"Recip_Administered\", \"Administered_Dose1_Recip\", \"Administered_Dose1_Pop_Pct\",\n",
    "                \"Administered_Dose1_Recip_5Plus\", \"Administered_Dose1_Recip_5PlusPop_Pct\", \"Administered_Dose1_Recip_12Plus\",\n",
    "                \"Administered_Dose1_Recip_12PlusPop_Pct\", \"Administered_Dose1_Recip_18Plus\",\n",
    "                \"Administered_Dose1_Recip_18PlusPop_Pct\", \"Administered_Dose1_Recip_65Plus\",\n",
    "                \"Administered_Dose1_Recip_65PlusPop_Pct\", \"Series_Complete_Yes\", \"Series_Complete_Pop_Pct\",\n",
    "                \"Series_Complete_5Plus\", \"Series_Complete_12Plus\", \"Series_Complete_12PlusPop_Pct\", \"Series_Complete_18Plus\",\n",
    "                \"Series_Complete_18PlusPop_Pct\", \"Series_Complete_65Plus\", \"Series_Complete_65PlusPop_Pct\", \"Additional_Doses\",\n",
    "                \"Additional_Doses_Vax_Pct\", \"Additional_Doses_5Plus\", \"Additional_Doses_5Plus_Vax_Pct\", \"Additional_Doses_12Plus\",\n",
    "                \"Additional_Doses_12Plus_Vax_Pct\", \"Additional_Doses_18Plus\", \"Additional_Doses_18Plus_Vax_Pct\",\n",
    "                \"Additional_Doses_50Plus\", \"Additional_Doses_50Plus_Vax_Pct\", \"Additional_Doses_65Plus\",\n",
    "                \"Additional_Doses_65Plus_Vax_Pct\", \"Second_Booster_50Plus\", \"Second_Booster_50Plus_Vax_Pct\",\n",
    "                \"Second_Booster_65Plus\", \"Second_Booster_65Plus_Vax_Pct\", \"Second_Booster_Janssen\",\n",
    "                \"Second_Booster_Moderna\", \"Second_Booster_Pfizer\", \"Second_Booster_Unk_Manuf\", \"Administered_Bivalent\",\n",
    "                \"Bivalent_Booster_5Plus\", \"Bivalent_Booster_5Plus_Pop_Pct\", \"Bivalent_Booster_12Plus\",\n",
    "                \"Bivalent_Booster_12Plus_Pop_Pct\", \"Bivalent_Booster_18Plus\", \"Bivalent_Booster_18Plus_Pop_Pct\"]\n",
    "vac_df[numeric_cols] = vac_df[numeric_cols].apply(pd.to_numeric)"
   ]
  },
  {
   "cell_type": "code",
   "execution_count": null,
   "id": "003bcedb",
   "metadata": {},
   "outputs": [],
   "source": [
    "#create df with only columns related to choropleth maps\n",
    "\n",
    "#change location to match state code for choropleth maps\n",
    "vac_df_2['Location'] = vac_df_2['Location'].str.replace('US_', '')\n",
    "\n",
    "choropleth_vac_df = vac_df_2[['Location', \n",
    "                            'Distributed', \n",
    "                            'Administered', \n",
    "                            'Administered_Dose1_Pop_Pct', \n",
    "                            'Series_Complete_Pop_Pct', \n",
    "                            'Series_Complete_5PlusPop_Pct', \n",
    "                            'Series_Complete_12PlusPop_Pct', \n",
    "                            'Series_Complete_18PlusPop_Pct', \n",
    "                            'Series_Complete_65PlusPop_Pct', \n",
    "                            'Additional_Doses_Vax_Pct', \n",
    "                            'Additional_Doses_65Plus_Vax_Pct', \n",
    "                            'Second_Booster_65Plus_Vax_Pct', \n",
    "                            'Bivalent_Booster_5Plus_Pop_Pct', \n",
    "                            'Bivalent_Booster_12Plus_Pop_Pct', \n",
    "                            'Bivalent_Booster_18Plus_Pop_Pct', \n",
    "                            'Bivalent_Booster_65Plus_Pop_Pct']]\n",
    "choropleth_vac_df"
   ]
  },
  {
   "cell_type": "markdown",
   "id": "9afeacbb",
   "metadata": {},
   "source": [
    "# Analysis & Visualization - Mostly Greg, Joanna, and Kendal -- please check that the line regression stuff matches and that the DFs it is based on are as they should be"
   ]
  },
  {
   "cell_type": "markdown",
   "id": "98cda930",
   "metadata": {},
   "source": [
    "### *Line Regression -*"
   ]
  },
  {
   "cell_type": "code",
   "execution_count": null,
   "id": "27dda8e5",
   "metadata": {},
   "outputs": [],
   "source": [
    "# calculate totals for second booster\n",
    "vac_df[\"Second_Booster_Total\"] = (vac_df[\"Second_Booster_Janssen\"] + vac_df[\"Second_Booster_Moderna\"]\n",
    "                                + vac_df[\"Second_Booster_Pfizer\"] + vac_df[\"Second_Booster_Unk_Manuf\"])\n",
    "# find their population number... ok this is off. ???\n",
    "# I don't know why it is appearing they used different population numbers. Something is weird here. We could just use a number\n",
    "# from the census, or just ignore the second booster.\n",
    "vac_df[\"Pop1\"] = vac_df[\"Series_Complete_Yes\"] / (vac_df[\"Series_Complete_Pop_Pct\"]/100)\n",
    "vac_df[\"Pop2\"] = vac_df[\"Administered_Dose1_Recip\"] / (vac_df[\"Administered_Dose1_Pop_Pct\"]/100)\n",
    "\n",
    "vac_pops_df = pd.DataFrame(data=vac_df, columns=[\"Location\", \"Pop1\", \"Pop2\"])\n"
   ]
  },
  {
   "cell_type": "code",
   "execution_count": null,
   "id": "13dbc0c7",
   "metadata": {},
   "outputs": [],
   "source": [
    "# df with vax data for all ages\n",
    "vac_all_ages_df = pd.DataFrame(data=vac_df, columns=[\"Location\", \"Distributed\", \"Administered\", \"Recip_Administered\",\n",
    "                                                   \"Administered_Dose1_Recip\", \"Administered_Dose1_Pop_Pct\",\n",
    "                                                    \"Series_Complete_Yes\", \"Series_Complete_Pop_Pct\",\n",
    "                                                     \"Additional_Doses\", \"Additional_Doses_Vax_Pct\", \"Administered_Bivalent\"])\n",
    "\n",
    "# add 'Dose Differential' column to track doses administered to nonresidents. Negative number = doses leaving the state\n",
    "vac_all_ages_df[\"Dose Differential\"] = vac_all_ages_df[\"Administered\"] - vac_all_ages_df[\"Recip_Administered\"]\n",
    "vac_all_ages_df[\"Dose Diff. as Pct of Doses Given\"] = abs(vac_all_ages_df[\"Dose Differential\"] / vac_all_ages_df[\"Administered\"])\n",
    "vac_all_ages_df[\"Dose Diff. as Pct of Residents Vaxxed\"] = abs(vac_all_ages_df[\"Dose Differential\"] / vac_all_ages_df[\"Recip_Administered\"])\n"
   ]
  },
  {
   "cell_type": "code",
   "execution_count": null,
   "id": "ca3ca5f3",
   "metadata": {},
   "outputs": [],
   "source": [
    "# df with dose differential between doses administered in a state and doses received by residents of a state\n",
    "vac_dd_df = pd.DataFrame(data=vac_all_ages_df, columns=[\"Location\", \"Distributed\", \"Administered\", \"Recip_Administered\", \"Dose Differential\",\n",
    "                         \"Dose Diff. as Pct of Doses Given\", \"Dose Diff. as Pct of Residents Vaxxed\", \"Administered_Dose1_Pop_Pct\", \"Series_Complete_Pop_Pct\",\n",
    "                         \"Additional_Doses_Vax_Pct\"])"
   ]
  },
  {
   "cell_type": "code",
   "execution_count": null,
   "id": "d44f344f",
   "metadata": {},
   "outputs": [],
   "source": [
    "# get rows with negative dose differential (states that administered lots of vaccine to people living elsewhere)\n",
    "# sort in order of large differentials to small (as percent of total doses given)\n",
    "# for example: in NM at least 3.8% of the doses were given to people who lived elsewhere\n",
    "vac_dd_neg_df = vac_dd_df[vac_dd_df['Dose Differential'] < 1]\n",
    "vac_dd_neg_df = vac_dd_neg_df.sort_values(by=['Dose Diff. as Pct of Doses Given'], ascending=False)"
   ]
  },
  {
   "cell_type": "code",
   "execution_count": null,
   "id": "73ebd0d8",
   "metadata": {},
   "outputs": [],
   "source": [
    "# get rows with positive dose differential (states with a lot of residents who were vaccinated elsewhere)\n",
    "# sort in order of large differentials to small (as percent of total doses given)\n",
    "# for example: in Arizona, at least 2.6% of the vaccinated population received doses elsewhere.\n",
    "vac_dd_pos_df = vac_dd_df[vac_dd_df['Dose Differential'] >= 1]\n",
    "vac_dd_pos_df = vac_dd_pos_df.sort_values(by=['Dose Diff. as Pct of Residents Vaxxed'], ascending=False)"
   ]
  },
  {
   "cell_type": "code",
   "execution_count": null,
   "id": "5b19cd38",
   "metadata": {},
   "outputs": [],
   "source": [
    "# Checking on second booster columns\n",
    "vac_secondbooster_df = pd.DataFrame(data=vac_df, columns=[\"Location\", \"Second_Booster_50Plus\",\n",
    "                                                   \"Second_Booster_50Plus_Vax_Pct\", \"Second_Booster_65Plus\",\n",
    "                                                   \"Second_Booster_65Plus_Vax_Pct\", \"Second_Booster_Janssen\",\n",
    "                                                    \"Second_Booster_Moderna\", \"Second_Booster_Pfizer\",\n",
    "                                                    \"Second_Booster_Unk_Manuf\"])"
   ]
  },
  {
   "cell_type": "code",
   "execution_count": null,
   "id": "40fd4d88",
   "metadata": {},
   "outputs": [],
   "source": [
    "# find how many doses were distributed vs administered\n",
    "# calculate percent\n",
    "# sort alphabetically by state\n",
    "vac_waste_df = pd.DataFrame(data=vac_df, columns=[\"Location\", \"Distributed\", \"Administered\"])\n",
    "vac_waste_df[\"Pct. Administered\"] = vac_waste_df[\"Administered\"] / vac_waste_df[\"Distributed\"]\n",
    "vac_waste_df.sort_values('Location')"
   ]
  },
  {
   "cell_type": "code",
   "execution_count": null,
   "id": "e2d9a20d",
   "metadata": {},
   "outputs": [],
   "source": [
    "# Show best 10 states in vaccine distribution percentage\n",
    "vac_waste_best_df = vac_waste_df.sort_values('Pct. Administered', ascending=False)\n",
    "vac_waste_best_df.head(10)"
   ]
  },
  {
   "cell_type": "code",
   "execution_count": null,
   "id": "dab04165",
   "metadata": {},
   "outputs": [],
   "source": [
    "# Show worst 10 states in vaccine distribution percentage\n",
    "vac_waste_worst_df = vac_waste_df.sort_values('Pct. Administered', ascending=True)\n",
    "vac_waste_worst_df.head(10)"
   ]
  },
  {
   "cell_type": "code",
   "execution_count": null,
   "id": "acd20dfa",
   "metadata": {},
   "outputs": [],
   "source": [
    "# whole pop info\n",
    "# NOTE: There is no percentage for the entire pop for bivalent so included the 5+ pop. If we have time, will pull in the same\n",
    "# census data they used to get the correct pct\n",
    "# second booster only has 50+ and 65+ % -- I'm sure there must be some reason for this, not sure what\n",
    "vac_whole_pop_df = pd.DataFrame(data=vac_df, columns=[\"Location\", \"Distributed\", \"Administered\", \"Recip_Administered\",\n",
    "                                                   \"Administered_Dose1_Recip\", \"Administered_Dose1_Pop_Pct\",\n",
    "                                                   \"Series_Complete_Yes\", \"Series_Complete_Pop_Pct\", \n",
    "                                                    \"Additional_Doses\", \"Additional_Doses_Vax_Pct\", \"Second_Booster_Total\", \n",
    "                                                    \"Second_Booster_Janssen\", \"Second_Booster_Moderna\", \"Second_Booster_Pfizer\",\n",
    "                                                    \"Second_Booster_Unk_Manuf\", \"Administered_Bivalent\", \"Bivalent_Booster_5Plus\", \n",
    "                                                      \"Bivalent_Booster_5Plus_Pop_Pct\"])"
   ]
  },
  {
   "cell_type": "code",
   "execution_count": null,
   "id": "f5410307",
   "metadata": {},
   "outputs": [],
   "source": [
    "vac_5plus_df = pd.DataFrame(data=vac_df, columns=[\"Location\", \n",
    "                                                   \"Administered_Dose1_Recip_5Plus\", \"Administered_Dose1_Recip_5PlusPop_Pct\",\n",
    "                                                  \"Series_Complete_5Plus\", \"Series_Complete_5PlusPop_Pct\",\n",
    "                                                   \"Additional_Doses_5Plus\", \"Additional_Doses_5Plus_Vax_Pct\", \n",
    "                                                   \"Bivalent_Booster_5Plus\", \"Bivalent_Booster_5Plus_Pop_Pct\"])"
   ]
  },
  {
   "cell_type": "code",
   "execution_count": null,
   "id": "1bc4a69d",
   "metadata": {},
   "outputs": [],
   "source": [
    "# 12 plus vaccinations\n",
    "vac_12plus_df = pd.DataFrame(data=vac_df, columns=[\"Location\", \"Administered_Dose1_Recip_12Plus\",\n",
    "                                                   \"Administered_Dose1_Recip_12PlusPop_Pct\", \"Series_Complete_12Plus\",\n",
    "                                                   \"Series_Complete_12PlusPop_Pct\", \"Additional_Doses_12Plus\",\n",
    "                                                   \"Additional_Doses_12Plus_Vax_Pct\", \"Bivalent_Booster_12Plus\",\n",
    "                                                   \"Bivalent_Booster_12Plus_Pop_Pct\"])"
   ]
  },
  {
   "cell_type": "code",
   "execution_count": null,
   "id": "ddbb5fc7",
   "metadata": {},
   "outputs": [],
   "source": [
    "# 18 plus vaccinations\n",
    "vac_18plus_df = pd.DataFrame(data=vac_df, columns=[\"Location\", \"Administered_Dose1_Recip_18Plus\",\n",
    "                                                   \"Administered_Dose1_Recip_18PlusPop_Pct\", \"Series_Complete_18Plus\",\n",
    "                                                   \"Series_Complete_18PlusPop_Pct\", \"Additional_Doses_18Plus\",\n",
    "                                                   \"Additional_Doses_18Plus_Vax_Pct\", \"Bivalent_Booster_18Plus\",\n",
    "                                                   \"Bivalent_Booster_18Plus_Pop_Pct\"])"
   ]
  },
  {
   "cell_type": "code",
   "execution_count": null,
   "id": "68315262",
   "metadata": {},
   "outputs": [],
   "source": [
    "# 65 plus vaccinations\n",
    "vac_65plus_df = pd.DataFrame(data=vac_df, columns=[\"Location\", \"Administered_Dose1_Recip_65Plus\",\n",
    "                                                   \"Administered_Dose1_Recip_65PlusPop_Pct\", \"Series_Complete_65Plus\",\n",
    "                                                   \"Series_Complete_65PlusPop_Pct\", \"Additional_Doses_65Plus\",\n",
    "                                                   \"Additional_Doses_65Plus_Vax_Pct\", \"Second_Booster_50Plus\",\n",
    "                                                   \"Second_Booster_50Plus_Vax_Pct\", \"Second_Booster_65Plus\",\n",
    "                                                   \"Second_Booster_65Plus_Vax_Pct\", \"Bivalent_Booster_65Plus\",\n",
    "                                                   \"Bivalent_Booster_65Plus_Pop_Pct\"])"
   ]
  },
  {
   "cell_type": "code",
   "execution_count": null,
   "id": "a088deda",
   "metadata": {},
   "outputs": [],
   "source": [
    "# first dose info\n",
    "\n",
    "vac_firstdose_df = pd.DataFrame(data=vac_df, columns=[\"Location\", \"Administered_Dose1_Recip\", \"Administered_Dose1_Pop_Pct\",\n",
    "                                                   \"Administered_Dose1_Recip_5Plus\", \"Administered_Dose1_Recip_5PlusPop_Pct\",\n",
    "                                                  \"Administered_Dose1_Recip_12Plus\", \"Administered_Dose1_Recip_12PlusPop_Pct\",\n",
    "                                                  \"Administered_Dose1_Recip_18Plus\", \"Administered_Dose1_Recip_18PlusPop_Pct\",\n",
    "                                                  \"Administered_Dose1_Recip_65Plus\", \"Administered_Dose1_Recip_65PlusPop_Pct\"])"
   ]
  },
  {
   "cell_type": "code",
   "execution_count": null,
   "id": "117ac018",
   "metadata": {},
   "outputs": [],
   "source": [
    "# series complete info\n",
    "vac_series_complete_df = pd.DataFrame(data=vac_df, columns=[\"Location\", \"Series_Complete_Yes\", \"Series_Complete_Pop_Pct\",\n",
    "                                                            \"Series_Complete_5Plus\", \"Series_Complete_5PlusPop_Pct\",\n",
    "                                                            \"Series_Complete_12Plus\", \"Series_Complete_12PlusPop_Pct\",\n",
    "                                                            \"Series_Complete_18Plus\", \"Series_Complete_18PlusPop_Pct\",\n",
    "                                                            \"Series_Complete_65Plus\", \"Series_Complete_65PlusPop_Pct\"])"
   ]
  },
  {
   "cell_type": "code",
   "execution_count": null,
   "id": "62176f55",
   "metadata": {},
   "outputs": [],
   "source": [
    "vac_additional_doses_df = pd.DataFrame(data=vac_df, columns=[\"Location\", \"Additional_Doses\",\n",
    "                                                   \"Additional_Doses_Vax_Pct\", \"Additional_Doses_5Plus\",\n",
    "                                                   \"Additional_Doses_5Plus_Vax_Pct\", \"Additional_Doses_12Plus\",\n",
    "                                                   \"Additional_Doses_12Plus_Vax_Pct\", \"Additional_Doses_18Plus\",\n",
    "                                                   \"Additional_Doses_18Plus_Vax_Pct\", \"Additional_Doses_50Plus\",\n",
    "                                                   \"Additional_Doses_50Plus_Vax_Pct\", \"Additional_Doses_65Plus\",\n",
    "                                                   \"Additional_Doses_65Plus_Vax_Pct\"])"
   ]
  },
  {
   "cell_type": "code",
   "execution_count": null,
   "id": "4e5ae1bf",
   "metadata": {},
   "outputs": [],
   "source": [
    "vac_second_booster_df = pd.DataFrame(data=vac_df, columns=[\"Location\", \"Second_Booster_50Plus\",\n",
    "                                                           \"Second_Booster_50Plus_Vax_Pct\", \"Second_Booster_65Plus\",\n",
    "                                                           \"Second_Booster_65Plus_Vax_Pct\", \"Second_Booster_Total\",\n",
    "                                                           \"Second_Booster_Janssen\", \"Second_Booster_Moderna\",\n",
    "                                                           \"Second_Booster_Pfizer\", \"Second_Booster_Unk_Manuf\"])\n"
   ]
  },
  {
   "cell_type": "code",
   "execution_count": null,
   "id": "ce21b4c3",
   "metadata": {},
   "outputs": [],
   "source": [
    "vac_bivalent_df = pd.DataFrame(data=vac_df, columns=[\"Location\", \"Administered_Bivalent\", \"Bivalent_Booster_5Plus\",\n",
    "                                                     \"Bivalent_Booster_5Plus_Pop_Pct\", \"Bivalent_Booster_12Plus\",\n",
    "                                                     \"Bivalent_Booster_12Plus_Pop_Pct\", \"Bivalent_Booster_18Plus\",\n",
    "                                                     \"Bivalent_Booster_18Plus_Pop_Pct\", \"Bivalent_Booster_65Plus\",\n",
    "                                                     \"Bivalent_Booster_65Plus_Pop_Pct\"])"
   ]
  },
  {
   "cell_type": "code",
   "execution_count": null,
   "id": "ea8bc34d",
   "metadata": {},
   "outputs": [],
   "source": [
    "#Adding regression analysis for combined financial and vaccination data (5/16/2023 - GM)\n",
    "\n",
    "combined_df = vac_whole_pop_df.merge(EARN_states, how = 'inner',on = 'Location')\n",
    "combined_df.columns"
   ]
  },
  {
   "cell_type": "code",
   "execution_count": null,
   "id": "19af02da",
   "metadata": {},
   "outputs": [],
   "source": [
    "combined_df = combined_df.dropna(axis = 0, how = 'any')\n",
    "combined_df.shape"
   ]
  },
  {
   "cell_type": "code",
   "execution_count": null,
   "id": "370ee9f7",
   "metadata": {},
   "outputs": [],
   "source": [
    "def pd_reg(df,x,y,x_text,y_text):\n",
    "    fig = sns.lmplot(data = df, x = x, y = y)\n",
    "    lm = LinearRegression() \n",
    "    X = df[[x]]\n",
    "    Y = df[y]\n",
    "    model = lm.fit(X,Y)\n",
    "    print(f\"For x = {x} and y = {y}:\")\n",
    "    print(f\"The R^2 score is: {model.score(X,Y)}\")\n",
    "    plt.text(x_text, y_text, f\"y = {'%.2f' %lm.coef_}x + {'%.1f' %lm.intercept_}\", color = 'black', fontsize = 16)\n",
    "    plt.show()\n",
    "    return model"
   ]
  },
  {
   "cell_type": "code",
   "execution_count": null,
   "id": "d61bac56",
   "metadata": {},
   "outputs": [],
   "source": [
    "#Adding the names of the columns that we want to use as regression features\n",
    "feat_list = ['Percent Spent on Covid Projects', 'Count of Vaccine Projects', 'total state plus total local federal grant']\n",
    "target = 'Administered_Dose1_Pop_Pct'"
   ]
  },
  {
   "cell_type": "code",
   "execution_count": null,
   "id": "78b62c26",
   "metadata": {},
   "outputs": [],
   "source": [
    "for var in feat_list:\n",
    "    print(f\"The regression feature is: {var}\")\n",
    "    pd_reg(combined_df, var, target, combined_df[var].mean(), combined_df[target].mean())"
   ]
  },
  {
   "cell_type": "code",
   "execution_count": null,
   "id": "d638860d",
   "metadata": {},
   "outputs": [],
   "source": [
    "target = 'Series_Complete_Pop_Pct'"
   ]
  },
  {
   "cell_type": "code",
   "execution_count": null,
   "id": "eb6140cd",
   "metadata": {},
   "outputs": [],
   "source": [
    "for var in feat_list:\n",
    "    print(f\"The regression feature is: {var}\")\n",
    "    pd_reg(combined_df, var, target, combined_df[var].mean(), combined_df[target].mean())"
   ]
  },
  {
   "cell_type": "code",
   "execution_count": null,
   "id": "f4687fdd",
   "metadata": {},
   "outputs": [],
   "source": [
    "#Looking at vac_dd_neg_df\n",
    "vac_dd_neg_fin = vac_dd_neg_df.merge(EARN_states, how = 'inner',on = 'Location')\n",
    "vac_dd_neg_fin.shape"
   ]
  },
  {
   "cell_type": "code",
   "execution_count": null,
   "id": "5befb6eb",
   "metadata": {},
   "outputs": [],
   "source": [
    "target = 'Dose Diff. as Pct of Doses Given'"
   ]
  },
  {
   "cell_type": "code",
   "execution_count": null,
   "id": "43019dd4",
   "metadata": {},
   "outputs": [],
   "source": [
    "for var in feat_list:\n",
    "    print(f\"The regression feature is: {var}\")\n",
    "    pd_reg(vac_dd_neg_fin, var, target, vac_dd_neg_fin[var].mean(), vac_dd_neg_fin[target].mean())"
   ]
  },
  {
   "cell_type": "code",
   "execution_count": null,
   "id": "4a994a5e",
   "metadata": {},
   "outputs": [],
   "source": [
    "#Looking at vac_dd_pos_df\n",
    "vac_dd_pos_fin = vac_dd_pos_df.merge(EARN_states, how = 'inner',on = 'Location')\n",
    "vac_dd_pos_fin.shape"
   ]
  },
  {
   "cell_type": "code",
   "execution_count": null,
   "id": "d116ea56",
   "metadata": {},
   "outputs": [],
   "source": [
    "target = 'Dose Diff. as Pct of Residents Vaxxed'"
   ]
  },
  {
   "cell_type": "code",
   "execution_count": null,
   "id": "792fc7ee",
   "metadata": {},
   "outputs": [],
   "source": [
    "for var in feat_list:\n",
    "    print(f\"The regression feature is: {var}\")\n",
    "    pd_reg(vac_dd_pos_fin, var, target, vac_dd_pos_fin[var].mean(), vac_dd_pos_fin[target].mean())"
   ]
  },
  {
   "cell_type": "markdown",
   "id": "0ed8e18f",
   "metadata": {},
   "source": [
    "### *Choropleth Maps -* - Kendal based on original code that Greg found via plotly express module"
   ]
  },
  {
   "cell_type": "code",
   "execution_count": null,
   "id": "84cd24b9",
   "metadata": {},
   "outputs": [],
   "source": [
    "#determining color range to use for the continuous color scale in choropleth maps for bivalent booster status\n",
    "choropleth_vac_bivalent = choropleth_vac_df[['Bivalent_Booster_5Plus_Pop_Pct', \n",
    "                                             'Bivalent_Booster_12Plus_Pop_Pct', \n",
    "                                             'Bivalent_Booster_18Plus_Pop_Pct', \n",
    "                                             'Bivalent_Booster_65Plus_Pop_Pct']]\n",
    "choropleth_vac_bivalent = choropleth_vac_bivalent\n",
    "min_bivalent_df = choropleth_vac_bivalent.min()\n",
    "max_bivalent_df = choropleth_vac_bivalent.max()\n",
    "min_color_range_bivalent = min_bivalent_df.min()\n",
    "max_color_range_bivalent = max_bivalent_df.max()\n",
    "print(f\"The color range for any bivalent vaccination status choropleth map should be ({min_color_range_bivalent}, {max_color_range_bivalent}).\")\n",
    "\n"
   ]
  },
  {
   "cell_type": "code",
   "execution_count": null,
   "id": "039484c5",
   "metadata": {},
   "outputs": [],
   "source": [
    "#determining color range to use for the continuous color scale in choropleth maps for fully vaccinated, and partially or fully vaccinated\n",
    "choropleth_vac_complete = choropleth_vac_df[['Administered_Dose1_Pop_Pct',\n",
    "                                             'Series_Complete_Pop_Pct',\n",
    "                                             'Series_Complete_5PlusPop_Pct', \n",
    "                                             'Series_Complete_12PlusPop_Pct', \n",
    "                                             'Series_Complete_18PlusPop_Pct', \n",
    "                                             'Series_Complete_65PlusPop_Pct']]\n",
    "choropleth_vac_complete = choropleth_vac_complete\n",
    "min_df = choropleth_vac_complete.min()\n",
    "max_df = choropleth_vac_complete.max()\n",
    "min_color_range = min_df.min()\n",
    "max_color_range = max_df.max()\n",
    "print(f\"The color range for any complete vaccination choropleth map should be ({min_color_range}, {max_color_range}).\")"
   ]
  },
  {
   "cell_type": "code",
   "execution_count": null,
   "id": "f5d45587",
   "metadata": {},
   "outputs": [],
   "source": [
    "fig_complete_total_pop = px.choropleth(choropleth_vac_df,\n",
    "                    locations='Location',\n",
    "                    locationmode=\"USA-states\",\n",
    "                    scope=\"usa\",\n",
    "                    color='Series_Complete_Pop_Pct',\n",
    "                    labels={'Series_Complete_Pop_Pct':'% of Population Fully Vaccinated'},\n",
    "                    color_continuous_scale=\"viridis_r\",\n",
    "                    range_color=(52,95),\n",
    "                    title='Vaccination Status by State - Fully Vaccinated'\n",
    "                    )\n",
    "fig_complete_total_pop"
   ]
  },
  {
   "cell_type": "code",
   "execution_count": null,
   "id": "0222b702",
   "metadata": {},
   "outputs": [],
   "source": [
    "fig_complete_5plus = px.choropleth(choropleth_vac_df,\n",
    "                    locations='Location',\n",
    "                    locationmode=\"USA-states\",\n",
    "                    scope=\"usa\",\n",
    "                    color='Series_Complete_5PlusPop_Pct',\n",
    "                    range_color=(52,95),\n",
    "                    labels={'Series_Complete_5PlusPop_Pct':'% of 5+ Population Fully Vaccinated'},\n",
    "                    color_continuous_scale=\"viridis_r\",\n",
    "                    title='Vaccination Status by State - Fully Vaccinated (5+)'\n",
    "                    )\n",
    "fig_complete_5plus"
   ]
  },
  {
   "cell_type": "code",
   "execution_count": null,
   "id": "22bc1d9c",
   "metadata": {},
   "outputs": [],
   "source": [
    "fig_complete_12plus = px.choropleth(choropleth_vac_df,\n",
    "                    locations='Location',\n",
    "                    locationmode=\"USA-states\",\n",
    "                    scope=\"usa\",\n",
    "                    color='Series_Complete_12PlusPop_Pct',\n",
    "                    labels={'Series_Complete_12PlusPop_Pct':'% of 12+ Population Fully Vaccinated'},\n",
    "                    color_continuous_scale=\"viridis_r\",\n",
    "                    range_color=(52,95),\n",
    "                    title='Vaccination Status by State - Fully Vaccinated (12+)'\n",
    "                    )\n",
    "fig_complete_12plus"
   ]
  },
  {
   "cell_type": "code",
   "execution_count": null,
   "id": "a67b282c",
   "metadata": {},
   "outputs": [],
   "source": [
    "fig_complete_18plus = px.choropleth(choropleth_vac_df,\n",
    "                    locations='Location',\n",
    "                    locationmode=\"USA-states\",\n",
    "                    scope=\"usa\",\n",
    "                    color='Series_Complete_18PlusPop_Pct',\n",
    "                    labels={'Series_Complete_18PlusPop_Pct':'% of 18+ Population Fully Vaccinated'},\n",
    "                    color_continuous_scale=\"viridis_r\",\n",
    "                    range_color=(52,95),\n",
    "                    title='Vaccination Status by State - Fully Vaccinated (18+)'\n",
    "                    )\n",
    "fig_complete_18plus"
   ]
  },
  {
   "cell_type": "code",
   "execution_count": null,
   "id": "b7177924",
   "metadata": {},
   "outputs": [],
   "source": [
    "fig_complete_65_plus = px.choropleth(choropleth_vac_df,\n",
    "                    locations='Location',\n",
    "                    locationmode=\"USA-states\",\n",
    "                    scope=\"usa\",\n",
    "                    color='Series_Complete_65PlusPop_Pct',\n",
    "                    range_color=(52,95),\n",
    "                    labels={'Series_Complete_65PlusPop_Pct':'% of 65+ Population Fully Vaccinated'},\n",
    "                    color_continuous_scale=\"viridis_r\", \n",
    "                    title='Vaccination Status by State & Age - Fully Vaccinated (65+)'\n",
    "                    )\n",
    "fig_complete_65_plus"
   ]
  },
  {
   "cell_type": "code",
   "execution_count": null,
   "id": "b7932bd5",
   "metadata": {},
   "outputs": [],
   "source": [
    "fig_at_least_1 = px.choropleth(choropleth_vac_df,\n",
    "                    locations='Location',\n",
    "                    locationmode=\"USA-states\",\n",
    "                    scope=\"usa\",\n",
    "                    color='Administered_Dose1_Pop_Pct',\n",
    "                    labels={'Administered_Dose1_Pop_Pct':'% of Population Partially or Fully Vaccinated'},\n",
    "                    color_continuous_scale=\"viridis_r\",\n",
    "                    range_color=(52,95),\n",
    "                    title='Vaccination Status by State - Partially or Fully Vaccinated'\n",
    "                    )\n",
    "fig_at_least_1"
   ]
  },
  {
   "cell_type": "code",
   "execution_count": null,
   "id": "16915660",
   "metadata": {},
   "outputs": [],
   "source": [
    "fig_bivalent_booster_5 = px.choropleth(choropleth_vac_df,\n",
    "                    locations='Location',\n",
    "                    locationmode=\"USA-states\",\n",
    "                    scope=\"usa\",\n",
    "                    color='Bivalent_Booster_5Plus_Pop_Pct',\n",
    "                    labels={'Bivalent_Booster_5Plus_Pop_Pct':'% of 5+ Population with Bivalent Booster'},\n",
    "                    color_continuous_scale=\"magma_r\",\n",
    "                    range_color=(5,63),\n",
    "                    title='Bivalent Booster Status by State - (5+)'\n",
    "                    )\n",
    "fig_bivalent_booster_5"
   ]
  },
  {
   "cell_type": "code",
   "execution_count": null,
   "id": "04120454",
   "metadata": {},
   "outputs": [],
   "source": [
    "fig_bivalent_booster_12 = px.choropleth(choropleth_vac_df,\n",
    "                    locations='Location',\n",
    "                    locationmode=\"USA-states\",\n",
    "                    scope=\"usa\",\n",
    "                    color='Bivalent_Booster_12Plus_Pop_Pct',\n",
    "                    labels={'Bivalent_Booster_12Plus_Pop_Pct':'% of 12+ Population with Bivalent Booster'},\n",
    "                    color_continuous_scale=\"magma_r\",  \n",
    "                    range_color=(5,63),\n",
    "                    title='Bivalent Booster Status by State - (12+)'\n",
    "                    )\n",
    "fig_bivalent_booster_12"
   ]
  },
  {
   "cell_type": "code",
   "execution_count": null,
   "id": "8832b4b5",
   "metadata": {},
   "outputs": [],
   "source": [
    "fig_bivalent_booster_18 = px.choropleth(choropleth_vac_df,\n",
    "                    locations='Location',\n",
    "                    locationmode=\"USA-states\",\n",
    "                    scope=\"usa\",\n",
    "                    color='Bivalent_Booster_18Plus_Pop_Pct',\n",
    "                    labels={'Bivalent_Booster_18Plus_Pop_Pct':'% of 18+ Population with Bivalent Booster'},\n",
    "                    color_continuous_scale=\"magma_r\",  \n",
    "                    range_color=(5,63),\n",
    "                    title='Bivalent Booster Status by State - (18+)'\n",
    "                    )\n",
    "fig_bivalent_booster_18"
   ]
  },
  {
   "cell_type": "code",
   "execution_count": null,
   "id": "da0e8fa5",
   "metadata": {},
   "outputs": [],
   "source": [
    "fig_bivalent_booster_65 = px.choropleth(choropleth_vac_df,\n",
    "                    locations='Location',\n",
    "                    locationmode=\"USA-states\",\n",
    "                    scope=\"usa\",\n",
    "                    color='Bivalent_Booster_65Plus_Pop_Pct',\n",
    "                    labels={'Bivalent_Booster_65Plus_Pop_Pct':'% of 65+ Population with Bivalent Booster'},\n",
    "                    color_continuous_scale=\"magma_r\",  \n",
    "                    range_color=(5,63),\n",
    "                    title='Bivalent Booster Status by State - (65+)'\n",
    "                    )\n",
    "fig_bivalent_booster_65"
   ]
  },
  {
   "cell_type": "code",
   "execution_count": null,
   "id": "9e2c5dae",
   "metadata": {},
   "outputs": [],
   "source": [
    "#boxplots showing spread of data across all 50 states and DC for selected columns\n",
    "boxplot = vac_df.boxplot(column=['Series_Complete_Pop_Pct', \n",
    "                                 'Administered_Dose1_Pop_Pct', \n",
    "                                 'Series_Complete_65PlusPop_Pct', \n",
    "                                 'Bivalent_Booster_65Plus_Pop_Pct'], \n",
    "                         grid=True,\n",
    "                         figsize = (20,15),\n",
    "                        )\n",
    "plt.title(\"Distribution of Vaccination Rates Across U.S. States\")\n",
    "plt.xticks([1, 2, 3, 4], ['% Pop. Fully Vaccinated', '% Pop. Partially  or Fully Vaccinated', '% Pop. Fully Vaccinated - 65+', '% Pop. Bivalent Booster - 65+'])\n",
    "plt.savefig('Resources/boxplot.png')"
   ]
  },
  {
   "cell_type": "code",
   "execution_count": null,
   "id": "d97b16f6",
   "metadata": {},
   "outputs": [],
   "source": [
    "#finding percentage of all projects that fall in each of the 7 expenditure category groups\n",
    "spending_overall = all_us_projects_df.groupby('Expenditure Category Group').count()\n",
    "total_projects = spending_overall['State'].sum()\n",
    "categories_percentage_overall = (spending_overall['State']/total_projects)*100\n",
    "categories_percentage_overall = pd.DataFrame(categories_percentage_overall)\n",
    "categories_percentage_overall.rename(columns={'State': '% of Total Projects'}, inplace=True)\n",
    "#categories_percentage_overall = categories_percentage_overall.reset_index()\n",
    "categories_percentage_overall"
   ]
  },
  {
   "cell_type": "code",
   "execution_count": null,
   "id": "36928100",
   "metadata": {},
   "outputs": [],
   "source": [
    "#finding percentage of covid-related projects that fall in each of the 7 expenditure category groups\n",
    "spending_covid_project = covid_projects_df.groupby(\"Expenditure Category Group\").count()\n",
    "total_projects_covid = spending_covid_project['Recipient Name'].sum()\n",
    "categories_percentage_covid = (spending_covid_project['Recipient Name']/total_projects_covid)*100\n",
    "categories_percentage_covid = pd.DataFrame(categories_percentage_covid)\n",
    "categories_percentage_covid.rename(columns={'Recipient Name':'% of Covid Projects'}, inplace=True)\n",
    "categories_percentage_covid.reset_index()"
   ]
  },
  {
   "cell_type": "code",
   "execution_count": null,
   "id": "1d7ff118",
   "metadata": {},
   "outputs": [],
   "source": [
    "#plotting expenditure categories - all projects\n",
    "overall_spend_group = categories_percentage_overall['% of Total Projects']\n",
    "categories_percentage_overall['Category']=['Public Health', 'Negative Economic Impacts', 'Public Health - Neg. Ec. Imp.', 'Premium Pay', 'Infrastructure', 'Revenue Replacement', 'Administrative']\n",
    "plt.pie(overall_spend_group, autopct='%1.0f%%', radius=2)\n",
    "plt.legend(categories_percentage_overall['Category'],\n",
    "           loc=\"center right\",\n",
    "           title='All Projects',\n",
    "           bbox_to_anchor=(1.6, 0, 0.5, 1))\n",
    "plt.savefig('Resources/category_spending_all', bbox_inches = 'tight')"
   ]
  },
  {
   "cell_type": "code",
   "execution_count": null,
   "id": "a7a96f6f",
   "metadata": {},
   "outputs": [],
   "source": [
    "#plotting expenditure categories - covid projects\n",
    "covid_spend_group = categories_percentage_covid['% of Covid Projects']\n",
    "categories_percentage_overall['Category']=['Public Health', 'Negative Economic Impacts', 'Public Health - Neg. Ec. Imp.', 'Premium Pay', 'Infrastructure', 'Revenue Replacement', 'Administrative']\n",
    "plt.pie(covid_spend_group, autopct='%1.0f%%', radius=2)\n",
    "plt.legend(categories_percentage_overall['Category'],\n",
    "           loc=\"center right\",\n",
    "           title='Covid Projects',\n",
    "           bbox_to_anchor=(1.6, 0, 0.5, 1))\n",
    "plt.savefig('Resources/category_spending_covid', bbox_inches = 'tight')\n"
   ]
  }
 ],
 "metadata": {
  "kernelspec": {
   "display_name": "Python 3 (ipykernel)",
   "language": "python",
   "name": "python3"
  },
  "language_info": {
   "codemirror_mode": {
    "name": "ipython",
    "version": 3
   },
   "file_extension": ".py",
   "mimetype": "text/x-python",
   "name": "python",
   "nbconvert_exporter": "python",
   "pygments_lexer": "ipython3",
   "version": "3.9.13"
  }
 },
 "nbformat": 4,
 "nbformat_minor": 5
}
